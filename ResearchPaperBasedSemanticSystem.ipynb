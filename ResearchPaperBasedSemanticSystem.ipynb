{
 "cells": [
  {
   "cell_type": "markdown",
   "id": "0b345305",
   "metadata": {
    "id": "0b345305"
   },
   "source": [
    "# Research Paper Based Semantic System\n",
    "by Tejas, Pranit and Tushar"
   ]
  },
  {
   "cell_type": "markdown",
   "id": "7d6b887d",
   "metadata": {
    "id": "7d6b887d"
   },
   "source": [
    "### Objective\n",
    "\n",
    "Develop a reliable generative search system currently we are using a research paper to build a prototype version of this project scale."
   ]
  },
  {
   "cell_type": "markdown",
   "id": "ab4c53a5",
   "metadata": {
    "id": "ab4c53a5"
   },
   "source": [
    "### Design"
   ]
  },
  {
   "cell_type": "markdown",
   "id": "ddec232b",
   "metadata": {
    "id": "ddec232b"
   },
   "source": [
    "The solution consists of a three-layered pipeline for research paper-based semantic search. The Embedding Layer processes PDFs by extracting, cleaning, and chunking text to preserve context before generating vector embeddings using SentenceTransformers from HuggingFace. These embeddings are stored in ChromaDB for retrieval. Choosing the right chunking strategy—fixed-length, semantic, or sliding window—is crucial for maintaining context. The Semantic Search Layer converts user queries into embeddings and performs vector similarity search in ChromaDB to retrieve the top results. A caching mechanism (e.g., Redis) enhances efficiency, while a re-ranking model (cross-encoder) improves result accuracy by refining search relevance.\n",
    "\n",
    "The Generation Layer uses Gemini 2.0 Flash Lite to construct responses based on retrieved snippets. The prompt is carefully designed to ensure structured, concise answers with citations, proper formatting, and handling of out-of-scope queries. To improve response quality, few-shot examples can be incorporated. This structured approach ensures that the system delivers accurate, well-formatted, and research-backed responses, making it a powerful tool for analyzing complex research documents efficiently. 🚀\n"
   ]
  },
  {
   "cell_type": "code",
   "execution_count": 1,
   "id": "kxaTyPqYPzoc",
   "metadata": {
    "colab": {
     "base_uri": "https://localhost:8080/"
    },
    "id": "kxaTyPqYPzoc",
    "outputId": "0eacb631-dced-4646-f113-4c1e1528f807"
   },
   "outputs": [
    {
     "name": "stdout",
     "output_type": "stream",
     "text": [
      "Installing sentence-transformers...\n",
      "Note: you may need to restart the kernel to use updated packages.\n",
      "Installing google-generativeai...\n"
     ]
    },
    {
     "name": "stderr",
     "output_type": "stream",
     "text": [
      "\n",
      "[notice] A new release of pip is available: 23.2.1 -> 25.0.1\n",
      "[notice] To update, run: python.exe -m pip install --upgrade pip\n"
     ]
    },
    {
     "name": "stdout",
     "output_type": "stream",
     "text": [
      "Note: you may need to restart the kernel to use updated packages.\n",
      "✅ All packages are installed and ready to use.\n"
     ]
    },
    {
     "name": "stderr",
     "output_type": "stream",
     "text": [
      "\n",
      "[notice] A new release of pip is available: 23.2.1 -> 25.0.1\n",
      "[notice] To update, run: python.exe -m pip install --upgrade pip\n"
     ]
    }
   ],
   "source": [
    "# Installing Pre-requisites\n",
    "\n",
    "import sys\n",
    "\n",
    "# Install packages if they are not already installed\n",
    "def install_packages():\n",
    "    packages = [\"pdfplumber\", \"tiktoken\", \"openai\", \"chromadb\", \"sentence-transformers\", \"google-generativeai\"]\n",
    "\n",
    "    for package in packages:\n",
    "        try:\n",
    "            __import__(package)\n",
    "        except ImportError:\n",
    "            print(f\"Installing {package}...\")\n",
    "            %pip install --quiet --upgrade {package}\n",
    "\n",
    "# Run the installation function\n",
    "install_packages()\n",
    "\n",
    "# Verify installations\n",
    "print(\"✅ All packages are installed and ready to use.\")"
   ]
  },
  {
   "cell_type": "markdown",
   "id": "ace0f25d",
   "metadata": {
    "id": "ace0f25d"
   },
   "source": [
    "## 1.Importing Important Library"
   ]
  },
  {
   "cell_type": "code",
   "execution_count": 3,
   "id": "e0f09fdf",
   "metadata": {
    "id": "e0f09fdf"
   },
   "outputs": [
    {
     "name": "stderr",
     "output_type": "stream",
     "text": [
      "c:\\Users\\anura\\OneDrive\\Documents\\TEJAS\\UpGrad\\Semantic Seach System Assignment\\myenv\\Lib\\site-packages\\tqdm\\auto.py:21: TqdmWarning: IProgress not found. Please update jupyter and ipywidgets. See https://ipywidgets.readthedocs.io/en/stable/user_install.html\n",
      "  from .autonotebook import tqdm as notebook_tqdm\n"
     ]
    }
   ],
   "source": [
    "# Import libraries that are required throughout the project\n",
    "import pandas as pd\n",
    "from operator import itemgetter\n",
    "from pathlib import Path\n",
    "import json\n",
    "import tiktoken\n",
    "import openai\n",
    "import chromadb\n",
    "import pdfplumber\n",
    "from typing import List, Tuple, Any\n",
    "from sentence_transformers import SentenceTransformer"
   ]
  },
  {
   "cell_type": "markdown",
   "id": "8db3c0ce",
   "metadata": {
    "id": "8db3c0ce"
   },
   "source": [
    "## 2.Read, Process, and Chunk the PDF Files\n"
   ]
  },
  {
   "cell_type": "code",
   "execution_count": 4,
   "id": "e4bed729",
   "metadata": {
    "id": "e4bed729"
   },
   "outputs": [],
   "source": [
    "# Currently the path is hardcoded\n",
    "#pdf_path = \"Principal-Sample-Life-Insurance-Policy.pdf\"\n",
    "pdf_path = \"EJ1172284.pdf\""
   ]
  },
  {
   "cell_type": "code",
   "execution_count": 5,
   "id": "2844bd90",
   "metadata": {
    "id": "2844bd90"
   },
   "outputs": [],
   "source": [
    "# Creating functions that would extract data from the pdf based on the structure\n",
    "\n",
    "\n",
    "def check_bboxes(word: dict, table_bbox: tuple) -> bool:\n",
    "    \"\"\"\n",
    "    Checks whether a word is inside a table bounding box.\n",
    "\n",
    "    Parameters:\n",
    "    - word (dict): A dictionary containing word coordinates with keys 'x0', 'top', 'x1', and 'bottom'.\n",
    "    - table_bbox (tuple): A tuple representing the bounding box of a table (x0, y0, x1, y1).\n",
    "\n",
    "    Returns:\n",
    "    - bool: True if the word is inside the table bounding box, otherwise False.\n",
    "    \"\"\"\n",
    "    try:\n",
    "        word_bbox = (word['x0'], word['top'], word['x1'], word['bottom'])\n",
    "        return (\n",
    "            word_bbox[0] > table_bbox[0] and\n",
    "            word_bbox[1] > table_bbox[1] and\n",
    "            word_bbox[2] < table_bbox[2] and\n",
    "            word_bbox[3] < table_bbox[3]\n",
    "        )\n",
    "    except KeyError as e:\n",
    "        print(f\"Missing key in word dictionary: {e}\")\n",
    "        return False\n",
    "\n",
    "def extract_text_from_pdf(pdf_path: str) -> List[Tuple[str, str]]:\n",
    "    \"\"\"\n",
    "    Extracts text and tables from a PDF while maintaining their chronological order.\n",
    "\n",
    "    Parameters:\n",
    "    - pdf_path (str): Path to the PDF file.\n",
    "\n",
    "    Returns:\n",
    "    - List[Tuple[str, str]]: A list of tuples containing page numbers and extracted text.\n",
    "    \"\"\"\n",
    "    full_text = []\n",
    "\n",
    "    try:\n",
    "        with pdfplumber.open(pdf_path) as pdf:\n",
    "            for p, page in enumerate(pdf.pages):\n",
    "                page_no = f\"Page {p + 1}\"\n",
    "                text = page.extract_text()\n",
    "\n",
    "                # Extract tables and their bounding boxes\n",
    "                tables = page.find_tables()\n",
    "                table_bboxes = [table.bbox for table in tables]\n",
    "                tables_data = [{'table': table.extract(), 'top': table.bbox[1]} for table in tables]\n",
    "\n",
    "                # Extract non-table words\n",
    "                words = page.extract_words()\n",
    "                non_table_words = [word for word in words if not any(check_bboxes(word, bbox) for bbox in table_bboxes)]\n",
    "\n",
    "                lines = []\n",
    "\n",
    "                # Cluster words and tables based on their vertical positions\n",
    "                for cluster in pdfplumber.utils.cluster_objects(non_table_words + tables_data, itemgetter('top'), tolerance=5):\n",
    "                    if 'text' in cluster[0]:  # Regular text\n",
    "                        try:\n",
    "                            lines.append(' '.join(word['text'] for word in cluster))\n",
    "                        except KeyError:\n",
    "                            pass\n",
    "                    elif 'table' in cluster[0]:  # Tables\n",
    "                        lines.append(json.dumps(cluster[0]['table']))\n",
    "\n",
    "                # Store page number and extracted content\n",
    "                full_text.append((page_no, \" \".join(lines)))\n",
    "\n",
    "    except Exception as e:\n",
    "        print(f\"Error processing PDF: {e}\")\n",
    "\n",
    "    return full_text"
   ]
  },
  {
   "cell_type": "markdown",
   "id": "0b0e6afc",
   "metadata": {
    "id": "0b0e6afc"
   },
   "source": [
    "*Now that we have defined the function for extracting the text and tables from a PDF, let's iterate and call this function for all the PDFs in our drive and store them in a list.*"
   ]
  },
  {
   "cell_type": "code",
   "execution_count": 6,
   "id": "e130d909",
   "metadata": {
    "colab": {
     "base_uri": "https://localhost:8080/"
    },
    "id": "e130d909",
    "outputId": "8a49f51e-287b-432c-d828-ee07abe40574"
   },
   "outputs": [
    {
     "name": "stdout",
     "output_type": "stream",
     "text": [
      "All PDFs have been processed.\n"
     ]
    }
   ],
   "source": [
    "# Call the function to extract the text from the PDF\n",
    "extracted_text = extract_text_from_pdf(pdf_path)\n",
    "# Convert the extracted list to a PDF, and add a column to store document names\n",
    "extracted_text_df = pd.DataFrame(extracted_text, columns=['Page No.', 'Page_Text'])\n",
    "print(\"All PDFs have been processed.\")"
   ]
  },
  {
   "cell_type": "code",
   "execution_count": 7,
   "id": "15c8e624",
   "metadata": {
    "colab": {
     "base_uri": "https://localhost:8080/",
     "height": 206
    },
    "id": "15c8e624",
    "outputId": "a1d4e8e3-b1c0-44ea-f377-b412f6cee407"
   },
   "outputs": [
    {
     "data": {
      "text/html": [
       "<div>\n",
       "<style scoped>\n",
       "    .dataframe tbody tr th:only-of-type {\n",
       "        vertical-align: middle;\n",
       "    }\n",
       "\n",
       "    .dataframe tbody tr th {\n",
       "        vertical-align: top;\n",
       "    }\n",
       "\n",
       "    .dataframe thead th {\n",
       "        text-align: right;\n",
       "    }\n",
       "</style>\n",
       "<table border=\"1\" class=\"dataframe\">\n",
       "  <thead>\n",
       "    <tr style=\"text-align: right;\">\n",
       "      <th></th>\n",
       "      <th>Page No.</th>\n",
       "      <th>Page_Text</th>\n",
       "    </tr>\n",
       "  </thead>\n",
       "  <tbody>\n",
       "    <tr>\n",
       "      <th>0</th>\n",
       "      <td>Page 1</td>\n",
       "      <td>The EUROCALL Review, Volume 25, No. 2, Septemb...</td>\n",
       "    </tr>\n",
       "    <tr>\n",
       "      <th>1</th>\n",
       "      <td>Page 2</td>\n",
       "      <td>The EUROCALL Review, Volume 25, No. 2, Septemb...</td>\n",
       "    </tr>\n",
       "    <tr>\n",
       "      <th>2</th>\n",
       "      <td>Page 3</td>\n",
       "      <td>The EUROCALL Review, Volume 25, No. 2, Septemb...</td>\n",
       "    </tr>\n",
       "    <tr>\n",
       "      <th>3</th>\n",
       "      <td>Page 4</td>\n",
       "      <td>The EUROCALL Review, Volume 25, No. 2, Septemb...</td>\n",
       "    </tr>\n",
       "    <tr>\n",
       "      <th>4</th>\n",
       "      <td>Page 5</td>\n",
       "      <td>The EUROCALL Review, Volume 25, No. 2, Septemb...</td>\n",
       "    </tr>\n",
       "  </tbody>\n",
       "</table>\n",
       "</div>"
      ],
      "text/plain": [
       "  Page No.                                          Page_Text\n",
       "0   Page 1  The EUROCALL Review, Volume 25, No. 2, Septemb...\n",
       "1   Page 2  The EUROCALL Review, Volume 25, No. 2, Septemb...\n",
       "2   Page 3  The EUROCALL Review, Volume 25, No. 2, Septemb...\n",
       "3   Page 4  The EUROCALL Review, Volume 25, No. 2, Septemb...\n",
       "4   Page 5  The EUROCALL Review, Volume 25, No. 2, Septemb..."
      ]
     },
     "execution_count": 7,
     "metadata": {},
     "output_type": "execute_result"
    }
   ],
   "source": [
    "extracted_text_df.head()"
   ]
  },
  {
   "cell_type": "code",
   "execution_count": 8,
   "id": "20e6b466",
   "metadata": {
    "colab": {
     "base_uri": "https://localhost:8080/",
     "height": 178
    },
    "id": "20e6b466",
    "outputId": "582db5cb-7fe0-497f-8b7b-92592fca828c",
    "scrolled": true
   },
   "outputs": [
    {
     "data": {
      "text/plain": [
       "'The EUROCALL Review, Volume 25, No. 2, September 2017 [[\"referred their students to electronic or online resources; however, they did not ask\"], [\"students to use them in classes, they did not recommend any mobile apps or design\"], [\"language tasks which required using such devices in order to solve them.\"], [\"4.5. Language practiced\"], [\"When asked to indicate the most frequently practiced language skills and subsystems by\"], [\"means of mobile devices, all the interviewees indicated the target language vocabulary.\"], [\"In addition to this, some referred to pronunciation and only a few students mentioned\"], [\"grammar and practicing reading, listening and speaking skills. As far as practicing\"], [\"English vocabulary is concerned, the subjects chose to practice it through their\"], [\"smartphones and/or tables because they regarded this language subsystem as the most\"], [\"important to learn, they praised their MobDs for providing them with quick and easy\"], [\"access to needed words and see the way they were used in given sentences. As was\"], [\"stressed by many of the interviewees, learning English vocabulary by means of mobile\"], [\"devices also allowed them to check correct pronunciation of words (i.e. they listened to\"], [\"it or paid attention to phonetic transcription of words). The following excerpts exemplify\"], [\"the most typical usage of MobDs by the study participants:\"]] the most typical usage of MobDs by the study participants: [[\"S3: (\\\\u2026) as for vocabulary I guess it\\\\u2019s much faster to search for words and know\"], [\"how to use them in sentences.\"], [\"S6: It\\\\u2019s easy and it\\\\u2019s very easy to look for words when I need them.\"], [\"S12: (\\\\u2026) I need vocabulary not only to communicate in English (\\\\u2026) when I look\"], [\"for words I look at contexts words are used (...) I always pay attention to\"], [\"spelling and also listen to pronunciation (How about phonetic transcription of\"], [\"words?) Phonetic transcription of words ... yes but not often unless audio is poor\"], [\"quality or it seems to sound somehow differently ... then I make sure how a\"], [\"word is pronounced and I read its phonetic transcription given there.\"]] word is pronounced and I read its phonetic transcription given there. [[\"As mentioned earlier, only a few students resorted to their MobDs in order to practice\"], [\"other language areas such as listening, reading and speaking as well as grammar. This\"], [\"is because they preferred more traditional resources (e.g. grammar books), they used\"], [\"other devices (e.g. laptop computers) or they regarded themselves as quite proficient in\"], [\"particular language skills and thus they did not feel the need to master them by way of\"], [\"MobDs. Representative excerpts from the interviewees\\\\u2019 responses follow:\"]] MobDs. Representative excerpts from the interviewees’ responses follow: [[\"S3: When it comes to grammar, for me it\\\\u2019s more convenient to use grammar\"], [\"books to learn it.\"], [\"S2: (\\\\u2026) I\\\\u2019m pretty good at English grammar and listening and I don\\\\u2019t have to\"], [\"use my smartphone to learn these language elements.\"], [\"S12: I think I\\\\u2019m quite good at grammar and I practice listening skills by means\"], [\"of my laptop computer.\"]] of my laptop computer. [[\"4.6. Study performance\"], [\"There is evidence that the use of mobile devices became an impetus for studying\"], [\"English more and learn this language more effectively and efficiently (this advantageous\"], [\"effect was expressed by as many as 15 or 75% interviewees). This is because access to\"], [\"a smartphone or a tablet allows some learners devote more time to learning English\"], [\"(S1: Yes, I think so. I think I spend more time ... If I was to use traditional materials,\"], [\"for example, books, I wouldn\\\\u2019t devote so much time to it.; S15: It seems to me that I\"], [\"dedicate more time to learn English this way and I learn more.), encouraged another\"], [\"student to learn more (S6: I\\\\u2019m more willing to use my smartphone than open a paper\"], [\"dictionary.) and allowed yet another subject to learn more vocabulary (S12: Yes,\"], [\"definitely. I wouldn\\\\u2019t have learned these words if I hadn\\\\u2019t used my phone.). Such\"], [\"beneficial outcomes of the use of MobDs are best described by one of the interviewees\"], [\"who said:\"]] who said: [[\"If I\\\\u2019m to say that I devote more time for learning English it\\\\u2019s because I can\"], [\"devote more time to learning it ... in the way I compare a paper dictionary with\"], [\"an online one ... for example to check one word ... If I use a traditional\"], [\"dictionary it takes me longer, say three minutes, but If I use an online dictionary\"], [\"it takes me, say, ten seconds (...) this way I can devote less time to looking for\"]] it takes me, say, ten seconds (...) this way I can devote less time to looking for 25'"
      ]
     },
     "execution_count": 8,
     "metadata": {},
     "output_type": "execute_result"
    }
   ],
   "source": [
    "extracted_text_df.Page_Text[7]"
   ]
  },
  {
   "cell_type": "code",
   "execution_count": 9,
   "id": "17c8fc4c",
   "metadata": {
    "id": "17c8fc4c"
   },
   "outputs": [],
   "source": [
    "extracted_text_df['Text_Length'] = extracted_text_df['Page_Text'].apply(lambda x: len(x.split(' ')))"
   ]
  },
  {
   "cell_type": "code",
   "execution_count": 10,
   "id": "ca7f1ae2",
   "metadata": {
    "colab": {
     "base_uri": "https://localhost:8080/",
     "height": 429
    },
    "id": "ca7f1ae2",
    "outputId": "68a7922e-11d5-4236-94e7-9f8a3fc5e24a"
   },
   "outputs": [
    {
     "data": {
      "text/plain": [
       "0     520\n",
       "1     703\n",
       "2     705\n",
       "3     662\n",
       "4     544\n",
       "5     492\n",
       "6     734\n",
       "7     766\n",
       "8     797\n",
       "9     508\n",
       "10    390\n",
       "Name: Text_Length, dtype: int64"
      ]
     },
     "execution_count": 10,
     "metadata": {},
     "output_type": "execute_result"
    }
   ],
   "source": [
    "extracted_text_df['Text_Length']"
   ]
  },
  {
   "cell_type": "code",
   "execution_count": 11,
   "id": "efe72a6a",
   "metadata": {
    "colab": {
     "base_uri": "https://localhost:8080/",
     "height": 206
    },
    "id": "efe72a6a",
    "outputId": "01ad21ef-b610-472d-92fd-4867ece4de5d"
   },
   "outputs": [
    {
     "data": {
      "text/html": [
       "<div>\n",
       "<style scoped>\n",
       "    .dataframe tbody tr th:only-of-type {\n",
       "        vertical-align: middle;\n",
       "    }\n",
       "\n",
       "    .dataframe tbody tr th {\n",
       "        vertical-align: top;\n",
       "    }\n",
       "\n",
       "    .dataframe thead th {\n",
       "        text-align: right;\n",
       "    }\n",
       "</style>\n",
       "<table border=\"1\" class=\"dataframe\">\n",
       "  <thead>\n",
       "    <tr style=\"text-align: right;\">\n",
       "      <th></th>\n",
       "      <th>Page No.</th>\n",
       "      <th>Page_Text</th>\n",
       "      <th>Text_Length</th>\n",
       "    </tr>\n",
       "  </thead>\n",
       "  <tbody>\n",
       "    <tr>\n",
       "      <th>0</th>\n",
       "      <td>Page 1</td>\n",
       "      <td>The EUROCALL Review, Volume 25, No. 2, Septemb...</td>\n",
       "      <td>520</td>\n",
       "    </tr>\n",
       "    <tr>\n",
       "      <th>1</th>\n",
       "      <td>Page 2</td>\n",
       "      <td>The EUROCALL Review, Volume 25, No. 2, Septemb...</td>\n",
       "      <td>703</td>\n",
       "    </tr>\n",
       "    <tr>\n",
       "      <th>2</th>\n",
       "      <td>Page 3</td>\n",
       "      <td>The EUROCALL Review, Volume 25, No. 2, Septemb...</td>\n",
       "      <td>705</td>\n",
       "    </tr>\n",
       "    <tr>\n",
       "      <th>3</th>\n",
       "      <td>Page 4</td>\n",
       "      <td>The EUROCALL Review, Volume 25, No. 2, Septemb...</td>\n",
       "      <td>662</td>\n",
       "    </tr>\n",
       "    <tr>\n",
       "      <th>4</th>\n",
       "      <td>Page 5</td>\n",
       "      <td>The EUROCALL Review, Volume 25, No. 2, Septemb...</td>\n",
       "      <td>544</td>\n",
       "    </tr>\n",
       "  </tbody>\n",
       "</table>\n",
       "</div>"
      ],
      "text/plain": [
       "  Page No.                                          Page_Text  Text_Length\n",
       "0   Page 1  The EUROCALL Review, Volume 25, No. 2, Septemb...          520\n",
       "1   Page 2  The EUROCALL Review, Volume 25, No. 2, Septemb...          703\n",
       "2   Page 3  The EUROCALL Review, Volume 25, No. 2, Septemb...          705\n",
       "3   Page 4  The EUROCALL Review, Volume 25, No. 2, Septemb...          662\n",
       "4   Page 5  The EUROCALL Review, Volume 25, No. 2, Septemb...          544"
      ]
     },
     "execution_count": 11,
     "metadata": {},
     "output_type": "execute_result"
    }
   ],
   "source": [
    "extracted_text_df = extracted_text_df.loc[extracted_text_df['Text_Length'] >= 10]\n",
    "extracted_text_df.head()"
   ]
  },
  {
   "cell_type": "markdown",
   "id": "505e3e1d",
   "metadata": {
    "id": "505e3e1d"
   },
   "source": [
    "###### Store the metadata for each page in a separate column\n",
    "\n"
   ]
  },
  {
   "cell_type": "code",
   "execution_count": 12,
   "id": "3a568bfe",
   "metadata": {
    "id": "3a568bfe"
   },
   "outputs": [],
   "source": [
    "extracted_text_df['Metadata'] = extracted_text_df.apply(lambda x: {'Page_No.': x['Page No.']}, axis=1)"
   ]
  },
  {
   "cell_type": "markdown",
   "id": "4989a1ff",
   "metadata": {
    "id": "4989a1ff"
   },
   "source": [
    "#### Chunking\n",
    "overlap chunking with chunk_size 300 and overlap 100 words\n"
   ]
  },
  {
   "cell_type": "code",
   "execution_count": 13,
   "id": "e750ca55",
   "metadata": {
    "id": "e750ca55"
   },
   "outputs": [],
   "source": [
    "def chunk_text(text, chunk_size=300, overlap_size=100):\n",
    "    \"\"\"\n",
    "    Splits the text into chunks with overlap.\n",
    "\n",
    "    Parameters:\n",
    "    - text: The text to be split.\n",
    "    - chunk_size: The size of each chunk (number of words).\n",
    "    - overlap_size: The number of words that should overlap between consecutive chunks.\n",
    "\n",
    "    Returns:\n",
    "    - chunks: A list of text chunks.\n",
    "    \"\"\"\n",
    "    words = text.split()\n",
    "    chunks = []\n",
    "\n",
    "    for i in range(0, len(words), chunk_size - overlap_size):\n",
    "        chunk = \" \".join(words[i:i + chunk_size])\n",
    "        chunks.append(chunk)\n",
    "\n",
    "    return chunks\n"
   ]
  },
  {
   "cell_type": "code",
   "execution_count": 14,
   "id": "36420bcd",
   "metadata": {
    "id": "36420bcd"
   },
   "outputs": [],
   "source": [
    "# Assuming extracted_text_df is your DataFrame containing the extracted text\n",
    "chunk_size = 300  # Number of words in each chunk\n",
    "overlap_size = 100  # Number of overlapping words between chunks\n",
    "\n",
    "# Create a new column in the DataFrame to store the chunks\n",
    "extracted_text_df['Chunks'] = extracted_text_df['Page_Text'].apply(lambda x: chunk_text(x, chunk_size, overlap_size))\n",
    "\n",
    "# Flatten the DataFrame to have one row per chunk\n",
    "chunked_df = extracted_text_df.explode('Chunks').reset_index(drop=True)\n",
    "\n",
    "# Add an identifier to each chunk to keep track of the page and chunk number\n",
    "chunked_df['Chunk_ID'] = chunked_df.index + 1\n"
   ]
  },
  {
   "cell_type": "code",
   "execution_count": 15,
   "id": "68f33500",
   "metadata": {
    "colab": {
     "base_uri": "https://localhost:8080/",
     "height": 310
    },
    "id": "68f33500",
    "outputId": "5002c45c-5853-44af-b6ec-e307e8685d4c"
   },
   "outputs": [
    {
     "data": {
      "text/html": [
       "<div>\n",
       "<style scoped>\n",
       "    .dataframe tbody tr th:only-of-type {\n",
       "        vertical-align: middle;\n",
       "    }\n",
       "\n",
       "    .dataframe tbody tr th {\n",
       "        vertical-align: top;\n",
       "    }\n",
       "\n",
       "    .dataframe thead th {\n",
       "        text-align: right;\n",
       "    }\n",
       "</style>\n",
       "<table border=\"1\" class=\"dataframe\">\n",
       "  <thead>\n",
       "    <tr style=\"text-align: right;\">\n",
       "      <th></th>\n",
       "      <th>Page No.</th>\n",
       "      <th>Page_Text</th>\n",
       "      <th>Text_Length</th>\n",
       "      <th>Metadata</th>\n",
       "      <th>Chunks</th>\n",
       "      <th>Chunk_ID</th>\n",
       "    </tr>\n",
       "  </thead>\n",
       "  <tbody>\n",
       "    <tr>\n",
       "      <th>0</th>\n",
       "      <td>Page 1</td>\n",
       "      <td>The EUROCALL Review, Volume 25, No. 2, Septemb...</td>\n",
       "      <td>520</td>\n",
       "      <td>{'Page_No.': 'Page 1'}</td>\n",
       "      <td>The EUROCALL Review, Volume 25, No. 2, Septemb...</td>\n",
       "      <td>1</td>\n",
       "    </tr>\n",
       "    <tr>\n",
       "      <th>1</th>\n",
       "      <td>Page 1</td>\n",
       "      <td>The EUROCALL Review, Volume 25, No. 2, Septemb...</td>\n",
       "      <td>520</td>\n",
       "      <td>{'Page_No.': 'Page 1'}</td>\n",
       "      <td>of\"], [\"interest among researchers in recent y...</td>\n",
       "      <td>2</td>\n",
       "    </tr>\n",
       "    <tr>\n",
       "      <th>2</th>\n",
       "      <td>Page 1</td>\n",
       "      <td>The EUROCALL Review, Volume 25, No. 2, Septemb...</td>\n",
       "      <td>520</td>\n",
       "      <td>{'Page_No.': 'Page 1'}</td>\n",
       "      <td>prepare them for effective usage of such devic...</td>\n",
       "      <td>3</td>\n",
       "    </tr>\n",
       "    <tr>\n",
       "      <th>3</th>\n",
       "      <td>Page 2</td>\n",
       "      <td>The EUROCALL Review, Volume 25, No. 2, Septemb...</td>\n",
       "      <td>703</td>\n",
       "      <td>{'Page_No.': 'Page 2'}</td>\n",
       "      <td>The EUROCALL Review, Volume 25, No. 2, Septemb...</td>\n",
       "      <td>4</td>\n",
       "    </tr>\n",
       "    <tr>\n",
       "      <th>4</th>\n",
       "      <td>Page 2</td>\n",
       "      <td>The EUROCALL Review, Volume 25, No. 2, Septemb...</td>\n",
       "      <td>703</td>\n",
       "      <td>{'Page_No.': 'Page 2'}</td>\n",
       "      <td>different forms according to the\"], [\"person, ...</td>\n",
       "      <td>5</td>\n",
       "    </tr>\n",
       "  </tbody>\n",
       "</table>\n",
       "</div>"
      ],
      "text/plain": [
       "  Page No.                                          Page_Text  Text_Length  \\\n",
       "0   Page 1  The EUROCALL Review, Volume 25, No. 2, Septemb...          520   \n",
       "1   Page 1  The EUROCALL Review, Volume 25, No. 2, Septemb...          520   \n",
       "2   Page 1  The EUROCALL Review, Volume 25, No. 2, Septemb...          520   \n",
       "3   Page 2  The EUROCALL Review, Volume 25, No. 2, Septemb...          703   \n",
       "4   Page 2  The EUROCALL Review, Volume 25, No. 2, Septemb...          703   \n",
       "\n",
       "                 Metadata                                             Chunks  \\\n",
       "0  {'Page_No.': 'Page 1'}  The EUROCALL Review, Volume 25, No. 2, Septemb...   \n",
       "1  {'Page_No.': 'Page 1'}  of\"], [\"interest among researchers in recent y...   \n",
       "2  {'Page_No.': 'Page 1'}  prepare them for effective usage of such devic...   \n",
       "3  {'Page_No.': 'Page 2'}  The EUROCALL Review, Volume 25, No. 2, Septemb...   \n",
       "4  {'Page_No.': 'Page 2'}  different forms according to the\"], [\"person, ...   \n",
       "\n",
       "   Chunk_ID  \n",
       "0         1  \n",
       "1         2  \n",
       "2         3  \n",
       "3         4  \n",
       "4         5  "
      ]
     },
     "execution_count": 15,
     "metadata": {},
     "output_type": "execute_result"
    }
   ],
   "source": [
    "chunked_df.head()\n"
   ]
  },
  {
   "cell_type": "markdown",
   "id": "9d8a0f32",
   "metadata": {
    "id": "9d8a0f32"
   },
   "source": [
    "Updating metadata with including chunk id"
   ]
  },
  {
   "cell_type": "code",
   "execution_count": 16,
   "id": "323e08cf",
   "metadata": {
    "colab": {
     "base_uri": "https://localhost:8080/",
     "height": 310
    },
    "id": "323e08cf",
    "outputId": "8786faeb-710c-4486-da84-1747dbc031d0"
   },
   "outputs": [
    {
     "data": {
      "text/html": [
       "<div>\n",
       "<style scoped>\n",
       "    .dataframe tbody tr th:only-of-type {\n",
       "        vertical-align: middle;\n",
       "    }\n",
       "\n",
       "    .dataframe tbody tr th {\n",
       "        vertical-align: top;\n",
       "    }\n",
       "\n",
       "    .dataframe thead th {\n",
       "        text-align: right;\n",
       "    }\n",
       "</style>\n",
       "<table border=\"1\" class=\"dataframe\">\n",
       "  <thead>\n",
       "    <tr style=\"text-align: right;\">\n",
       "      <th></th>\n",
       "      <th>Page No.</th>\n",
       "      <th>Page_Text</th>\n",
       "      <th>Text_Length</th>\n",
       "      <th>Metadata</th>\n",
       "      <th>Chunks</th>\n",
       "      <th>Chunk_ID</th>\n",
       "    </tr>\n",
       "  </thead>\n",
       "  <tbody>\n",
       "    <tr>\n",
       "      <th>0</th>\n",
       "      <td>Page 1</td>\n",
       "      <td>The EUROCALL Review, Volume 25, No. 2, Septemb...</td>\n",
       "      <td>520</td>\n",
       "      <td>{'Page_No.': 'Page 1'}</td>\n",
       "      <td>The EUROCALL Review, Volume 25, No. 2, Septemb...</td>\n",
       "      <td>1</td>\n",
       "    </tr>\n",
       "    <tr>\n",
       "      <th>1</th>\n",
       "      <td>Page 1</td>\n",
       "      <td>The EUROCALL Review, Volume 25, No. 2, Septemb...</td>\n",
       "      <td>520</td>\n",
       "      <td>{'Page_No.': 'Page 1'}</td>\n",
       "      <td>of\"], [\"interest among researchers in recent y...</td>\n",
       "      <td>2</td>\n",
       "    </tr>\n",
       "    <tr>\n",
       "      <th>2</th>\n",
       "      <td>Page 1</td>\n",
       "      <td>The EUROCALL Review, Volume 25, No. 2, Septemb...</td>\n",
       "      <td>520</td>\n",
       "      <td>{'Page_No.': 'Page 1'}</td>\n",
       "      <td>prepare them for effective usage of such devic...</td>\n",
       "      <td>3</td>\n",
       "    </tr>\n",
       "    <tr>\n",
       "      <th>3</th>\n",
       "      <td>Page 2</td>\n",
       "      <td>The EUROCALL Review, Volume 25, No. 2, Septemb...</td>\n",
       "      <td>703</td>\n",
       "      <td>{'Page_No.': 'Page 2'}</td>\n",
       "      <td>The EUROCALL Review, Volume 25, No. 2, Septemb...</td>\n",
       "      <td>4</td>\n",
       "    </tr>\n",
       "    <tr>\n",
       "      <th>4</th>\n",
       "      <td>Page 2</td>\n",
       "      <td>The EUROCALL Review, Volume 25, No. 2, Septemb...</td>\n",
       "      <td>703</td>\n",
       "      <td>{'Page_No.': 'Page 2'}</td>\n",
       "      <td>different forms according to the\"], [\"person, ...</td>\n",
       "      <td>5</td>\n",
       "    </tr>\n",
       "  </tbody>\n",
       "</table>\n",
       "</div>"
      ],
      "text/plain": [
       "  Page No.                                          Page_Text  Text_Length  \\\n",
       "0   Page 1  The EUROCALL Review, Volume 25, No. 2, Septemb...          520   \n",
       "1   Page 1  The EUROCALL Review, Volume 25, No. 2, Septemb...          520   \n",
       "2   Page 1  The EUROCALL Review, Volume 25, No. 2, Septemb...          520   \n",
       "3   Page 2  The EUROCALL Review, Volume 25, No. 2, Septemb...          703   \n",
       "4   Page 2  The EUROCALL Review, Volume 25, No. 2, Septemb...          703   \n",
       "\n",
       "                 Metadata                                             Chunks  \\\n",
       "0  {'Page_No.': 'Page 1'}  The EUROCALL Review, Volume 25, No. 2, Septemb...   \n",
       "1  {'Page_No.': 'Page 1'}  of\"], [\"interest among researchers in recent y...   \n",
       "2  {'Page_No.': 'Page 1'}  prepare them for effective usage of such devic...   \n",
       "3  {'Page_No.': 'Page 2'}  The EUROCALL Review, Volume 25, No. 2, Septemb...   \n",
       "4  {'Page_No.': 'Page 2'}  different forms according to the\"], [\"person, ...   \n",
       "\n",
       "   Chunk_ID  \n",
       "0         1  \n",
       "1         2  \n",
       "2         3  \n",
       "3         4  \n",
       "4         5  "
      ]
     },
     "execution_count": 16,
     "metadata": {},
     "output_type": "execute_result"
    }
   ],
   "source": [
    "chunked_df.head()"
   ]
  },
  {
   "cell_type": "markdown",
   "id": "e5af01fa",
   "metadata": {
    "id": "e5af01fa"
   },
   "source": [
    "## 3. <font color = purple> Generate and Store Embeddings using OpenAI and ChromaDB\n",
    "\n",
    "In this section, we will embed the pages in the dataframe through OpenAI's `text-embedding-ada-002` model, and store them in a ChromaDB collection."
   ]
  },
  {
   "cell_type": "code",
   "execution_count": 19,
   "id": "b0927465",
   "metadata": {
    "id": "b0927465"
   },
   "outputs": [],
   "source": [
    "# Import the OpenAI Embedding Function into chroma\n",
    "\n",
    "from chromadb.utils.embedding_functions import OpenAIEmbeddingFunction\n",
    "from chromadb.utils.embedding_functions import EmbeddingFunction"
   ]
  },
  {
   "cell_type": "code",
   "execution_count": 20,
   "id": "c6871a58",
   "metadata": {
    "id": "c6871a58"
   },
   "outputs": [],
   "source": [
    "# Define the path where chroma collections will be stored\n",
    "\n",
    "chroma_data_path = r'ChromaDB_Database'"
   ]
  },
  {
   "cell_type": "code",
   "execution_count": 21,
   "id": "6b9a29ed",
   "metadata": {
    "id": "6b9a29ed"
   },
   "outputs": [],
   "source": [
    "import chromadb"
   ]
  },
  {
   "cell_type": "code",
   "execution_count": 22,
   "id": "0008208a",
   "metadata": {
    "id": "0008208a"
   },
   "outputs": [],
   "source": [
    "# Call PersistentClient()\n",
    "\n",
    "client = chromadb.PersistentClient(path=chroma_data_path)"
   ]
  },
  {
   "cell_type": "code",
   "execution_count": null,
   "id": "1a29be31",
   "metadata": {
    "id": "1a29be31"
   },
   "outputs": [],
   "source": [
    "# Set up the embedding function using the embedding model\n",
    "\n",
    "model = SentenceTransformer(\"all-MiniLM-L6-v2\")\n",
    "#Create a custom embedding function class\n",
    "\n",
    "# Create a custom embedding function class\n",
    "class SentenceTransformerEmbeddingFunction(EmbeddingFunction):\n",
    "    def __call__(self, texts):\n",
    "        return model.encode(texts).tolist()\n",
    "\n",
    "# Initialize the embedding function\n",
    "embedding_function = SentenceTransformerEmbeddingFunction()"
   ]
  },
  {
   "cell_type": "code",
   "execution_count": 24,
   "id": "9fffbb1e",
   "metadata": {
    "id": "9fffbb1e"
   },
   "outputs": [],
   "source": [
    "# Initialise a collection in chroma and pass the embedding_function to it so that it used OpenAI embeddings to embed the documents\n",
    "\n",
    "# Create or get the collection, passing the custom embedding function\n",
    "research_collection = client.get_or_create_collection(\n",
    "    name=\"RAG_on_Research\",\n",
    "    embedding_function=embedding_function\n",
    ")"
   ]
  },
  {
   "cell_type": "code",
   "execution_count": 25,
   "id": "2ac5f7dc",
   "metadata": {
    "id": "2ac5f7dc"
   },
   "outputs": [],
   "source": [
    "# Convert the page text and metadata from your dataframe to lists to be able to pass it to chroma\n",
    "\n",
    "documents_list = chunked_df[\"Chunks\"].tolist()\n",
    "metadata_list = chunked_df['Metadata'].tolist()"
   ]
  },
  {
   "cell_type": "code",
   "execution_count": 26,
   "id": "f032f884",
   "metadata": {
    "colab": {
     "base_uri": "https://localhost:8080/"
    },
    "id": "f032f884",
    "outputId": "fbb45f0e-fce2-4b90-9964-4ba728c8a756"
   },
   "outputs": [],
   "source": [
    "# Add the documents and metadata to the collection alongwith generic integer IDs. You can also feed the metadata information as IDs by combining the policy name and page no.\n",
    "\n",
    "research_collection.add(\n",
    "    documents= documents_list,\n",
    "    ids = [str(i) for i in range(0, len(documents_list))],\n",
    "    metadatas = metadata_list\n",
    ")"
   ]
  },
  {
   "cell_type": "code",
   "execution_count": 27,
   "id": "97c1f568",
   "metadata": {
    "colab": {
     "base_uri": "https://localhost:8080/"
    },
    "id": "97c1f568",
    "outputId": "7693487f-87da-4cfc-d16a-417631abc543",
    "scrolled": true
   },
   "outputs": [
    {
     "data": {
      "text/plain": [
       "{'ids': ['0', '1', '2'],\n",
       " 'embeddings': array([[-0.05353186,  0.05806484,  0.06055533, ...,  0.14469525,\n",
       "         -0.02763622,  0.06009349],\n",
       "        [-0.04756785, -0.02034263,  0.00397582, ...,  0.07732493,\n",
       "          0.01114378,  0.01447436],\n",
       "        [-0.00796748,  0.01207486,  0.08549718, ...,  0.13953213,\n",
       "          0.01091361,  0.0653479 ]], shape=(3, 384)),\n",
       " 'documents': ['The EUROCALL Review, Volume 25, No. 2, September 2017 [[\"Research paper\"], [\"\"], [\"A look at advanced learners\\\\u2019 use of mobile devices for\"], [\"English language study: Insights from interview data\"], [\"Mariusz Kruk\"], [\"University of Zielona Gora, Poland\"], [\"______________________________________________________________\"], [\"mkruk @ uz.zgora.pl\"], [\"\"], [\"Abstract\"], [\"The paper discusses the results of a study which explored advanced learners of English\"], [\"engagement with their mobile devices to develop learning experiences that meet their\"], [\"needs and goals as foreign language learners. The data were collected from 20 students\"], [\"by means of a semi-structured interview. The gathered data were subjected to\"], [\"qualitative and quantitative analysis. The results of the study demonstrated that, on the\"], [\"one hand, some subjects manifested heightened awareness relating to the\"], [\"advantageous role of mobile devices in their learning endeavors, their ability to reach\"], [\"for suitable tools and retrieve necessary information so as to achieve their goals, meet\"], [\"their needs and adjust their learning of English to their personal learning styles, and on\"], [\"the other, a rather intuitive and/or ad hoc use of their mobile devices in the classroom.\"], [\"Keywords: Learner autonomy, mobile devices, advanced EFL learners, learning\"], [\"English.\"], [\"\"], [\"1. Introduction\"], [\"Mobile devices, smartphones and tablet computers in particular, have generated a lot of\"], [\"interest among researchers in recent years (Byrne & Diem, 2014). This is because the\"], [\"opportunities these new technologies may offer (e.g. individualized learning, the variety\"], [\"of mobile apps available, easy access to the internet) and/or the fact that they are\"], [\"increasingly more common among learners make them an important and potentially\"], [\"useful addition to formal and informal language learning.\"], [\"According to Benson (2011), there has always been a connection between educational\"], [\"technologies and learner autonomy to the extent that they have often been intended for\"], [\"independent practice. It should be noted, however, that this link and \\\\u201cfuture enquiry\"], [\"and',\n",
       "  'of\"], [\"interest among researchers in recent years (Byrne & Diem, 2014). This is because the\"], [\"opportunities these new technologies may offer (e.g. individualized learning, the variety\"], [\"of mobile apps available, easy access to the internet) and/or the fact that they are\"], [\"increasingly more common among learners make them an important and potentially\"], [\"useful addition to formal and informal language learning.\"], [\"According to Benson (2011), there has always been a connection between educational\"], [\"technologies and learner autonomy to the extent that they have often been intended for\"], [\"independent practice. It should be noted, however, that this link and \\\\u201cfuture enquiry\"], [\"and practice into technology-mediated learner autonomy will need to be increasingly\"], [\"aligned to the tools, settings, and activities that are of significance to language learners\\\\u201d\"], [\"(Reinders & White, 2016, p. 151). Reinders and White (2016) further argue that as long\"], [\"as \\\\u201cthe potential range of settings, tools, and experiences is now virtually limitless,\"], [\"individuals need to be increasingly adept at critical adaptive learning in order to benefit\"], [\"from and contribute effectively to those settings\\\\u201d (p. 151). Beyond doubt, contemporary\"], [\"language teachers should equip foreign/second language learners with appropriate\"], [\"knowledge concerning the affordances of mobile devices for language study and they\"], [\"should prepare them for effective usage of such devices for this purpose. It is also of\"], [\"paramount importance, for both researchers and practitioners, to comprehend the link\"], [\"between the modalities of the language learners\\' organization of their own learning\"], [\"experiences and environments and the role mobile technologies, in particular\"], [\"smartphones and tablets, play in these contexts.\"], [\"Taking into consideration the above-mentioned issues, the study reported in this article\"], [\"investigated ways advanced English language students use their mobile devices (i.e.\"], [\"smartphones and tablet computers) for their language learning. The article commences\"], [\"with a short overview of relevant literature. Next, the design of',\n",
       "  'prepare them for effective usage of such devices for this purpose. It is also of\"], [\"paramount importance, for both researchers and practitioners, to comprehend the link\"], [\"between the modalities of the language learners\\' organization of their own learning\"], [\"experiences and environments and the role mobile technologies, in particular\"], [\"smartphones and tablets, play in these contexts.\"], [\"Taking into consideration the above-mentioned issues, the study reported in this article\"], [\"investigated ways advanced English language students use their mobile devices (i.e.\"], [\"smartphones and tablet computers) for their language learning. The article commences\"], [\"with a short overview of relevant literature. Next, the design of the study is described,\"]] with a short overview of relevant literature. Next, the design of the study is described, 18'],\n",
       " 'uris': None,\n",
       " 'data': None,\n",
       " 'metadatas': [{'Page_No.': 'Page 1'},\n",
       "  {'Page_No.': 'Page 1'},\n",
       "  {'Page_No.': 'Page 1'}],\n",
       " 'included': [<IncludeEnum.embeddings: 'embeddings'>,\n",
       "  <IncludeEnum.documents: 'documents'>,\n",
       "  <IncludeEnum.metadatas: 'metadatas'>]}"
      ]
     },
     "execution_count": 27,
     "metadata": {},
     "output_type": "execute_result"
    }
   ],
   "source": [
    "# Let's take a look at the first few entries in the collection\n",
    "\n",
    "research_collection.get(\n",
    "    ids = ['0','1','2'],\n",
    "    include = ['embeddings', 'documents', 'metadatas']\n",
    ")"
   ]
  },
  {
   "cell_type": "code",
   "execution_count": 28,
   "id": "a9811c8b",
   "metadata": {
    "id": "a9811c8b"
   },
   "outputs": [],
   "source": [
    "cache_collection = client.get_or_create_collection(name='Research_Cache', embedding_function=embedding_function)"
   ]
  },
  {
   "cell_type": "code",
   "execution_count": 29,
   "id": "3e358928",
   "metadata": {
    "colab": {
     "base_uri": "https://localhost:8080/"
    },
    "id": "3e358928",
    "outputId": "b8490c2e-4d9a-4d28-ab62-ade6476e834f"
   },
   "outputs": [
    {
     "data": {
      "text/plain": [
       "{'ids': [],\n",
       " 'embeddings': array([], dtype=float64),\n",
       " 'documents': [],\n",
       " 'uris': None,\n",
       " 'data': None,\n",
       " 'metadatas': [],\n",
       " 'included': [<IncludeEnum.embeddings: 'embeddings'>,\n",
       "  <IncludeEnum.documents: 'documents'>,\n",
       "  <IncludeEnum.metadatas: 'metadatas'>]}"
      ]
     },
     "execution_count": 29,
     "metadata": {},
     "output_type": "execute_result"
    }
   ],
   "source": [
    "cache_collection.peek()"
   ]
  },
  {
   "cell_type": "markdown",
   "id": "2fc3e639",
   "metadata": {
    "id": "2fc3e639"
   },
   "source": [
    "## 4. <font color = purple> Semantic Search with Cache\n",
    "\n",
    "In this section, we will perform a semantic search of a query in the collections embeddings to get several top semantically similar results."
   ]
  },
  {
   "cell_type": "code",
   "execution_count": 30,
   "id": "500b3bf4",
   "metadata": {
    "colab": {
     "base_uri": "https://localhost:8080/"
    },
    "id": "500b3bf4",
    "outputId": "81cb7981-85e3-4fd0-aa86-ae790ac1b506"
   },
   "outputs": [],
   "source": [
    "query_1=\"What is covered in the Abstract section of the document?\""
   ]
  },
  {
   "cell_type": "code",
   "execution_count": 31,
   "id": "5fe45d3e",
   "metadata": {
    "id": "5fe45d3e"
   },
   "outputs": [],
   "source": [
    "# Searh the Cache collection first\n",
    "# Query the collection against the user query and return the top 20 results\n",
    "cache_results= cache_collection.query(\n",
    "         query_texts=query_1,\n",
    "          n_results=1\n",
    "     )\n"
   ]
  },
  {
   "cell_type": "code",
   "execution_count": 32,
   "id": "85da66fc",
   "metadata": {
    "colab": {
     "base_uri": "https://localhost:8080/"
    },
    "id": "85da66fc",
    "outputId": "ca099929-7f2a-4ccd-cca6-365fe313692d"
   },
   "outputs": [
    {
     "name": "stdout",
     "output_type": "stream",
     "text": [
      "{'ids': [[]], 'embeddings': None, 'documents': [[]], 'uris': None, 'data': None, 'metadatas': [[]], 'distances': [[]], 'included': [<IncludeEnum.distances: 'distances'>, <IncludeEnum.documents: 'documents'>, <IncludeEnum.metadatas: 'metadatas'>]}\n"
     ]
    }
   ],
   "source": [
    "print(cache_results)"
   ]
  },
  {
   "cell_type": "code",
   "execution_count": 33,
   "id": "2cad9080",
   "metadata": {
    "id": "2cad9080"
   },
   "outputs": [],
   "source": [
    "results = research_collection.query(\n",
    "query_texts=query_1,\n",
    "n_results=10\n",
    ")\n",
    "# results.items()"
   ]
  },
  {
   "cell_type": "code",
   "execution_count": 34,
   "id": "215304fa",
   "metadata": {
    "colab": {
     "base_uri": "https://localhost:8080/"
    },
    "id": "215304fa",
    "outputId": "f5e2b983-0491-44c9-ca12-053df7a9ce14"
   },
   "outputs": [
    {
     "name": "stdout",
     "output_type": "stream",
     "text": [
      "Not found in cache. Found in main collection.\n"
     ]
    }
   ],
   "source": [
    "# Implementing Cache in Semantic Search\n",
    "\n",
    "# Set a threshold for cache search\n",
    "threshold = 0.2\n",
    "\n",
    "ids_1 = []\n",
    "documents_1 = []\n",
    "distances_1 = []\n",
    "metadatas_1 = []\n",
    "results_df_1 = pd.DataFrame()\n",
    "\n",
    "\n",
    "# If the distance is greater than the threshold, then return the results from the main collection.\n",
    "\n",
    "if cache_results['distances'][0] == [] or cache_results['distances'][0][0] > threshold:\n",
    "      # Query the collection against the user query and return the top 10 results\n",
    "      results = research_collection.query(\n",
    "      query_texts=query_1,\n",
    "      n_results=10\n",
    "      )\n",
    "\n",
    "      # Store the query in cache_collection as document w.r.t to ChromaDB so that it can be embedded and searched against later\n",
    "      # Store retrieved text, ids, distances and metadatas in cache_collection as metadatas, so that they can be fetched easily if a query indeed matches to a query in cache\n",
    "      Keys = []\n",
    "      Values = []\n",
    "\n",
    "      for key, val in results.items():\n",
    "        if val is None:\n",
    "          continue\n",
    "        for i in range(9):\n",
    "          Keys.append(str(key)+str(i))\n",
    "          Values.append(str(val[0][i]))\n",
    "\n",
    "\n",
    "      cache_collection.add(\n",
    "          documents= [query_1],\n",
    "          ids = [query_1],  # Or if you want to assign integers as IDs 0,1,2,.., then you can use \"len(cache_results['documents'])\" as will return the no. of queries currently in the cache and assign the next digit to the new query.\"\n",
    "          metadatas = dict(zip(Keys, Values))\n",
    "      )\n",
    "\n",
    "      print(\"Not found in cache. Found in main collection.\")\n",
    "\n",
    "      result_dict = {'Metadatas_1': results['metadatas'][0], 'Documents_1': results['documents'][0], 'Distances_1': results['distances'][0], \"IDs\":results[\"ids\"][0]}\n",
    "      results_df_1 = pd.DataFrame.from_dict(result_dict)\n",
    "      results_df_1\n",
    "\n",
    "\n",
    "# If the distance is, however, less than the threshold, you can return the results from cache\n",
    "\n",
    "elif cache_results['distances'][0][0] <= threshold:\n",
    "      cache_result_dict = cache_results['metadatas'][0][0]\n",
    "\n",
    "      # Loop through each inner list and then through the dictionary\n",
    "      for key, value in cache_result_dict.items():\n",
    "          if 'ids' in key:\n",
    "              ids.append(value)\n",
    "          elif 'documents' in key:\n",
    "              documents.append(value)\n",
    "          elif 'distances' in key:\n",
    "              distances.append(value)\n",
    "          elif 'metadatas' in key:\n",
    "              metadatas.append(value)\n",
    "\n",
    "      print(\"Found in cache!\")\n",
    "\n",
    "      # Create a DataFrame\n",
    "      results_df_1 = pd.DataFrame({\n",
    "        'IDs_1': ids,\n",
    "        'Documents_1': documents,\n",
    "        'Distances_1': distances,\n",
    "        'Metadatas_1': metadatas\n",
    "      })"
   ]
  },
  {
   "cell_type": "code",
   "execution_count": 35,
   "id": "9c427bbf",
   "metadata": {
    "colab": {
     "base_uri": "https://localhost:8080/",
     "height": 206
    },
    "id": "9c427bbf",
    "outputId": "9f66030c-0b8c-4a11-b489-73d7279d6d1b"
   },
   "outputs": [
    {
     "data": {
      "text/html": [
       "<div>\n",
       "<style scoped>\n",
       "    .dataframe tbody tr th:only-of-type {\n",
       "        vertical-align: middle;\n",
       "    }\n",
       "\n",
       "    .dataframe tbody tr th {\n",
       "        vertical-align: top;\n",
       "    }\n",
       "\n",
       "    .dataframe thead th {\n",
       "        text-align: right;\n",
       "    }\n",
       "</style>\n",
       "<table border=\"1\" class=\"dataframe\">\n",
       "  <thead>\n",
       "    <tr style=\"text-align: right;\">\n",
       "      <th></th>\n",
       "      <th>Metadatas_1</th>\n",
       "      <th>Documents_1</th>\n",
       "      <th>Distances_1</th>\n",
       "      <th>IDs</th>\n",
       "    </tr>\n",
       "  </thead>\n",
       "  <tbody>\n",
       "    <tr>\n",
       "      <th>0</th>\n",
       "      <td>{'Page_No.': 'Page 4'}</td>\n",
       "      <td>on the problems raised\"], [\"during it (D\\u00f6...</td>\n",
       "      <td>1.420501</td>\n",
       "      <td>13</td>\n",
       "    </tr>\n",
       "    <tr>\n",
       "      <th>1</th>\n",
       "      <td>{'Page_No.': 'Page 2'}</td>\n",
       "      <td>different forms according to the\"], [\"person, ...</td>\n",
       "      <td>1.442721</td>\n",
       "      <td>4</td>\n",
       "    </tr>\n",
       "    <tr>\n",
       "      <th>2</th>\n",
       "      <td>{'Page_No.': 'Page 5'}</td>\n",
       "      <td>The EUROCALL Review, Volume 25, No. 2, Septemb...</td>\n",
       "      <td>1.447016</td>\n",
       "      <td>15</td>\n",
       "    </tr>\n",
       "    <tr>\n",
       "      <th>3</th>\n",
       "      <td>{'Page_No.': 'Page 2'}</td>\n",
       "      <td>The EUROCALL Review, Volume 25, No. 2, Septemb...</td>\n",
       "      <td>1.578391</td>\n",
       "      <td>3</td>\n",
       "    </tr>\n",
       "    <tr>\n",
       "      <th>4</th>\n",
       "      <td>{'Page_No.': 'Page 3'}</td>\n",
       "      <td>built\"], [\"upon mobile devices whereas some ot...</td>\n",
       "      <td>1.590897</td>\n",
       "      <td>9</td>\n",
       "    </tr>\n",
       "  </tbody>\n",
       "</table>\n",
       "</div>"
      ],
      "text/plain": [
       "              Metadatas_1                                        Documents_1  \\\n",
       "0  {'Page_No.': 'Page 4'}  on the problems raised\"], [\"during it (D\\u00f6...   \n",
       "1  {'Page_No.': 'Page 2'}  different forms according to the\"], [\"person, ...   \n",
       "2  {'Page_No.': 'Page 5'}  The EUROCALL Review, Volume 25, No. 2, Septemb...   \n",
       "3  {'Page_No.': 'Page 2'}  The EUROCALL Review, Volume 25, No. 2, Septemb...   \n",
       "4  {'Page_No.': 'Page 3'}  built\"], [\"upon mobile devices whereas some ot...   \n",
       "\n",
       "   Distances_1 IDs  \n",
       "0     1.420501  13  \n",
       "1     1.442721   4  \n",
       "2     1.447016  15  \n",
       "3     1.578391   3  \n",
       "4     1.590897   9  "
      ]
     },
     "execution_count": 35,
     "metadata": {},
     "output_type": "execute_result"
    }
   ],
   "source": [
    "results_df_1.head()"
   ]
  },
  {
   "cell_type": "markdown",
   "id": "a08b80af",
   "metadata": {
    "id": "a08b80af"
   },
   "source": [
    "#### for Query 2"
   ]
  },
  {
   "cell_type": "code",
   "execution_count": 36,
   "id": "9fbe4329",
   "metadata": {
    "colab": {
     "base_uri": "https://localhost:8080/"
    },
    "id": "9fbe4329",
    "outputId": "9221f7bc-606e-4b24-83db-e872609c3a6f"
   },
   "outputs": [],
   "source": [
    "query_2=\"What does Literature Review section of the document contain?\""
   ]
  },
  {
   "cell_type": "code",
   "execution_count": 37,
   "id": "fc96a01b",
   "metadata": {
    "id": "fc96a01b"
   },
   "outputs": [],
   "source": [
    "# Searh the Cache collection first\n",
    "# Query the collection against the user query and return the top 20 results\n",
    "cache_results= cache_collection.query(\n",
    "         query_texts=query_2,\n",
    "          n_results=1\n",
    "     )\n"
   ]
  },
  {
   "cell_type": "code",
   "execution_count": 38,
   "id": "4414dc2b",
   "metadata": {
    "colab": {
     "base_uri": "https://localhost:8080/"
    },
    "collapsed": true,
    "id": "4414dc2b",
    "jupyter": {
     "outputs_hidden": true
    },
    "outputId": "8af3c0c6-68f7-4a59-938a-b162a80b11b8"
   },
   "outputs": [
    {
     "data": {
      "text/plain": [
       "{'ids': [['What is covered in the Abstract section of the document?']],\n",
       " 'embeddings': None,\n",
       " 'documents': [['What is covered in the Abstract section of the document?']],\n",
       " 'uris': None,\n",
       " 'data': None,\n",
       " 'metadatas': [[{'distances0': '1.420501251740232',\n",
       "    'distances1': '1.442720875095425',\n",
       "    'distances2': '1.4470158893905203',\n",
       "    'distances3': '1.578391199737988',\n",
       "    'distances4': '1.5908967517347046',\n",
       "    'distances5': '1.5936611833578234',\n",
       "    'distances6': '1.6019941410934753',\n",
       "    'distances7': '1.605907653032187',\n",
       "    'distances8': '1.6197981160681336',\n",
       "    'documents0': 'on the problems raised\"], [\"during it (D\\\\u00f6rnyei, 2007). As D\\\\u00f6rnyei (2007) explains, in this type of the interview \\\\u201cthe\"], [\"interviewer provides guidelines and direction (hence the \\\\u2018-structured\\\\u2019 part in the name),\"], [\"but is also keen to follow up interesting developments and to let the interviewee\"], [\"elaborate on certain issues (hence the \\\\u2018semi-\\\\u2019 part)\\\\u201d (p. 136).\"], [\"During the interview, the present researcher attempted to encourage the subjects to\"], [\"describe their learning experiences concerning the use of mobile devices for English\"], [\"study. This was a form of introspection where the students were prompted to examine\"], [\"their behaviors and provide a first person narrative of such experiences. All the study\"], [\"participants were informed that the interview concerned the use of mobile devices for\"], [\"English study and they were asked for permission to be digitally recorded. In order to\"], [\"obtain relevant data the following questions were asked (2):\"]] obtain relevant data the following questions were asked (2): [[\"\\\\uf0b7 Do you use your mobile devices (e.g. smartphones, tablets, MP3 players,\"], [\"PDAs) for learning English?\"], [\"\\\\uf0b7 Why do you use your mobile device(s) for learning English?\"], [\"\\\\uf0b7 When did you start using your mobile device(s) for learning English? Has the\"], [\"use of your mobile device(s) increased or decreased since that time?\"], [\"\\\\uf0b7 Do you use your mobile device(s) during classes?\"], [\"\\\\uf0b7 Do you use your mobile device(s) more frequently in- or out-of-class English\"], [\"learning?\"], [\"\\\\uf0b7 What mobile apps have you been using most frequently and/or recently?\"], [\"\\\\uf0b7 Do you use your mobile device(s) more often in relation to formal or informal\"], [\"English language study?\"]] English language study? 21',\n",
       "    'documents1': 'different forms according to the\"], [\"person, the setting, and multiple contextual and micro-contextual factors\\\\u201d and it is \\\\u201ca\"], [\"multi-faceted concept that consists of several layers\\\\u201d (Reinders, 2011, p. 48) whose\"], [\"roots are based in political, societal and educational developments. In addition to this,\"], [\"work on autonomy emphasizes social dimensions of learner autonomy in view of the\"], [\"fact that \\\\u201cautonomous learners always do things for themselves, but they may or may\"], [\"not do things on their own\\\\u201d (Little, 2009, p. 223) and that by means of social\"], [\"interactions language learners \\\\u201cdevelop a capacity to analyze, reflect upon and\"], [\"synthesize information to create new perspectives\\\\u201d (Lee, 2011, p. 88). It should also be\"], [\"noted that recent research shows that fostering autonomy is no longer predominantly a\"], [\"matter of individualizing learning through out-of-class initiatives since the dominance of\"], [\"classroom-based approaches (Benson, 2011). Finally, it has to be added that\"], [\"researchers, in general, seem to be in agreement with the following claims suggested\"], [\"by Benson (2011): \\\\u201c(a) language learners naturally tend to take control of their\"], [\"learning, (b) learners who lack autonomy are capable of developing it, and (c)\"], [\"autonomous language learning is more effective than non-autonomous language\"], [\"learning\\\\u201d (p. 16).\"], [\"Perhaps in order to define the concept of autonomy in language learning it is necessary\"], [\"to understand who autonomous learners are. As Littlewood (1996) claims, an\"], [\"autonomous learner is \\\\u201cone who has independent capacity to make and carry out\"], [\"choices which govern his or her actions\\\\u201d (p. 428). The researcher argues that this\"], [\"capacity depends on two major components such as ability and willingness, and he\"], [\"claims that the attributes can also be further subdivided. Thus, ability depends on\"], [\"having knowledge about the options from which one can choose and skills so as to\"], [\"choose the most suitable alternatives. When it comes to',\n",
       "    'documents2': 'The EUROCALL Review, Volume 25, No. 2, September 2017 [[\"\\\\uf0b7 Do you organize regular formal or informal mobile English language learning\"], [\"sessions?\"], [\"\\\\uf0b7 What do you learn most frequently by means of your mobile device(s)? Why\"], [\"this?\"], [\"\\\\uf0b7 Do you feel that thanks to the use of your mobile device(s) you devote more\"], [\"time for learning the English language?\"], [\"\\\\uf0b7 As far as learning English through your mobile device(s) is concerned, do you\"], [\"consider yourself as an experienced user of such device(s)?\"]] consider yourself as an experienced user of such device(s)? [[\"The gathered data were subjected to qualitative and quantitative analysis. The analysis\"], [\"started with partial transcription of the important parts of the data (D\\\\u00f6rnyei, 2007) on a\"], [\"computer word processor program Microsoft Word 2016. Then the transcribed parts of\"], [\"the data were read several times in order to look for common themes and frequently\"], [\"occurring information. The recurring ideas were coded and recoded, revised and\"], [\"updated. The researcher used the highlighting function of the word processor program\"], [\"which allows the user to highlight the text on the transcript with different colors and\"], [\"comments to record any observations and thematic categories recognized in the data.\"], [\"The emerged categories were reviewed, compared, modified and either merged or\"], [\"abandoned. It should also be noted that the obtained data were analyzed quantitatively.\"], [\"This type of analysis involved counting the number of the interviewees\\\\u2019 responses and\"], [\"calculating percentages.\"], [\"4. Findings\"], [\"A thorough analysis of the data yielded the following thematic categories: usage of\"], [\"mobile devices, reasons for using mobile devices, resources and tools, mobile\"], [\"encounters, language practiced and study performance.\"], [\"4.1. Usage of mobile devices\"], [\"Table 1 shows the study participants\\\\u2019 mobile devices (MobDs) usage descriptions. The\"], [\"table demonstrates that smartphones were the most often used mobile devices by the\"], [\"students. In addition, the',\n",
       "    'documents3': 'The EUROCALL Review, Volume 25, No. 2, September 2017 [[\"namely a research question, description of participants, data collection tools and\"], [\"analysis. This is followed by the presentation of the results of the study. The article\"], [\"closes with discussion and conclusions.\"], [\"2. Literature review\"], [\"2.1. Autonomy in foreign/second language learning\"], [\"The concept of autonomy in second/foreign language learning and teaching has been\"], [\"the focus of attention for many researchers and practitioners for more than three\"], [\"decades. According to Benson (2001), the notion of autonomy was introduced and\"], [\"popularized in 1981 by Henri Holec in his seminal report for the Council of Europe\"], [\"entitled Autonomy in Foreign Language Learning in which the researcher defined\"], [\"autonomy in the context of language learning as \\\\u201cthe ability to take charge of one\\\\u2019s own\"], [\"learning\\\\u201d (Holec, 1981, p. 3). Holec\\\\u2019s idea of autonomy encompasses some components\"], [\"and capacities on the part of language learners (e.g. self-directed learning). For some\"], [\"other authors autonomy also involves \\\\u201ca capacity \\\\u2013 for detachment, critical reflection,\"], [\"decision-making, and independent action\\\\u201d (Little, 1991, p. 4) and \\\\u201cthe capacity to take\"], [\"control of one\\\\u2019s own learning\\\\u201d (Benson, 2001, p. 46). As stated by Benson (2011, p.\"], [\"16), \\\\u201cautonomy is multidimensional and takes many different forms according to the\"], [\"person, the setting, and multiple contextual and micro-contextual factors\\\\u201d and it is \\\\u201ca\"], [\"multi-faceted concept that consists of several layers\\\\u201d (Reinders, 2011, p. 48) whose\"], [\"roots are based in political, societal and educational developments. In addition to this,\"], [\"work on autonomy emphasizes social dimensions of learner autonomy in view of the\"], [\"fact that \\\\u201cautonomous learners always do things for themselves, but they may or may\"], [\"not do things on their own\\\\u201d (Little, 2009, p. 223) and that by means of social\"], [\"interactions language learners \\\\u201cdevelop a capacity to analyze, reflect upon and\"], [\"synthesize information to',\n",
       "    'documents4': 'built\"], [\"upon mobile devices whereas some other researchers understand it as learning that\"], [\"happens anywhere and anytime (cf. Oz, 2015). As far as mobile devices are concerned,\"], [\"they can be defined as \\\\u201cany device that is small, autonomous and unobtrusive enough\"], [\"to accompany us in every moment and can be used for educational purposes\\\\u201d\"], [\"(Trifanova Knapp, Ronchetti & Gamper, 2004, p. 3) or as \\\\u201chand held electronic devices\"], [\"that can be comfortably carried around in a pocket or bag, including MP3 players, digital\"], [\"recorders, e-readers, tablets, and smartphones\\\\u201d (Kukulska-Hulme, Norris & Donohue,\"], [\"2015, p. 39).\"], [\"A lot of studies concerning the use of mobile technology and mobile devices in language\"], [\"learning have been published. The findings of these studies concentrated on, for\"], [\"example, language learners\\\\u2019 views on the use of mobile devices in language instruction\"], [\"(e.g. Oz, 2015), students\\\\u2019 attitudes towards using mobile phones as instructional tools\"], [\"for foreign language learning (e.g. Cakir, 2015), profiling mobile language learners (e.g.\"], [\"Byrne & Diem, 2014), their effect on learning a foreign/second language (e.g. Nah,\"], [\"White & Sussex, 2008; Cavus & Ibrahim, 2009; Zhang, Song & Burston, 2011),\"], [\"distance language learning (e.g. Demouy, Jones, Kan, Kukulska-Hulme & Eardley,\"], [\"2016), informal language learning practices (Reinders & Cho, 2011; Jones, 2015),\"], [\"learners\\\\u2019 use of mobile devices for learning a foreign language (Stockwell, 2007;\"], [\"Dashtestani, 2015) and autonomy in language learning (e.g. D\\\\u00edaz-Vera, 2012; Djoub,\"], [\"2015). In addition to this, researchers investigated a number of applications of mobile\"], [\"devices and presented both benefits and drawbacks of the usage of mobile technologies\"], [\"(e.g. Miangah & Nezarat, 2012), discussed the use of mobile devices in supporting\"], [\"social contacts and collaborative learning (e.g. Kukulska-Hulme & Shield, 2008) and\"], [\"offered guidelines related to the implementation of mobile learning into second/foreign\"], [\"language instruction (e.g. Kukulska-Hulme et al., 2015).\"]] language instruction (e.g.',\n",
       "    'documents5': 'The EUROCALL Review, Volume 25, No. 2, September 2017 [[\"2.2. Autonomy and new technologies\"], [\"As stated in the previous section, the concept of autonomy has been one of the most\"], [\"researched areas in the field of second/foreign language learning and teaching over the\"], [\"last few decades. It should be noted, however, that the field of learner autonomy\"], [\"started to be influenced by technology in the mid-1990s as a result of the growing\"], [\"influence of the internet on almost every sphere of our life (including second/foreign\"], [\"language education) and the opportunities for online collaboration and communication\"], [\"(Reinders & White, 2016). As stated by Benson and Chik (2010), the latest generations\"], [\"of new technologies, particularly those encompassing the internet, user-generated Web\"], [\"content and mobility, seem to be having a bearing on the way autonomous language\"], [\"learning develops. Perhaps, one of the most important benefits of implementing new\"], [\"technologies into language learning is the fact that they provide occasions for language\"], [\"learners who do not have direct access to the target language. This is because the use\"], [\"of new technologies, including mobile technology, allow them to \\\\u201cbypass classrooms and\"], [\"go directly to target language texts and users through the internet and social media\\\\u201d\"], [\"(Benson, 2011, p. 17).\"], [\"When it comes to the use of mobile technology, and, in particular, smartphones and\"], [\"tablet computers, for learning a foreign or second language, they can assist language\"], [\"learners with their learning endeavors by granting access to numerous language\"], [\"resources whenever and wherever such learners need them and/or they happen to be\"], [\"(Jones, 2015). In Jones\\\\u2019s opinion, such language involvement might comprise, for\"], [\"instance, the use of chunks of spare time for language practice, searching for target\"], [\"language vocabulary in relevant contexts or interactions on social media (Jones, 2015).\"], [\"Furthermore, by having a mobile device a language',\n",
       "    'documents6': 'of\"], [\"interest among researchers in recent years (Byrne & Diem, 2014). This is because the\"], [\"opportunities these new technologies may offer (e.g. individualized learning, the variety\"], [\"of mobile apps available, easy access to the internet) and/or the fact that they are\"], [\"increasingly more common among learners make them an important and potentially\"], [\"useful addition to formal and informal language learning.\"], [\"According to Benson (2011), there has always been a connection between educational\"], [\"technologies and learner autonomy to the extent that they have often been intended for\"], [\"independent practice. It should be noted, however, that this link and \\\\u201cfuture enquiry\"], [\"and practice into technology-mediated learner autonomy will need to be increasingly\"], [\"aligned to the tools, settings, and activities that are of significance to language learners\\\\u201d\"], [\"(Reinders & White, 2016, p. 151). Reinders and White (2016) further argue that as long\"], [\"as \\\\u201cthe potential range of settings, tools, and experiences is now virtually limitless,\"], [\"individuals need to be increasingly adept at critical adaptive learning in order to benefit\"], [\"from and contribute effectively to those settings\\\\u201d (p. 151). Beyond doubt, contemporary\"], [\"language teachers should equip foreign/second language learners with appropriate\"], [\"knowledge concerning the affordances of mobile devices for language study and they\"], [\"should prepare them for effective usage of such devices for this purpose. It is also of\"], [\"paramount importance, for both researchers and practitioners, to comprehend the link\"], [\"between the modalities of the language learners\\' organization of their own learning\"], [\"experiences and environments and the role mobile technologies, in particular\"], [\"smartphones and tablets, play in these contexts.\"], [\"Taking into consideration the above-mentioned issues, the study reported in this article\"], [\"investigated ways advanced English language students use their mobile devices (i.e.\"], [\"smartphones and tablet computers) for their language learning. The article commences\"], [\"with a short overview of relevant literature. Next, the design of',\n",
       "    'documents7': 'The EUROCALL Review, Volume 25, No. 2, September 2017 [[\"referred their students to electronic or online resources; however, they did not ask\"], [\"students to use them in classes, they did not recommend any mobile apps or design\"], [\"language tasks which required using such devices in order to solve them.\"], [\"4.5. Language practiced\"], [\"When asked to indicate the most frequently practiced language skills and subsystems by\"], [\"means of mobile devices, all the interviewees indicated the target language vocabulary.\"], [\"In addition to this, some referred to pronunciation and only a few students mentioned\"], [\"grammar and practicing reading, listening and speaking skills. As far as practicing\"], [\"English vocabulary is concerned, the subjects chose to practice it through their\"], [\"smartphones and/or tables because they regarded this language subsystem as the most\"], [\"important to learn, they praised their MobDs for providing them with quick and easy\"], [\"access to needed words and see the way they were used in given sentences. As was\"], [\"stressed by many of the interviewees, learning English vocabulary by means of mobile\"], [\"devices also allowed them to check correct pronunciation of words (i.e. they listened to\"], [\"it or paid attention to phonetic transcription of words). The following excerpts exemplify\"], [\"the most typical usage of MobDs by the study participants:\"]] the most typical usage of MobDs by the study participants: [[\"S3: (\\\\u2026) as for vocabulary I guess it\\\\u2019s much faster to search for words and know\"], [\"how to use them in sentences.\"], [\"S6: It\\\\u2019s easy and it\\\\u2019s very easy to look for words when I need them.\"], [\"S12: (\\\\u2026) I need vocabulary not only to communicate in English (\\\\u2026) when I look\"], [\"for words I look at contexts words are used (...) I always pay attention to\"], [\"spelling and also listen to pronunciation (How about phonetic transcription of\"], [\"words?) Phonetic transcription of words',\n",
       "    'documents8': 'compared, modified and either merged or\"], [\"abandoned. It should also be noted that the obtained data were analyzed quantitatively.\"], [\"This type of analysis involved counting the number of the interviewees\\\\u2019 responses and\"], [\"calculating percentages.\"], [\"4. Findings\"], [\"A thorough analysis of the data yielded the following thematic categories: usage of\"], [\"mobile devices, reasons for using mobile devices, resources and tools, mobile\"], [\"encounters, language practiced and study performance.\"], [\"4.1. Usage of mobile devices\"], [\"Table 1 shows the study participants\\\\u2019 mobile devices (MobDs) usage descriptions. The\"], [\"table demonstrates that smartphones were the most often used mobile devices by the\"], [\"students. In addition, the numerical information in the table indicates that the\"], [\"participants, on average, had been using them for English language study for about\"], [\"3.80 years (minimum 2, maximum 6 years). 9 (45%) and 11 (55%) of the subjects\"], [\"started using their mobile devices at senior high school and university, respectively. It\"], [\"should also be added that, with the exception of one student (i.e. S9), all the other\"], [\"participants claimed to use their mobile devices in order to learn English much more\"], [\"frequently with time. Finally, more than half of the students (55%) regarded themselves\"], [\"as experienced or fairly experienced users of their MobDs for English language learning;\"], [\"however, 45% claimed not to be very skilful in this area.\"], [\"Table 1. The students\\\\u2019 mobile devices usage descriptions.\"]] Table 1. The students’ mobile devices usage descriptions. [[\"\", \"\", \"\", \"\", \"\", \"\"], [\"Year/\\\\nLevel of\\\\nstudy\", \"\", \"\", \"\", \"Use of MobDs\", \"\"], [null, null, null, null, null, \"Self-assessed\"], [null, \"Student\", \"Sex\", \"Device used\", null, null], [null, null, null, null, \"for language\", \"experience\"], [null, \"\", \"\", \"\", \"study (approx.)\", null], [null, null, null, null, null, \"\"], [\"\", \"S1\", \"female\", \"smartphone and tablet\", \"2 years\", \"not very experienced\"], [null, \"S2\", \"female\", \"smartphone\", \"5 years\", \"experienced\"], [null, \"S3\",',\n",
       "    'ids0': '13',\n",
       "    'ids1': '4',\n",
       "    'ids2': '15',\n",
       "    'ids3': '3',\n",
       "    'ids4': '9',\n",
       "    'ids5': '7',\n",
       "    'ids6': '1',\n",
       "    'ids7': '25',\n",
       "    'ids8': '16',\n",
       "    'included0': 'd',\n",
       "    'included1': 'i',\n",
       "    'included2': 's',\n",
       "    'included3': 't',\n",
       "    'included4': 'a',\n",
       "    'included5': 'n',\n",
       "    'included6': 'c',\n",
       "    'included7': 'e',\n",
       "    'included8': 's',\n",
       "    'metadatas0': \"{'Page_No.': 'Page 4'}\",\n",
       "    'metadatas1': \"{'Page_No.': 'Page 2'}\",\n",
       "    'metadatas2': \"{'Page_No.': 'Page 5'}\",\n",
       "    'metadatas3': \"{'Page_No.': 'Page 2'}\",\n",
       "    'metadatas4': \"{'Page_No.': 'Page 3'}\",\n",
       "    'metadatas5': \"{'Page_No.': 'Page 3'}\",\n",
       "    'metadatas6': \"{'Page_No.': 'Page 1'}\",\n",
       "    'metadatas7': \"{'Page_No.': 'Page 8'}\",\n",
       "    'metadatas8': \"{'Page_No.': 'Page 5'}\"}]],\n",
       " 'distances': [[0.899571697638473]],\n",
       " 'included': [<IncludeEnum.distances: 'distances'>,\n",
       "  <IncludeEnum.documents: 'documents'>,\n",
       "  <IncludeEnum.metadatas: 'metadatas'>]}"
      ]
     },
     "execution_count": 38,
     "metadata": {},
     "output_type": "execute_result"
    }
   ],
   "source": [
    "cache_results"
   ]
  },
  {
   "cell_type": "code",
   "execution_count": 39,
   "id": "ed4a5270",
   "metadata": {
    "id": "ed4a5270"
   },
   "outputs": [],
   "source": [
    "results = research_collection.query(\n",
    "query_texts=query_2,\n",
    "n_results=10\n",
    ")\n",
    "# results.items()"
   ]
  },
  {
   "cell_type": "code",
   "execution_count": 40,
   "id": "223c7e65",
   "metadata": {
    "colab": {
     "base_uri": "https://localhost:8080/"
    },
    "id": "223c7e65",
    "outputId": "6b8304a5-d258-4557-a75b-6099a2e2ef8f"
   },
   "outputs": [
    {
     "name": "stdout",
     "output_type": "stream",
     "text": [
      "Not found in cache. Found in main collection.\n"
     ]
    }
   ],
   "source": [
    "# Implementing Cache in Semantic Search\n",
    "\n",
    "# Set a threshold for cache search\n",
    "threshold = 0.2\n",
    "\n",
    "ids_2 = []\n",
    "documents_2 = []\n",
    "distances_2 = []\n",
    "metadatas_2 = []\n",
    "results_df_2 = pd.DataFrame()\n",
    "\n",
    "\n",
    "# If the distance is greater than the threshold, then return the results from the main collection.\n",
    "\n",
    "if cache_results['distances'][0] == [] or cache_results['distances'][0][0] > threshold:\n",
    "      # Query the collection against the user query and return the top 10 results\n",
    "      results = research_collection.query(\n",
    "      query_texts=query_2,\n",
    "      n_results=10\n",
    "      )\n",
    "\n",
    "      # Store the query in cache_collection as document w.r.t to ChromaDB so that it can be embedded and searched against later\n",
    "      # Store retrieved text, ids, distances and metadatas in cache_collection as metadatas, so that they can be fetched easily if a query indeed matches to a query in cache\n",
    "      Keys = []\n",
    "      Values = []\n",
    "\n",
    "      for key, val in results.items():\n",
    "        if val is None:\n",
    "          continue\n",
    "        for i in range(9):\n",
    "          Keys.append(str(key)+str(i))\n",
    "          Values.append(str(val[0][i]))\n",
    "\n",
    "\n",
    "      cache_collection.add(\n",
    "          documents= [query_2],\n",
    "          ids = [query_2],  # Or if you want to assign integers as IDs 0,1,2,.., then you can use \"len(cache_results['documents'])\" as will return the no. of queries currently in the cache and assign the next digit to the new query.\"\n",
    "          metadatas = dict(zip(Keys, Values))\n",
    "      )\n",
    "\n",
    "      print(\"Not found in cache. Found in main collection.\")\n",
    "\n",
    "      result_dict_2 = {'Metadatas_2': results['metadatas'][0], 'Documents_2': results['documents'][0], 'Distances_2': results['distances'][0], \"IDs\":results[\"ids\"][0]}\n",
    "      results_df_2 = pd.DataFrame.from_dict(result_dict_2)\n",
    "      results_df_1\n",
    "\n",
    "\n",
    "# If the distance is, however, less than the threshold, you can return the results from cache\n",
    "\n",
    "elif cache_results['distances'][0][0] <= threshold:\n",
    "      cache_result_dict = cache_results['metadatas'][0][0]\n",
    "\n",
    "      # Loop through each inner list and then through the dictionary\n",
    "      for key, value in cache_result_dict.items():\n",
    "          if 'ids' in key:\n",
    "              ids.append(value)\n",
    "          elif 'documents' in key:\n",
    "              documents.append(value)\n",
    "          elif 'distances' in key:\n",
    "              distances.append(value)\n",
    "          elif 'metadatas' in key:\n",
    "              metadatas.append(value)\n",
    "\n",
    "      print(\"Found in cache!\")\n",
    "\n",
    "      # Create a DataFrame\n",
    "      results_df_2 = pd.DataFrame({\n",
    "        'IDs_1': ids,\n",
    "        'Documents_2': documents,\n",
    "        'Distances_2': distances,\n",
    "        'Metadatas_2': metadatas\n",
    "      })"
   ]
  },
  {
   "cell_type": "code",
   "execution_count": 41,
   "id": "c43c8767",
   "metadata": {
    "colab": {
     "base_uri": "https://localhost:8080/",
     "height": 206
    },
    "id": "c43c8767",
    "outputId": "4b94e7e9-6e72-4291-bdfa-2bd2f69a5811"
   },
   "outputs": [
    {
     "data": {
      "text/html": [
       "<div>\n",
       "<style scoped>\n",
       "    .dataframe tbody tr th:only-of-type {\n",
       "        vertical-align: middle;\n",
       "    }\n",
       "\n",
       "    .dataframe tbody tr th {\n",
       "        vertical-align: top;\n",
       "    }\n",
       "\n",
       "    .dataframe thead th {\n",
       "        text-align: right;\n",
       "    }\n",
       "</style>\n",
       "<table border=\"1\" class=\"dataframe\">\n",
       "  <thead>\n",
       "    <tr style=\"text-align: right;\">\n",
       "      <th></th>\n",
       "      <th>Metadatas_2</th>\n",
       "      <th>Documents_2</th>\n",
       "      <th>Distances_2</th>\n",
       "      <th>IDs</th>\n",
       "    </tr>\n",
       "  </thead>\n",
       "  <tbody>\n",
       "    <tr>\n",
       "      <th>0</th>\n",
       "      <td>{'Page_No.': 'Page 5'}</td>\n",
       "      <td>The EUROCALL Review, Volume 25, No. 2, Septemb...</td>\n",
       "      <td>1.433200</td>\n",
       "      <td>15</td>\n",
       "    </tr>\n",
       "    <tr>\n",
       "      <th>1</th>\n",
       "      <td>{'Page_No.': 'Page 5'}</td>\n",
       "      <td>compared, modified and either merged or\"], [\"a...</td>\n",
       "      <td>1.477400</td>\n",
       "      <td>16</td>\n",
       "    </tr>\n",
       "    <tr>\n",
       "      <th>2</th>\n",
       "      <td>{'Page_No.': 'Page 6'}</td>\n",
       "      <td>The EUROCALL Review, Volume 25, No. 2, Septemb...</td>\n",
       "      <td>1.495414</td>\n",
       "      <td>18</td>\n",
       "    </tr>\n",
       "    <tr>\n",
       "      <th>3</th>\n",
       "      <td>{'Page_No.': 'Page 4'}</td>\n",
       "      <td>on the problems raised\"], [\"during it (D\\u00f6...</td>\n",
       "      <td>1.514388</td>\n",
       "      <td>13</td>\n",
       "    </tr>\n",
       "    <tr>\n",
       "      <th>4</th>\n",
       "      <td>{'Page_No.': 'Page 6'}</td>\n",
       "      <td>[\"Illustrative examples of such opinions are p...</td>\n",
       "      <td>1.525234</td>\n",
       "      <td>19</td>\n",
       "    </tr>\n",
       "  </tbody>\n",
       "</table>\n",
       "</div>"
      ],
      "text/plain": [
       "              Metadatas_2                                        Documents_2  \\\n",
       "0  {'Page_No.': 'Page 5'}  The EUROCALL Review, Volume 25, No. 2, Septemb...   \n",
       "1  {'Page_No.': 'Page 5'}  compared, modified and either merged or\"], [\"a...   \n",
       "2  {'Page_No.': 'Page 6'}  The EUROCALL Review, Volume 25, No. 2, Septemb...   \n",
       "3  {'Page_No.': 'Page 4'}  on the problems raised\"], [\"during it (D\\u00f6...   \n",
       "4  {'Page_No.': 'Page 6'}  [\"Illustrative examples of such opinions are p...   \n",
       "\n",
       "   Distances_2 IDs  \n",
       "0     1.433200  15  \n",
       "1     1.477400  16  \n",
       "2     1.495414  18  \n",
       "3     1.514388  13  \n",
       "4     1.525234  19  "
      ]
     },
     "execution_count": 41,
     "metadata": {},
     "output_type": "execute_result"
    }
   ],
   "source": [
    "results_df_2.head()"
   ]
  },
  {
   "cell_type": "markdown",
   "id": "a255e394",
   "metadata": {
    "id": "a255e394"
   },
   "source": [
    "###### for query 3"
   ]
  },
  {
   "cell_type": "code",
   "execution_count": 42,
   "id": "24463779",
   "metadata": {
    "colab": {
     "base_uri": "https://localhost:8080/"
    },
    "id": "24463779",
    "outputId": "7f9257fb-c424-48e5-9f64-00d28c503a20"
   },
   "outputs": [],
   "source": [
    "query_3=\"What are the methods covered in the method section of the document?\""
   ]
  },
  {
   "cell_type": "code",
   "execution_count": 43,
   "id": "c9bd0b2d",
   "metadata": {
    "id": "c9bd0b2d"
   },
   "outputs": [],
   "source": [
    "# Searh the Cache collection first\n",
    "# Query the collection against the user query and return the top 20 results\n",
    "cache_results= cache_collection.query(\n",
    "         query_texts=query_3,\n",
    "          n_results=1\n",
    "     )"
   ]
  },
  {
   "cell_type": "code",
   "execution_count": 44,
   "id": "808e0be7",
   "metadata": {
    "colab": {
     "base_uri": "https://localhost:8080/"
    },
    "id": "808e0be7",
    "outputId": "8fed0565-e523-45f5-aac7-1de4be657951",
    "scrolled": true
   },
   "outputs": [
    {
     "data": {
      "text/plain": [
       "{'ids': [['What is covered in the Abstract section of the document?']],\n",
       " 'embeddings': None,\n",
       " 'documents': [['What is covered in the Abstract section of the document?']],\n",
       " 'uris': None,\n",
       " 'data': None,\n",
       " 'metadatas': [[{'distances0': '1.420501251740232',\n",
       "    'distances1': '1.442720875095425',\n",
       "    'distances2': '1.4470158893905203',\n",
       "    'distances3': '1.578391199737988',\n",
       "    'distances4': '1.5908967517347046',\n",
       "    'distances5': '1.5936611833578234',\n",
       "    'distances6': '1.6019941410934753',\n",
       "    'distances7': '1.605907653032187',\n",
       "    'distances8': '1.6197981160681336',\n",
       "    'documents0': 'on the problems raised\"], [\"during it (D\\\\u00f6rnyei, 2007). As D\\\\u00f6rnyei (2007) explains, in this type of the interview \\\\u201cthe\"], [\"interviewer provides guidelines and direction (hence the \\\\u2018-structured\\\\u2019 part in the name),\"], [\"but is also keen to follow up interesting developments and to let the interviewee\"], [\"elaborate on certain issues (hence the \\\\u2018semi-\\\\u2019 part)\\\\u201d (p. 136).\"], [\"During the interview, the present researcher attempted to encourage the subjects to\"], [\"describe their learning experiences concerning the use of mobile devices for English\"], [\"study. This was a form of introspection where the students were prompted to examine\"], [\"their behaviors and provide a first person narrative of such experiences. All the study\"], [\"participants were informed that the interview concerned the use of mobile devices for\"], [\"English study and they were asked for permission to be digitally recorded. In order to\"], [\"obtain relevant data the following questions were asked (2):\"]] obtain relevant data the following questions were asked (2): [[\"\\\\uf0b7 Do you use your mobile devices (e.g. smartphones, tablets, MP3 players,\"], [\"PDAs) for learning English?\"], [\"\\\\uf0b7 Why do you use your mobile device(s) for learning English?\"], [\"\\\\uf0b7 When did you start using your mobile device(s) for learning English? Has the\"], [\"use of your mobile device(s) increased or decreased since that time?\"], [\"\\\\uf0b7 Do you use your mobile device(s) during classes?\"], [\"\\\\uf0b7 Do you use your mobile device(s) more frequently in- or out-of-class English\"], [\"learning?\"], [\"\\\\uf0b7 What mobile apps have you been using most frequently and/or recently?\"], [\"\\\\uf0b7 Do you use your mobile device(s) more often in relation to formal or informal\"], [\"English language study?\"]] English language study? 21',\n",
       "    'documents1': 'different forms according to the\"], [\"person, the setting, and multiple contextual and micro-contextual factors\\\\u201d and it is \\\\u201ca\"], [\"multi-faceted concept that consists of several layers\\\\u201d (Reinders, 2011, p. 48) whose\"], [\"roots are based in political, societal and educational developments. In addition to this,\"], [\"work on autonomy emphasizes social dimensions of learner autonomy in view of the\"], [\"fact that \\\\u201cautonomous learners always do things for themselves, but they may or may\"], [\"not do things on their own\\\\u201d (Little, 2009, p. 223) and that by means of social\"], [\"interactions language learners \\\\u201cdevelop a capacity to analyze, reflect upon and\"], [\"synthesize information to create new perspectives\\\\u201d (Lee, 2011, p. 88). It should also be\"], [\"noted that recent research shows that fostering autonomy is no longer predominantly a\"], [\"matter of individualizing learning through out-of-class initiatives since the dominance of\"], [\"classroom-based approaches (Benson, 2011). Finally, it has to be added that\"], [\"researchers, in general, seem to be in agreement with the following claims suggested\"], [\"by Benson (2011): \\\\u201c(a) language learners naturally tend to take control of their\"], [\"learning, (b) learners who lack autonomy are capable of developing it, and (c)\"], [\"autonomous language learning is more effective than non-autonomous language\"], [\"learning\\\\u201d (p. 16).\"], [\"Perhaps in order to define the concept of autonomy in language learning it is necessary\"], [\"to understand who autonomous learners are. As Littlewood (1996) claims, an\"], [\"autonomous learner is \\\\u201cone who has independent capacity to make and carry out\"], [\"choices which govern his or her actions\\\\u201d (p. 428). The researcher argues that this\"], [\"capacity depends on two major components such as ability and willingness, and he\"], [\"claims that the attributes can also be further subdivided. Thus, ability depends on\"], [\"having knowledge about the options from which one can choose and skills so as to\"], [\"choose the most suitable alternatives. When it comes to',\n",
       "    'documents2': 'The EUROCALL Review, Volume 25, No. 2, September 2017 [[\"\\\\uf0b7 Do you organize regular formal or informal mobile English language learning\"], [\"sessions?\"], [\"\\\\uf0b7 What do you learn most frequently by means of your mobile device(s)? Why\"], [\"this?\"], [\"\\\\uf0b7 Do you feel that thanks to the use of your mobile device(s) you devote more\"], [\"time for learning the English language?\"], [\"\\\\uf0b7 As far as learning English through your mobile device(s) is concerned, do you\"], [\"consider yourself as an experienced user of such device(s)?\"]] consider yourself as an experienced user of such device(s)? [[\"The gathered data were subjected to qualitative and quantitative analysis. The analysis\"], [\"started with partial transcription of the important parts of the data (D\\\\u00f6rnyei, 2007) on a\"], [\"computer word processor program Microsoft Word 2016. Then the transcribed parts of\"], [\"the data were read several times in order to look for common themes and frequently\"], [\"occurring information. The recurring ideas were coded and recoded, revised and\"], [\"updated. The researcher used the highlighting function of the word processor program\"], [\"which allows the user to highlight the text on the transcript with different colors and\"], [\"comments to record any observations and thematic categories recognized in the data.\"], [\"The emerged categories were reviewed, compared, modified and either merged or\"], [\"abandoned. It should also be noted that the obtained data were analyzed quantitatively.\"], [\"This type of analysis involved counting the number of the interviewees\\\\u2019 responses and\"], [\"calculating percentages.\"], [\"4. Findings\"], [\"A thorough analysis of the data yielded the following thematic categories: usage of\"], [\"mobile devices, reasons for using mobile devices, resources and tools, mobile\"], [\"encounters, language practiced and study performance.\"], [\"4.1. Usage of mobile devices\"], [\"Table 1 shows the study participants\\\\u2019 mobile devices (MobDs) usage descriptions. The\"], [\"table demonstrates that smartphones were the most often used mobile devices by the\"], [\"students. In addition, the',\n",
       "    'documents3': 'The EUROCALL Review, Volume 25, No. 2, September 2017 [[\"namely a research question, description of participants, data collection tools and\"], [\"analysis. This is followed by the presentation of the results of the study. The article\"], [\"closes with discussion and conclusions.\"], [\"2. Literature review\"], [\"2.1. Autonomy in foreign/second language learning\"], [\"The concept of autonomy in second/foreign language learning and teaching has been\"], [\"the focus of attention for many researchers and practitioners for more than three\"], [\"decades. According to Benson (2001), the notion of autonomy was introduced and\"], [\"popularized in 1981 by Henri Holec in his seminal report for the Council of Europe\"], [\"entitled Autonomy in Foreign Language Learning in which the researcher defined\"], [\"autonomy in the context of language learning as \\\\u201cthe ability to take charge of one\\\\u2019s own\"], [\"learning\\\\u201d (Holec, 1981, p. 3). Holec\\\\u2019s idea of autonomy encompasses some components\"], [\"and capacities on the part of language learners (e.g. self-directed learning). For some\"], [\"other authors autonomy also involves \\\\u201ca capacity \\\\u2013 for detachment, critical reflection,\"], [\"decision-making, and independent action\\\\u201d (Little, 1991, p. 4) and \\\\u201cthe capacity to take\"], [\"control of one\\\\u2019s own learning\\\\u201d (Benson, 2001, p. 46). As stated by Benson (2011, p.\"], [\"16), \\\\u201cautonomy is multidimensional and takes many different forms according to the\"], [\"person, the setting, and multiple contextual and micro-contextual factors\\\\u201d and it is \\\\u201ca\"], [\"multi-faceted concept that consists of several layers\\\\u201d (Reinders, 2011, p. 48) whose\"], [\"roots are based in political, societal and educational developments. In addition to this,\"], [\"work on autonomy emphasizes social dimensions of learner autonomy in view of the\"], [\"fact that \\\\u201cautonomous learners always do things for themselves, but they may or may\"], [\"not do things on their own\\\\u201d (Little, 2009, p. 223) and that by means of social\"], [\"interactions language learners \\\\u201cdevelop a capacity to analyze, reflect upon and\"], [\"synthesize information to',\n",
       "    'documents4': 'built\"], [\"upon mobile devices whereas some other researchers understand it as learning that\"], [\"happens anywhere and anytime (cf. Oz, 2015). As far as mobile devices are concerned,\"], [\"they can be defined as \\\\u201cany device that is small, autonomous and unobtrusive enough\"], [\"to accompany us in every moment and can be used for educational purposes\\\\u201d\"], [\"(Trifanova Knapp, Ronchetti & Gamper, 2004, p. 3) or as \\\\u201chand held electronic devices\"], [\"that can be comfortably carried around in a pocket or bag, including MP3 players, digital\"], [\"recorders, e-readers, tablets, and smartphones\\\\u201d (Kukulska-Hulme, Norris & Donohue,\"], [\"2015, p. 39).\"], [\"A lot of studies concerning the use of mobile technology and mobile devices in language\"], [\"learning have been published. The findings of these studies concentrated on, for\"], [\"example, language learners\\\\u2019 views on the use of mobile devices in language instruction\"], [\"(e.g. Oz, 2015), students\\\\u2019 attitudes towards using mobile phones as instructional tools\"], [\"for foreign language learning (e.g. Cakir, 2015), profiling mobile language learners (e.g.\"], [\"Byrne & Diem, 2014), their effect on learning a foreign/second language (e.g. Nah,\"], [\"White & Sussex, 2008; Cavus & Ibrahim, 2009; Zhang, Song & Burston, 2011),\"], [\"distance language learning (e.g. Demouy, Jones, Kan, Kukulska-Hulme & Eardley,\"], [\"2016), informal language learning practices (Reinders & Cho, 2011; Jones, 2015),\"], [\"learners\\\\u2019 use of mobile devices for learning a foreign language (Stockwell, 2007;\"], [\"Dashtestani, 2015) and autonomy in language learning (e.g. D\\\\u00edaz-Vera, 2012; Djoub,\"], [\"2015). In addition to this, researchers investigated a number of applications of mobile\"], [\"devices and presented both benefits and drawbacks of the usage of mobile technologies\"], [\"(e.g. Miangah & Nezarat, 2012), discussed the use of mobile devices in supporting\"], [\"social contacts and collaborative learning (e.g. Kukulska-Hulme & Shield, 2008) and\"], [\"offered guidelines related to the implementation of mobile learning into second/foreign\"], [\"language instruction (e.g. Kukulska-Hulme et al., 2015).\"]] language instruction (e.g.',\n",
       "    'documents5': 'The EUROCALL Review, Volume 25, No. 2, September 2017 [[\"2.2. Autonomy and new technologies\"], [\"As stated in the previous section, the concept of autonomy has been one of the most\"], [\"researched areas in the field of second/foreign language learning and teaching over the\"], [\"last few decades. It should be noted, however, that the field of learner autonomy\"], [\"started to be influenced by technology in the mid-1990s as a result of the growing\"], [\"influence of the internet on almost every sphere of our life (including second/foreign\"], [\"language education) and the opportunities for online collaboration and communication\"], [\"(Reinders & White, 2016). As stated by Benson and Chik (2010), the latest generations\"], [\"of new technologies, particularly those encompassing the internet, user-generated Web\"], [\"content and mobility, seem to be having a bearing on the way autonomous language\"], [\"learning develops. Perhaps, one of the most important benefits of implementing new\"], [\"technologies into language learning is the fact that they provide occasions for language\"], [\"learners who do not have direct access to the target language. This is because the use\"], [\"of new technologies, including mobile technology, allow them to \\\\u201cbypass classrooms and\"], [\"go directly to target language texts and users through the internet and social media\\\\u201d\"], [\"(Benson, 2011, p. 17).\"], [\"When it comes to the use of mobile technology, and, in particular, smartphones and\"], [\"tablet computers, for learning a foreign or second language, they can assist language\"], [\"learners with their learning endeavors by granting access to numerous language\"], [\"resources whenever and wherever such learners need them and/or they happen to be\"], [\"(Jones, 2015). In Jones\\\\u2019s opinion, such language involvement might comprise, for\"], [\"instance, the use of chunks of spare time for language practice, searching for target\"], [\"language vocabulary in relevant contexts or interactions on social media (Jones, 2015).\"], [\"Furthermore, by having a mobile device a language',\n",
       "    'documents6': 'of\"], [\"interest among researchers in recent years (Byrne & Diem, 2014). This is because the\"], [\"opportunities these new technologies may offer (e.g. individualized learning, the variety\"], [\"of mobile apps available, easy access to the internet) and/or the fact that they are\"], [\"increasingly more common among learners make them an important and potentially\"], [\"useful addition to formal and informal language learning.\"], [\"According to Benson (2011), there has always been a connection between educational\"], [\"technologies and learner autonomy to the extent that they have often been intended for\"], [\"independent practice. It should be noted, however, that this link and \\\\u201cfuture enquiry\"], [\"and practice into technology-mediated learner autonomy will need to be increasingly\"], [\"aligned to the tools, settings, and activities that are of significance to language learners\\\\u201d\"], [\"(Reinders & White, 2016, p. 151). Reinders and White (2016) further argue that as long\"], [\"as \\\\u201cthe potential range of settings, tools, and experiences is now virtually limitless,\"], [\"individuals need to be increasingly adept at critical adaptive learning in order to benefit\"], [\"from and contribute effectively to those settings\\\\u201d (p. 151). Beyond doubt, contemporary\"], [\"language teachers should equip foreign/second language learners with appropriate\"], [\"knowledge concerning the affordances of mobile devices for language study and they\"], [\"should prepare them for effective usage of such devices for this purpose. It is also of\"], [\"paramount importance, for both researchers and practitioners, to comprehend the link\"], [\"between the modalities of the language learners\\' organization of their own learning\"], [\"experiences and environments and the role mobile technologies, in particular\"], [\"smartphones and tablets, play in these contexts.\"], [\"Taking into consideration the above-mentioned issues, the study reported in this article\"], [\"investigated ways advanced English language students use their mobile devices (i.e.\"], [\"smartphones and tablet computers) for their language learning. The article commences\"], [\"with a short overview of relevant literature. Next, the design of',\n",
       "    'documents7': 'The EUROCALL Review, Volume 25, No. 2, September 2017 [[\"referred their students to electronic or online resources; however, they did not ask\"], [\"students to use them in classes, they did not recommend any mobile apps or design\"], [\"language tasks which required using such devices in order to solve them.\"], [\"4.5. Language practiced\"], [\"When asked to indicate the most frequently practiced language skills and subsystems by\"], [\"means of mobile devices, all the interviewees indicated the target language vocabulary.\"], [\"In addition to this, some referred to pronunciation and only a few students mentioned\"], [\"grammar and practicing reading, listening and speaking skills. As far as practicing\"], [\"English vocabulary is concerned, the subjects chose to practice it through their\"], [\"smartphones and/or tables because they regarded this language subsystem as the most\"], [\"important to learn, they praised their MobDs for providing them with quick and easy\"], [\"access to needed words and see the way they were used in given sentences. As was\"], [\"stressed by many of the interviewees, learning English vocabulary by means of mobile\"], [\"devices also allowed them to check correct pronunciation of words (i.e. they listened to\"], [\"it or paid attention to phonetic transcription of words). The following excerpts exemplify\"], [\"the most typical usage of MobDs by the study participants:\"]] the most typical usage of MobDs by the study participants: [[\"S3: (\\\\u2026) as for vocabulary I guess it\\\\u2019s much faster to search for words and know\"], [\"how to use them in sentences.\"], [\"S6: It\\\\u2019s easy and it\\\\u2019s very easy to look for words when I need them.\"], [\"S12: (\\\\u2026) I need vocabulary not only to communicate in English (\\\\u2026) when I look\"], [\"for words I look at contexts words are used (...) I always pay attention to\"], [\"spelling and also listen to pronunciation (How about phonetic transcription of\"], [\"words?) Phonetic transcription of words',\n",
       "    'documents8': 'compared, modified and either merged or\"], [\"abandoned. It should also be noted that the obtained data were analyzed quantitatively.\"], [\"This type of analysis involved counting the number of the interviewees\\\\u2019 responses and\"], [\"calculating percentages.\"], [\"4. Findings\"], [\"A thorough analysis of the data yielded the following thematic categories: usage of\"], [\"mobile devices, reasons for using mobile devices, resources and tools, mobile\"], [\"encounters, language practiced and study performance.\"], [\"4.1. Usage of mobile devices\"], [\"Table 1 shows the study participants\\\\u2019 mobile devices (MobDs) usage descriptions. The\"], [\"table demonstrates that smartphones were the most often used mobile devices by the\"], [\"students. In addition, the numerical information in the table indicates that the\"], [\"participants, on average, had been using them for English language study for about\"], [\"3.80 years (minimum 2, maximum 6 years). 9 (45%) and 11 (55%) of the subjects\"], [\"started using their mobile devices at senior high school and university, respectively. It\"], [\"should also be added that, with the exception of one student (i.e. S9), all the other\"], [\"participants claimed to use their mobile devices in order to learn English much more\"], [\"frequently with time. Finally, more than half of the students (55%) regarded themselves\"], [\"as experienced or fairly experienced users of their MobDs for English language learning;\"], [\"however, 45% claimed not to be very skilful in this area.\"], [\"Table 1. The students\\\\u2019 mobile devices usage descriptions.\"]] Table 1. The students’ mobile devices usage descriptions. [[\"\", \"\", \"\", \"\", \"\", \"\"], [\"Year/\\\\nLevel of\\\\nstudy\", \"\", \"\", \"\", \"Use of MobDs\", \"\"], [null, null, null, null, null, \"Self-assessed\"], [null, \"Student\", \"Sex\", \"Device used\", null, null], [null, null, null, null, \"for language\", \"experience\"], [null, \"\", \"\", \"\", \"study (approx.)\", null], [null, null, null, null, null, \"\"], [\"\", \"S1\", \"female\", \"smartphone and tablet\", \"2 years\", \"not very experienced\"], [null, \"S2\", \"female\", \"smartphone\", \"5 years\", \"experienced\"], [null, \"S3\",',\n",
       "    'ids0': '13',\n",
       "    'ids1': '4',\n",
       "    'ids2': '15',\n",
       "    'ids3': '3',\n",
       "    'ids4': '9',\n",
       "    'ids5': '7',\n",
       "    'ids6': '1',\n",
       "    'ids7': '25',\n",
       "    'ids8': '16',\n",
       "    'included0': 'd',\n",
       "    'included1': 'i',\n",
       "    'included2': 's',\n",
       "    'included3': 't',\n",
       "    'included4': 'a',\n",
       "    'included5': 'n',\n",
       "    'included6': 'c',\n",
       "    'included7': 'e',\n",
       "    'included8': 's',\n",
       "    'metadatas0': \"{'Page_No.': 'Page 4'}\",\n",
       "    'metadatas1': \"{'Page_No.': 'Page 2'}\",\n",
       "    'metadatas2': \"{'Page_No.': 'Page 5'}\",\n",
       "    'metadatas3': \"{'Page_No.': 'Page 2'}\",\n",
       "    'metadatas4': \"{'Page_No.': 'Page 3'}\",\n",
       "    'metadatas5': \"{'Page_No.': 'Page 3'}\",\n",
       "    'metadatas6': \"{'Page_No.': 'Page 1'}\",\n",
       "    'metadatas7': \"{'Page_No.': 'Page 8'}\",\n",
       "    'metadatas8': \"{'Page_No.': 'Page 5'}\"}]],\n",
       " 'distances': [[0.917035261406283]],\n",
       " 'included': [<IncludeEnum.distances: 'distances'>,\n",
       "  <IncludeEnum.documents: 'documents'>,\n",
       "  <IncludeEnum.metadatas: 'metadatas'>]}"
      ]
     },
     "execution_count": 44,
     "metadata": {},
     "output_type": "execute_result"
    }
   ],
   "source": [
    "cache_results"
   ]
  },
  {
   "cell_type": "code",
   "execution_count": 45,
   "id": "95aa3cc9",
   "metadata": {
    "colab": {
     "base_uri": "https://localhost:8080/"
    },
    "id": "95aa3cc9",
    "outputId": "70831398-ebaf-43af-c76b-fb39d3f7bddb"
   },
   "outputs": [
    {
     "name": "stdout",
     "output_type": "stream",
     "text": [
      "Not found in cache. Found in main collection.\n"
     ]
    }
   ],
   "source": [
    "# Implementing Cache in Semantic Search\n",
    "\n",
    "# Set a threshold for cache search\n",
    "threshold = 0.2\n",
    "\n",
    "ids_3 = []\n",
    "documents_3 = []\n",
    "distances_3 = []\n",
    "metadatas_3 = []\n",
    "results_df_3 = pd.DataFrame()\n",
    "\n",
    "\n",
    "# If the distance is greater than the threshold, then return the results from the main collection.\n",
    "\n",
    "if cache_results['distances'][0] == [] or cache_results['distances'][0][0] > threshold:\n",
    "      # Query the collection against the user query and return the top 10 results\n",
    "      results = research_collection.query(\n",
    "      query_texts=query_3,\n",
    "      n_results=10\n",
    "      )\n",
    "\n",
    "      # Store the query in cache_collection as document w.r.t to ChromaDB so that it can be embedded and searched against later\n",
    "      # Store retrieved text, ids, distances and metadatas in cache_collection as metadatas, so that they can be fetched easily if a query indeed matches to a query in cache\n",
    "      Keys = []\n",
    "      Values = []\n",
    "\n",
    "      for key, val in results.items():\n",
    "        if val is None:\n",
    "          continue\n",
    "        for i in range(9):\n",
    "          Keys.append(str(key)+str(i))\n",
    "          Values.append(str(val[0][i]))\n",
    "\n",
    "\n",
    "      cache_collection.add(\n",
    "          documents= [query_3],\n",
    "          ids = [query_3],  # Or if you want to assign integers as IDs 0,1,2,.., then you can use \"len(cache_results['documents'])\" as will return the no. of queries currently in the cache and assign the next digit to the new query.\"\n",
    "          metadatas = dict(zip(Keys, Values))\n",
    "      )\n",
    "\n",
    "      print(\"Not found in cache. Found in main collection.\")\n",
    "\n",
    "      result_dict_3 = {'Metadatas_3': results['metadatas'][0], 'Documents_3': results['documents'][0], 'Distances_3': results['distances'][0], \"IDs\":results[\"ids\"][0]}\n",
    "      results_df_3 = pd.DataFrame.from_dict(result_dict_3)\n",
    "      results_df_3\n",
    "\n",
    "\n",
    "# If the distance is, however, less than the threshold, you can return the results from cache\n",
    "\n",
    "elif cache_results['distances'][0][0] <= threshold:\n",
    "      cache_result_dict = cache_results['metadatas'][0][0]\n",
    "\n",
    "      # Loop through each inner list and then through the dictionary\n",
    "      for key, value in cache_result_dict.items():\n",
    "          if 'ids' in key:\n",
    "              ids.append(value)\n",
    "          elif 'documents' in key:\n",
    "              documents.append(value)\n",
    "          elif 'distances' in key:\n",
    "              distances.append(value)\n",
    "          elif 'metadatas' in key:\n",
    "              metadatas.append(value)\n",
    "\n",
    "      print(\"Found in cache!\")\n",
    "\n",
    "      # Create a DataFrame\n",
    "      results_df_3 = pd.DataFrame({\n",
    "        'IDs_1': ids,\n",
    "        'Documents_3': documents,\n",
    "        'Distances_3': distances,\n",
    "        'Metadatas_3': metadatas\n",
    "      })"
   ]
  },
  {
   "cell_type": "code",
   "execution_count": 46,
   "id": "8dac544a",
   "metadata": {
    "colab": {
     "base_uri": "https://localhost:8080/",
     "height": 206
    },
    "id": "8dac544a",
    "outputId": "35ed02dd-ca1f-420d-9b8d-d67d381dc396"
   },
   "outputs": [
    {
     "data": {
      "text/html": [
       "<div>\n",
       "<style scoped>\n",
       "    .dataframe tbody tr th:only-of-type {\n",
       "        vertical-align: middle;\n",
       "    }\n",
       "\n",
       "    .dataframe tbody tr th {\n",
       "        vertical-align: top;\n",
       "    }\n",
       "\n",
       "    .dataframe thead th {\n",
       "        text-align: right;\n",
       "    }\n",
       "</style>\n",
       "<table border=\"1\" class=\"dataframe\">\n",
       "  <thead>\n",
       "    <tr style=\"text-align: right;\">\n",
       "      <th></th>\n",
       "      <th>Metadatas_3</th>\n",
       "      <th>Documents_3</th>\n",
       "      <th>Distances_3</th>\n",
       "      <th>IDs</th>\n",
       "    </tr>\n",
       "  </thead>\n",
       "  <tbody>\n",
       "    <tr>\n",
       "      <th>0</th>\n",
       "      <td>{'Page_No.': 'Page 5'}</td>\n",
       "      <td>The EUROCALL Review, Volume 25, No. 2, Septemb...</td>\n",
       "      <td>1.462510</td>\n",
       "      <td>15</td>\n",
       "    </tr>\n",
       "    <tr>\n",
       "      <th>1</th>\n",
       "      <td>{'Page_No.': 'Page 6'}</td>\n",
       "      <td>a variety of mobile apps, such as Google\"], [\"...</td>\n",
       "      <td>1.474083</td>\n",
       "      <td>20</td>\n",
       "    </tr>\n",
       "    <tr>\n",
       "      <th>2</th>\n",
       "      <td>{'Page_No.': 'Page 4'}</td>\n",
       "      <td>on the problems raised\"], [\"during it (D\\u00f6...</td>\n",
       "      <td>1.474174</td>\n",
       "      <td>13</td>\n",
       "    </tr>\n",
       "    <tr>\n",
       "      <th>3</th>\n",
       "      <td>{'Page_No.': 'Page 2'}</td>\n",
       "      <td>different forms according to the\"], [\"person, ...</td>\n",
       "      <td>1.480930</td>\n",
       "      <td>4</td>\n",
       "    </tr>\n",
       "    <tr>\n",
       "      <th>4</th>\n",
       "      <td>{'Page_No.': 'Page 5'}</td>\n",
       "      <td>compared, modified and either merged or\"], [\"a...</td>\n",
       "      <td>1.494220</td>\n",
       "      <td>16</td>\n",
       "    </tr>\n",
       "  </tbody>\n",
       "</table>\n",
       "</div>"
      ],
      "text/plain": [
       "              Metadatas_3                                        Documents_3  \\\n",
       "0  {'Page_No.': 'Page 5'}  The EUROCALL Review, Volume 25, No. 2, Septemb...   \n",
       "1  {'Page_No.': 'Page 6'}  a variety of mobile apps, such as Google\"], [\"...   \n",
       "2  {'Page_No.': 'Page 4'}  on the problems raised\"], [\"during it (D\\u00f6...   \n",
       "3  {'Page_No.': 'Page 2'}  different forms according to the\"], [\"person, ...   \n",
       "4  {'Page_No.': 'Page 5'}  compared, modified and either merged or\"], [\"a...   \n",
       "\n",
       "   Distances_3 IDs  \n",
       "0     1.462510  15  \n",
       "1     1.474083  20  \n",
       "2     1.474174  13  \n",
       "3     1.480930   4  \n",
       "4     1.494220  16  "
      ]
     },
     "execution_count": 46,
     "metadata": {},
     "output_type": "execute_result"
    }
   ],
   "source": [
    "results_df_3.head()"
   ]
  },
  {
   "cell_type": "markdown",
   "id": "d72896b2",
   "metadata": {
    "id": "d72896b2"
   },
   "source": [
    "## 5. <font color = Purple> Re-Ranking with a Cross Encoder\n"
   ]
  },
  {
   "cell_type": "code",
   "execution_count": 47,
   "id": "0760197c",
   "metadata": {
    "id": "0760197c"
   },
   "outputs": [],
   "source": [
    "# Import the CrossEncoder library from sentence_transformers\n",
    "\n",
    "from sentence_transformers import CrossEncoder, util"
   ]
  },
  {
   "cell_type": "code",
   "execution_count": 48,
   "id": "d795a527",
   "metadata": {
    "colab": {
     "base_uri": "https://localhost:8080/",
     "height": 177,
     "referenced_widgets": [
      "8818bafd601244d59634b565dbe0572f",
      "dc11fbdb1f18447ca037d5e654b77be7",
      "f2333260aa634109b5aa98e925e79b36",
      "7e7ddd8a59ef49b3845c9ffa2251db05",
      "ada450e66f474d2eb952587d4249b1d0",
      "8c895fc64e3d4c05b78a8546fbf29058",
      "d3da6b7f7bd04f15a6e3c70c0db0da37",
      "5f024481a1e24e629d43928fa8983c73",
      "08c04588852f400787ad6e072d723458",
      "567bc001627644cfa1ffe299f43d38bd",
      "108383764845441ea566a0303f182e8c",
      "6f597b5a01314e128876aec5f429f274",
      "08198d8c901b4efbbfc4aa447a9bef6d",
      "7bf9beeb450f47aca3f5064d94cbab9d",
      "c958ff2d81944cc28a907a67bf195e05",
      "1d11d5cde82b495bb8c75a188d0ec33a",
      "0c43777f37da45599a807c55b2ede85d",
      "ee37379f837145babfa4ece7ea6c7c0c",
      "05a191e9930c4bc4926ab842367b3797",
      "b53692c1cfab4dbc88205a0b2ea5dbb6",
      "87e4d3b50a644a0987b07814200963bb",
      "28fc31c956e0402582ca71688bd06213",
      "3225aee2e63f48eca7d7630942c24d47",
      "75bc4e88b92642f7a5dee66ff0cab4e1",
      "8b7d389a86644ddcb448a9ab2cad7e41",
      "cd2e79fd0ec449d99027a7c9f1ba9165",
      "7780cc7a600642aa82cf4d802393fc67",
      "a1632696e11b4f6098f6a1d9098f64ec",
      "21babc5d87d044dfb52aff26b41bb854",
      "e885bb726eea4bf88c80fb8457913808",
      "dc83f933f879469da40c97884619679a",
      "d9621fd6ba1b4e2aa839cc731e911ac1",
      "0c4002e9958f4cf5bccc0bb0dd01506a",
      "122b9e07b08747d4b0c70f72f8d99a6b",
      "c2d11c0b81214bff9c2ddc7fdad56994",
      "88dfe2ab7f3743a9b17673af792479ac",
      "c2e13c23f5454052a6d6d0bb421fbe9c",
      "d8ea178907d34cf5b562cd1e4001b663",
      "c0ef6e5aa2064c769ba11588d7e42ea6",
      "411acd4e57b241c3afc79ae5b09b1030",
      "3d8b529e6e724463b8de7c7b478ed19e",
      "341541c3aa5f4927a9a1b7fff85968fe",
      "bb21ffdd035747d6abd19a1a5c776a67",
      "ca10644b996842cbb17256efc40f794c",
      "92bafd7650a944128b1471abe72c028b",
      "bd0d455e0ec24790b1759575d6df35ae",
      "4bd8df33d9b34f3fba8295e8a8cebd21",
      "8ae857ff4e9e4d29b2dd9f6737e06f7b",
      "d42c6f010aa9457385d9759c8621d27b",
      "c2450427527c4ae79fc2e32b711c6c8a",
      "6a0dd5e498ae4236bb4fe58bb8571de3",
      "3bc2b89a2abb463ea0c4466f55726c6d",
      "e5e02b87473d4c52b001152c1d91e438",
      "28a2b350f36f4048bd5b27617f5db553",
      "9516273ac82845c894f9ec91e65bb8db"
     ]
    },
    "id": "d795a527",
    "outputId": "f9e7af6c-a61b-443a-a49a-96cbfaf63802"
   },
   "outputs": [
    {
     "name": "stderr",
     "output_type": "stream",
     "text": [
      "c:\\Users\\anura\\OneDrive\\Documents\\TEJAS\\UpGrad\\Semantic Seach System Assignment\\myenv\\Lib\\site-packages\\huggingface_hub\\file_download.py:142: UserWarning: `huggingface_hub` cache-system uses symlinks by default to efficiently store duplicated files but your machine does not support them in C:\\Users\\anura\\.cache\\huggingface\\hub\\models--cross-encoder--ms-marco-MiniLM-L-6-v2. Caching files will still work but in a degraded version that might require more space on your disk. This warning can be disabled by setting the `HF_HUB_DISABLE_SYMLINKS_WARNING` environment variable. For more details, see https://huggingface.co/docs/huggingface_hub/how-to-cache#limitations.\n",
      "To support symlinks on Windows, you either need to activate Developer Mode or to run Python as an administrator. In order to activate developer mode, see this article: https://docs.microsoft.com/en-us/windows/apps/get-started/enable-your-device-for-development\n",
      "  warnings.warn(message)\n"
     ]
    }
   ],
   "source": [
    "# Initialise the cross encoder model\n",
    "\n",
    "cross_encoder = CrossEncoder('cross-encoder/ms-marco-MiniLM-L-6-v2')"
   ]
  },
  {
   "cell_type": "markdown",
   "id": "4e900e41",
   "metadata": {
    "id": "4e900e41"
   },
   "source": [
    "##### For query 1"
   ]
  },
  {
   "cell_type": "code",
   "execution_count": 49,
   "id": "07e7ffb4",
   "metadata": {
    "id": "07e7ffb4"
   },
   "outputs": [],
   "source": [
    "# Input (query, response) pairs for each of the top  responses received from the semantic search to the cross encoder\n",
    "# Generate the cross_encoder scores for these pairs\n",
    "\n",
    "cross_inputs_1 = [[query_1, response] for response in results_df_1['Documents_1']]\n",
    "cross_rerank_scores_1 = cross_encoder.predict(cross_inputs_1)"
   ]
  },
  {
   "cell_type": "code",
   "execution_count": 50,
   "id": "b42e35a1",
   "metadata": {
    "colab": {
     "base_uri": "https://localhost:8080/"
    },
    "id": "b42e35a1",
    "outputId": "ecc5c711-2193-486c-eb4f-6e9465ade734"
   },
   "outputs": [
    {
     "data": {
      "text/plain": [
       "array([-10.551626,  -9.403101,  -9.809732,  -9.541539, -10.775994,\n",
       "        -9.310375, -10.547911, -10.770069, -10.321409, -10.342968],\n",
       "      dtype=float32)"
      ]
     },
     "execution_count": 50,
     "metadata": {},
     "output_type": "execute_result"
    }
   ],
   "source": [
    "cross_rerank_scores_1"
   ]
  },
  {
   "cell_type": "code",
   "execution_count": 51,
   "id": "806d23ce",
   "metadata": {
    "id": "806d23ce"
   },
   "outputs": [],
   "source": [
    "# Store the rerank_scores in results_df\n",
    "\n",
    "results_df_1['Reranked_scores'] = cross_rerank_scores_1"
   ]
  },
  {
   "cell_type": "code",
   "execution_count": 52,
   "id": "760d6ed1",
   "metadata": {
    "colab": {
     "base_uri": "https://localhost:8080/",
     "height": 206
    },
    "id": "760d6ed1",
    "outputId": "40bf0134-3b68-426b-cfc5-b66863083a20"
   },
   "outputs": [
    {
     "data": {
      "text/html": [
       "<div>\n",
       "<style scoped>\n",
       "    .dataframe tbody tr th:only-of-type {\n",
       "        vertical-align: middle;\n",
       "    }\n",
       "\n",
       "    .dataframe tbody tr th {\n",
       "        vertical-align: top;\n",
       "    }\n",
       "\n",
       "    .dataframe thead th {\n",
       "        text-align: right;\n",
       "    }\n",
       "</style>\n",
       "<table border=\"1\" class=\"dataframe\">\n",
       "  <thead>\n",
       "    <tr style=\"text-align: right;\">\n",
       "      <th></th>\n",
       "      <th>Metadatas_1</th>\n",
       "      <th>Documents_1</th>\n",
       "      <th>Distances_1</th>\n",
       "      <th>IDs</th>\n",
       "      <th>Reranked_scores</th>\n",
       "    </tr>\n",
       "  </thead>\n",
       "  <tbody>\n",
       "    <tr>\n",
       "      <th>0</th>\n",
       "      <td>{'Page_No.': 'Page 4'}</td>\n",
       "      <td>on the problems raised\"], [\"during it (D\\u00f6...</td>\n",
       "      <td>1.420501</td>\n",
       "      <td>13</td>\n",
       "      <td>-10.551626</td>\n",
       "    </tr>\n",
       "    <tr>\n",
       "      <th>1</th>\n",
       "      <td>{'Page_No.': 'Page 2'}</td>\n",
       "      <td>different forms according to the\"], [\"person, ...</td>\n",
       "      <td>1.442721</td>\n",
       "      <td>4</td>\n",
       "      <td>-9.403101</td>\n",
       "    </tr>\n",
       "    <tr>\n",
       "      <th>2</th>\n",
       "      <td>{'Page_No.': 'Page 5'}</td>\n",
       "      <td>The EUROCALL Review, Volume 25, No. 2, Septemb...</td>\n",
       "      <td>1.447016</td>\n",
       "      <td>15</td>\n",
       "      <td>-9.809732</td>\n",
       "    </tr>\n",
       "    <tr>\n",
       "      <th>3</th>\n",
       "      <td>{'Page_No.': 'Page 2'}</td>\n",
       "      <td>The EUROCALL Review, Volume 25, No. 2, Septemb...</td>\n",
       "      <td>1.578391</td>\n",
       "      <td>3</td>\n",
       "      <td>-9.541539</td>\n",
       "    </tr>\n",
       "    <tr>\n",
       "      <th>4</th>\n",
       "      <td>{'Page_No.': 'Page 3'}</td>\n",
       "      <td>built\"], [\"upon mobile devices whereas some ot...</td>\n",
       "      <td>1.590897</td>\n",
       "      <td>9</td>\n",
       "      <td>-10.775994</td>\n",
       "    </tr>\n",
       "  </tbody>\n",
       "</table>\n",
       "</div>"
      ],
      "text/plain": [
       "              Metadatas_1                                        Documents_1  \\\n",
       "0  {'Page_No.': 'Page 4'}  on the problems raised\"], [\"during it (D\\u00f6...   \n",
       "1  {'Page_No.': 'Page 2'}  different forms according to the\"], [\"person, ...   \n",
       "2  {'Page_No.': 'Page 5'}  The EUROCALL Review, Volume 25, No. 2, Septemb...   \n",
       "3  {'Page_No.': 'Page 2'}  The EUROCALL Review, Volume 25, No. 2, Septemb...   \n",
       "4  {'Page_No.': 'Page 3'}  built\"], [\"upon mobile devices whereas some ot...   \n",
       "\n",
       "   Distances_1 IDs  Reranked_scores  \n",
       "0     1.420501  13       -10.551626  \n",
       "1     1.442721   4        -9.403101  \n",
       "2     1.447016  15        -9.809732  \n",
       "3     1.578391   3        -9.541539  \n",
       "4     1.590897   9       -10.775994  "
      ]
     },
     "execution_count": 52,
     "metadata": {},
     "output_type": "execute_result"
    }
   ],
   "source": [
    "results_df_1.head()"
   ]
  },
  {
   "cell_type": "code",
   "execution_count": 53,
   "id": "d7dbce46",
   "metadata": {
    "id": "d7dbce46"
   },
   "outputs": [],
   "source": [
    "import pandas as pd\n",
    "# change the display properties of pandas to max\n",
    "pd.set_option('display.max_colwidth', 800)\n",
    "pd.set_option('display.max_columns', 800)\n",
    "pd.set_option('display.max_rows', 5000)"
   ]
  },
  {
   "cell_type": "code",
   "execution_count": 54,
   "id": "2a71d91a",
   "metadata": {
    "colab": {
     "base_uri": "https://localhost:8080/",
     "height": 577
    },
    "id": "2a71d91a",
    "outputId": "f3d785d2-b9d4-43e1-de40-4020b3824246"
   },
   "outputs": [
    {
     "data": {
      "text/html": [
       "<div>\n",
       "<style scoped>\n",
       "    .dataframe tbody tr th:only-of-type {\n",
       "        vertical-align: middle;\n",
       "    }\n",
       "\n",
       "    .dataframe tbody tr th {\n",
       "        vertical-align: top;\n",
       "    }\n",
       "\n",
       "    .dataframe thead th {\n",
       "        text-align: right;\n",
       "    }\n",
       "</style>\n",
       "<table border=\"1\" class=\"dataframe\">\n",
       "  <thead>\n",
       "    <tr style=\"text-align: right;\">\n",
       "      <th></th>\n",
       "      <th>Metadatas_1</th>\n",
       "      <th>Documents_1</th>\n",
       "      <th>Distances_1</th>\n",
       "      <th>IDs</th>\n",
       "      <th>Reranked_scores</th>\n",
       "    </tr>\n",
       "  </thead>\n",
       "  <tbody>\n",
       "    <tr>\n",
       "      <th>0</th>\n",
       "      <td>{'Page_No.': 'Page 4'}</td>\n",
       "      <td>on the problems raised\"], [\"during it (D\\u00f6rnyei, 2007). As D\\u00f6rnyei (2007) explains, in this type of the interview \\u201cthe\"], [\"interviewer provides guidelines and direction (hence the \\u2018-structured\\u2019 part in the name),\"], [\"but is also keen to follow up interesting developments and to let the interviewee\"], [\"elaborate on certain issues (hence the \\u2018semi-\\u2019 part)\\u201d (p. 136).\"], [\"During the interview, the present researcher attempted to encourage the subjects to\"], [\"describe their learning experiences concerning the use of mobile devices for English\"], [\"study. This was a form of introspection where the students were prompted to examine\"], [\"their behaviors and provide a first person narrative of such experiences. All the study\"], [\"participants were inf...</td>\n",
       "      <td>1.420501</td>\n",
       "      <td>13</td>\n",
       "      <td>-10.551626</td>\n",
       "    </tr>\n",
       "    <tr>\n",
       "      <th>1</th>\n",
       "      <td>{'Page_No.': 'Page 2'}</td>\n",
       "      <td>different forms according to the\"], [\"person, the setting, and multiple contextual and micro-contextual factors\\u201d and it is \\u201ca\"], [\"multi-faceted concept that consists of several layers\\u201d (Reinders, 2011, p. 48) whose\"], [\"roots are based in political, societal and educational developments. In addition to this,\"], [\"work on autonomy emphasizes social dimensions of learner autonomy in view of the\"], [\"fact that \\u201cautonomous learners always do things for themselves, but they may or may\"], [\"not do things on their own\\u201d (Little, 2009, p. 223) and that by means of social\"], [\"interactions language learners \\u201cdevelop a capacity to analyze, reflect upon and\"], [\"synthesize information to create new perspectives\\u201d (Lee, 2011, p. 88). It should also be\"], [\"noted t...</td>\n",
       "      <td>1.442721</td>\n",
       "      <td>4</td>\n",
       "      <td>-9.403101</td>\n",
       "    </tr>\n",
       "    <tr>\n",
       "      <th>2</th>\n",
       "      <td>{'Page_No.': 'Page 5'}</td>\n",
       "      <td>The EUROCALL Review, Volume 25, No. 2, September 2017 [[\"\\uf0b7 Do you organize regular formal or informal mobile English language learning\"], [\"sessions?\"], [\"\\uf0b7 What do you learn most frequently by means of your mobile device(s)? Why\"], [\"this?\"], [\"\\uf0b7 Do you feel that thanks to the use of your mobile device(s) you devote more\"], [\"time for learning the English language?\"], [\"\\uf0b7 As far as learning English through your mobile device(s) is concerned, do you\"], [\"consider yourself as an experienced user of such device(s)?\"]] consider yourself as an experienced user of such device(s)? [[\"The gathered data were subjected to qualitative and quantitative analysis. The analysis\"], [\"started with partial transcription of the important parts of the data (D\\u00f6rnyei, 2007) on a\"],...</td>\n",
       "      <td>1.447016</td>\n",
       "      <td>15</td>\n",
       "      <td>-9.809732</td>\n",
       "    </tr>\n",
       "  </tbody>\n",
       "</table>\n",
       "</div>"
      ],
      "text/plain": [
       "              Metadatas_1  \\\n",
       "0  {'Page_No.': 'Page 4'}   \n",
       "1  {'Page_No.': 'Page 2'}   \n",
       "2  {'Page_No.': 'Page 5'}   \n",
       "\n",
       "                                                                                                                                                                                                                                                                                                                                                                                                                                                                                                                                                                                                                                                                                                                                                                                                                       Documents_1  \\\n",
       "0  on the problems raised\"], [\"during it (D\\u00f6rnyei, 2007). As D\\u00f6rnyei (2007) explains, in this type of the interview \\u201cthe\"], [\"interviewer provides guidelines and direction (hence the \\u2018-structured\\u2019 part in the name),\"], [\"but is also keen to follow up interesting developments and to let the interviewee\"], [\"elaborate on certain issues (hence the \\u2018semi-\\u2019 part)\\u201d (p. 136).\"], [\"During the interview, the present researcher attempted to encourage the subjects to\"], [\"describe their learning experiences concerning the use of mobile devices for English\"], [\"study. This was a form of introspection where the students were prompted to examine\"], [\"their behaviors and provide a first person narrative of such experiences. All the study\"], [\"participants were inf...   \n",
       "1  different forms according to the\"], [\"person, the setting, and multiple contextual and micro-contextual factors\\u201d and it is \\u201ca\"], [\"multi-faceted concept that consists of several layers\\u201d (Reinders, 2011, p. 48) whose\"], [\"roots are based in political, societal and educational developments. In addition to this,\"], [\"work on autonomy emphasizes social dimensions of learner autonomy in view of the\"], [\"fact that \\u201cautonomous learners always do things for themselves, but they may or may\"], [\"not do things on their own\\u201d (Little, 2009, p. 223) and that by means of social\"], [\"interactions language learners \\u201cdevelop a capacity to analyze, reflect upon and\"], [\"synthesize information to create new perspectives\\u201d (Lee, 2011, p. 88). It should also be\"], [\"noted t...   \n",
       "2  The EUROCALL Review, Volume 25, No. 2, September 2017 [[\"\\uf0b7 Do you organize regular formal or informal mobile English language learning\"], [\"sessions?\"], [\"\\uf0b7 What do you learn most frequently by means of your mobile device(s)? Why\"], [\"this?\"], [\"\\uf0b7 Do you feel that thanks to the use of your mobile device(s) you devote more\"], [\"time for learning the English language?\"], [\"\\uf0b7 As far as learning English through your mobile device(s) is concerned, do you\"], [\"consider yourself as an experienced user of such device(s)?\"]] consider yourself as an experienced user of such device(s)? [[\"The gathered data were subjected to qualitative and quantitative analysis. The analysis\"], [\"started with partial transcription of the important parts of the data (D\\u00f6rnyei, 2007) on a\"],...   \n",
       "\n",
       "   Distances_1 IDs  Reranked_scores  \n",
       "0     1.420501  13       -10.551626  \n",
       "1     1.442721   4        -9.403101  \n",
       "2     1.447016  15        -9.809732  "
      ]
     },
     "execution_count": 54,
     "metadata": {},
     "output_type": "execute_result"
    }
   ],
   "source": [
    "# Return the top 3 results from semantic search\n",
    "\n",
    "top_3_semantic_1 = results_df_1.sort_values(by='Distances_1')\n",
    "top_3_semantic_1[:3]"
   ]
  },
  {
   "cell_type": "code",
   "execution_count": 55,
   "id": "96f368e2",
   "metadata": {
    "colab": {
     "base_uri": "https://localhost:8080/",
     "height": 595
    },
    "id": "96f368e2",
    "outputId": "3388b040-b6f0-4a76-b9ac-f7814712493f"
   },
   "outputs": [
    {
     "data": {
      "text/html": [
       "<div>\n",
       "<style scoped>\n",
       "    .dataframe tbody tr th:only-of-type {\n",
       "        vertical-align: middle;\n",
       "    }\n",
       "\n",
       "    .dataframe tbody tr th {\n",
       "        vertical-align: top;\n",
       "    }\n",
       "\n",
       "    .dataframe thead th {\n",
       "        text-align: right;\n",
       "    }\n",
       "</style>\n",
       "<table border=\"1\" class=\"dataframe\">\n",
       "  <thead>\n",
       "    <tr style=\"text-align: right;\">\n",
       "      <th></th>\n",
       "      <th>Metadatas_1</th>\n",
       "      <th>Documents_1</th>\n",
       "      <th>Distances_1</th>\n",
       "      <th>IDs</th>\n",
       "      <th>Reranked_scores</th>\n",
       "    </tr>\n",
       "  </thead>\n",
       "  <tbody>\n",
       "    <tr>\n",
       "      <th>5</th>\n",
       "      <td>{'Page_No.': 'Page 3'}</td>\n",
       "      <td>The EUROCALL Review, Volume 25, No. 2, September 2017 [[\"2.2. Autonomy and new technologies\"], [\"As stated in the previous section, the concept of autonomy has been one of the most\"], [\"researched areas in the field of second/foreign language learning and teaching over the\"], [\"last few decades. It should be noted, however, that the field of learner autonomy\"], [\"started to be influenced by technology in the mid-1990s as a result of the growing\"], [\"influence of the internet on almost every sphere of our life (including second/foreign\"], [\"language education) and the opportunities for online collaboration and communication\"], [\"(Reinders &amp; White, 2016). As stated by Benson and Chik (2010), the latest generations\"], [\"of new technologies, particularly those encompassing the internet, us...</td>\n",
       "      <td>1.593661</td>\n",
       "      <td>7</td>\n",
       "      <td>-9.310375</td>\n",
       "    </tr>\n",
       "    <tr>\n",
       "      <th>1</th>\n",
       "      <td>{'Page_No.': 'Page 2'}</td>\n",
       "      <td>different forms according to the\"], [\"person, the setting, and multiple contextual and micro-contextual factors\\u201d and it is \\u201ca\"], [\"multi-faceted concept that consists of several layers\\u201d (Reinders, 2011, p. 48) whose\"], [\"roots are based in political, societal and educational developments. In addition to this,\"], [\"work on autonomy emphasizes social dimensions of learner autonomy in view of the\"], [\"fact that \\u201cautonomous learners always do things for themselves, but they may or may\"], [\"not do things on their own\\u201d (Little, 2009, p. 223) and that by means of social\"], [\"interactions language learners \\u201cdevelop a capacity to analyze, reflect upon and\"], [\"synthesize information to create new perspectives\\u201d (Lee, 2011, p. 88). It should also be\"], [\"noted t...</td>\n",
       "      <td>1.442721</td>\n",
       "      <td>4</td>\n",
       "      <td>-9.403101</td>\n",
       "    </tr>\n",
       "    <tr>\n",
       "      <th>3</th>\n",
       "      <td>{'Page_No.': 'Page 2'}</td>\n",
       "      <td>The EUROCALL Review, Volume 25, No. 2, September 2017 [[\"namely a research question, description of participants, data collection tools and\"], [\"analysis. This is followed by the presentation of the results of the study. The article\"], [\"closes with discussion and conclusions.\"], [\"2. Literature review\"], [\"2.1. Autonomy in foreign/second language learning\"], [\"The concept of autonomy in second/foreign language learning and teaching has been\"], [\"the focus of attention for many researchers and practitioners for more than three\"], [\"decades. According to Benson (2001), the notion of autonomy was introduced and\"], [\"popularized in 1981 by Henri Holec in his seminal report for the Council of Europe\"], [\"entitled Autonomy in Foreign Language Learning in which the researcher defined\"], [\"au...</td>\n",
       "      <td>1.578391</td>\n",
       "      <td>3</td>\n",
       "      <td>-9.541539</td>\n",
       "    </tr>\n",
       "  </tbody>\n",
       "</table>\n",
       "</div>"
      ],
      "text/plain": [
       "              Metadatas_1  \\\n",
       "5  {'Page_No.': 'Page 3'}   \n",
       "1  {'Page_No.': 'Page 2'}   \n",
       "3  {'Page_No.': 'Page 2'}   \n",
       "\n",
       "                                                                                                                                                                                                                                                                                                                                                                                                                                                                                                                                                                                                                                                                                                                                                                                                                       Documents_1  \\\n",
       "5  The EUROCALL Review, Volume 25, No. 2, September 2017 [[\"2.2. Autonomy and new technologies\"], [\"As stated in the previous section, the concept of autonomy has been one of the most\"], [\"researched areas in the field of second/foreign language learning and teaching over the\"], [\"last few decades. It should be noted, however, that the field of learner autonomy\"], [\"started to be influenced by technology in the mid-1990s as a result of the growing\"], [\"influence of the internet on almost every sphere of our life (including second/foreign\"], [\"language education) and the opportunities for online collaboration and communication\"], [\"(Reinders & White, 2016). As stated by Benson and Chik (2010), the latest generations\"], [\"of new technologies, particularly those encompassing the internet, us...   \n",
       "1  different forms according to the\"], [\"person, the setting, and multiple contextual and micro-contextual factors\\u201d and it is \\u201ca\"], [\"multi-faceted concept that consists of several layers\\u201d (Reinders, 2011, p. 48) whose\"], [\"roots are based in political, societal and educational developments. In addition to this,\"], [\"work on autonomy emphasizes social dimensions of learner autonomy in view of the\"], [\"fact that \\u201cautonomous learners always do things for themselves, but they may or may\"], [\"not do things on their own\\u201d (Little, 2009, p. 223) and that by means of social\"], [\"interactions language learners \\u201cdevelop a capacity to analyze, reflect upon and\"], [\"synthesize information to create new perspectives\\u201d (Lee, 2011, p. 88). It should also be\"], [\"noted t...   \n",
       "3  The EUROCALL Review, Volume 25, No. 2, September 2017 [[\"namely a research question, description of participants, data collection tools and\"], [\"analysis. This is followed by the presentation of the results of the study. The article\"], [\"closes with discussion and conclusions.\"], [\"2. Literature review\"], [\"2.1. Autonomy in foreign/second language learning\"], [\"The concept of autonomy in second/foreign language learning and teaching has been\"], [\"the focus of attention for many researchers and practitioners for more than three\"], [\"decades. According to Benson (2001), the notion of autonomy was introduced and\"], [\"popularized in 1981 by Henri Holec in his seminal report for the Council of Europe\"], [\"entitled Autonomy in Foreign Language Learning in which the researcher defined\"], [\"au...   \n",
       "\n",
       "   Distances_1 IDs  Reranked_scores  \n",
       "5     1.593661   7        -9.310375  \n",
       "1     1.442721   4        -9.403101  \n",
       "3     1.578391   3        -9.541539  "
      ]
     },
     "execution_count": 55,
     "metadata": {},
     "output_type": "execute_result"
    }
   ],
   "source": [
    "# Return the top 3 results after reranking\n",
    "\n",
    "top_3_rerank_1 = results_df_1.sort_values(by='Reranked_scores', ascending=False)\n",
    "top_3_rerank_1[:3]"
   ]
  },
  {
   "cell_type": "code",
   "execution_count": 56,
   "id": "7f38d1ca",
   "metadata": {
    "id": "7f38d1ca"
   },
   "outputs": [],
   "source": [
    "top_3_RAG_1 = top_3_rerank_1[[\"Documents_1\", \"Metadatas_1\"]][:3]"
   ]
  },
  {
   "cell_type": "code",
   "execution_count": 57,
   "id": "7ab057b4",
   "metadata": {
    "colab": {
     "base_uri": "https://localhost:8080/",
     "height": 35
    },
    "id": "7ab057b4",
    "outputId": "1e9adf1d-3c8d-46d2-f2fa-bc2d644e0438"
   },
   "outputs": [
    {
     "data": {
      "text/plain": [
       "'What is covered in the Abstract section of the document?'"
      ]
     },
     "execution_count": 57,
     "metadata": {},
     "output_type": "execute_result"
    }
   ],
   "source": [
    "query_1"
   ]
  },
  {
   "cell_type": "code",
   "execution_count": 58,
   "id": "92f7230a",
   "metadata": {
    "colab": {
     "base_uri": "https://localhost:8080/",
     "height": 421
    },
    "id": "92f7230a",
    "outputId": "b0d0e9b3-0553-4238-9de5-339c23592a77"
   },
   "outputs": [
    {
     "data": {
      "text/html": [
       "<div>\n",
       "<style scoped>\n",
       "    .dataframe tbody tr th:only-of-type {\n",
       "        vertical-align: middle;\n",
       "    }\n",
       "\n",
       "    .dataframe tbody tr th {\n",
       "        vertical-align: top;\n",
       "    }\n",
       "\n",
       "    .dataframe thead th {\n",
       "        text-align: right;\n",
       "    }\n",
       "</style>\n",
       "<table border=\"1\" class=\"dataframe\">\n",
       "  <thead>\n",
       "    <tr style=\"text-align: right;\">\n",
       "      <th></th>\n",
       "      <th>Documents_1</th>\n",
       "      <th>Metadatas_1</th>\n",
       "    </tr>\n",
       "  </thead>\n",
       "  <tbody>\n",
       "    <tr>\n",
       "      <th>5</th>\n",
       "      <td>The EUROCALL Review, Volume 25, No. 2, September 2017 [[\"2.2. Autonomy and new technologies\"], [\"As stated in the previous section, the concept of autonomy has been one of the most\"], [\"researched areas in the field of second/foreign language learning and teaching over the\"], [\"last few decades. It should be noted, however, that the field of learner autonomy\"], [\"started to be influenced by technology in the mid-1990s as a result of the growing\"], [\"influence of the internet on almost every sphere of our life (including second/foreign\"], [\"language education) and the opportunities for online collaboration and communication\"], [\"(Reinders &amp; White, 2016). As stated by Benson and Chik (2010), the latest generations\"], [\"of new technologies, particularly those encompassing the internet, us...</td>\n",
       "      <td>{'Page_No.': 'Page 3'}</td>\n",
       "    </tr>\n",
       "    <tr>\n",
       "      <th>1</th>\n",
       "      <td>different forms according to the\"], [\"person, the setting, and multiple contextual and micro-contextual factors\\u201d and it is \\u201ca\"], [\"multi-faceted concept that consists of several layers\\u201d (Reinders, 2011, p. 48) whose\"], [\"roots are based in political, societal and educational developments. In addition to this,\"], [\"work on autonomy emphasizes social dimensions of learner autonomy in view of the\"], [\"fact that \\u201cautonomous learners always do things for themselves, but they may or may\"], [\"not do things on their own\\u201d (Little, 2009, p. 223) and that by means of social\"], [\"interactions language learners \\u201cdevelop a capacity to analyze, reflect upon and\"], [\"synthesize information to create new perspectives\\u201d (Lee, 2011, p. 88). It should also be\"], [\"noted t...</td>\n",
       "      <td>{'Page_No.': 'Page 2'}</td>\n",
       "    </tr>\n",
       "    <tr>\n",
       "      <th>3</th>\n",
       "      <td>The EUROCALL Review, Volume 25, No. 2, September 2017 [[\"namely a research question, description of participants, data collection tools and\"], [\"analysis. This is followed by the presentation of the results of the study. The article\"], [\"closes with discussion and conclusions.\"], [\"2. Literature review\"], [\"2.1. Autonomy in foreign/second language learning\"], [\"The concept of autonomy in second/foreign language learning and teaching has been\"], [\"the focus of attention for many researchers and practitioners for more than three\"], [\"decades. According to Benson (2001), the notion of autonomy was introduced and\"], [\"popularized in 1981 by Henri Holec in his seminal report for the Council of Europe\"], [\"entitled Autonomy in Foreign Language Learning in which the researcher defined\"], [\"au...</td>\n",
       "      <td>{'Page_No.': 'Page 2'}</td>\n",
       "    </tr>\n",
       "  </tbody>\n",
       "</table>\n",
       "</div>"
      ],
      "text/plain": [
       "                                                                                                                                                                                                                                                                                                                                                                                                                                                                                                                                                                                                                                                                                                                                                                                                                       Documents_1  \\\n",
       "5  The EUROCALL Review, Volume 25, No. 2, September 2017 [[\"2.2. Autonomy and new technologies\"], [\"As stated in the previous section, the concept of autonomy has been one of the most\"], [\"researched areas in the field of second/foreign language learning and teaching over the\"], [\"last few decades. It should be noted, however, that the field of learner autonomy\"], [\"started to be influenced by technology in the mid-1990s as a result of the growing\"], [\"influence of the internet on almost every sphere of our life (including second/foreign\"], [\"language education) and the opportunities for online collaboration and communication\"], [\"(Reinders & White, 2016). As stated by Benson and Chik (2010), the latest generations\"], [\"of new technologies, particularly those encompassing the internet, us...   \n",
       "1  different forms according to the\"], [\"person, the setting, and multiple contextual and micro-contextual factors\\u201d and it is \\u201ca\"], [\"multi-faceted concept that consists of several layers\\u201d (Reinders, 2011, p. 48) whose\"], [\"roots are based in political, societal and educational developments. In addition to this,\"], [\"work on autonomy emphasizes social dimensions of learner autonomy in view of the\"], [\"fact that \\u201cautonomous learners always do things for themselves, but they may or may\"], [\"not do things on their own\\u201d (Little, 2009, p. 223) and that by means of social\"], [\"interactions language learners \\u201cdevelop a capacity to analyze, reflect upon and\"], [\"synthesize information to create new perspectives\\u201d (Lee, 2011, p. 88). It should also be\"], [\"noted t...   \n",
       "3  The EUROCALL Review, Volume 25, No. 2, September 2017 [[\"namely a research question, description of participants, data collection tools and\"], [\"analysis. This is followed by the presentation of the results of the study. The article\"], [\"closes with discussion and conclusions.\"], [\"2. Literature review\"], [\"2.1. Autonomy in foreign/second language learning\"], [\"The concept of autonomy in second/foreign language learning and teaching has been\"], [\"the focus of attention for many researchers and practitioners for more than three\"], [\"decades. According to Benson (2001), the notion of autonomy was introduced and\"], [\"popularized in 1981 by Henri Holec in his seminal report for the Council of Europe\"], [\"entitled Autonomy in Foreign Language Learning in which the researcher defined\"], [\"au...   \n",
       "\n",
       "              Metadatas_1  \n",
       "5  {'Page_No.': 'Page 3'}  \n",
       "1  {'Page_No.': 'Page 2'}  \n",
       "3  {'Page_No.': 'Page 2'}  "
      ]
     },
     "execution_count": 58,
     "metadata": {},
     "output_type": "execute_result"
    }
   ],
   "source": [
    "top_3_RAG_1"
   ]
  },
  {
   "cell_type": "markdown",
   "id": "45d01d51",
   "metadata": {
    "id": "45d01d51"
   },
   "source": [
    "### For the second Query"
   ]
  },
  {
   "cell_type": "code",
   "execution_count": 59,
   "id": "cbc70377",
   "metadata": {
    "id": "cbc70377"
   },
   "outputs": [],
   "source": [
    "# Input (query, response) pairs for each of the top  responses received from the semantic search to the cross encoder\n",
    "# Generate the cross_encoder scores for these pairs\n",
    "\n",
    "cross_inputs_2 = [[query_2, response] for response in results_df_2['Documents_2']]\n",
    "cross_rerank_scores_2 = cross_encoder.predict(cross_inputs_2)"
   ]
  },
  {
   "cell_type": "code",
   "execution_count": 60,
   "id": "e3b9c944",
   "metadata": {
    "colab": {
     "base_uri": "https://localhost:8080/"
    },
    "id": "e3b9c944",
    "outputId": "57439f03-a966-4694-8420-ca6880f9d427"
   },
   "outputs": [
    {
     "data": {
      "text/plain": [
       "array([ -7.062504 , -10.025257 ,  -9.446735 , -10.247514 ,  -9.3070545,\n",
       "       -10.936045 , -11.400219 ,  -9.389368 ,  -7.9865794, -11.275461 ],\n",
       "      dtype=float32)"
      ]
     },
     "execution_count": 60,
     "metadata": {},
     "output_type": "execute_result"
    }
   ],
   "source": [
    "cross_rerank_scores_2"
   ]
  },
  {
   "cell_type": "code",
   "execution_count": 61,
   "id": "cbdd8090",
   "metadata": {
    "id": "cbdd8090"
   },
   "outputs": [],
   "source": [
    "# Store the rerank_scores in results_df\n",
    "\n",
    "results_df_2['Reranked_scores'] = cross_rerank_scores_2"
   ]
  },
  {
   "cell_type": "code",
   "execution_count": 62,
   "id": "577f557a",
   "metadata": {
    "colab": {
     "base_uri": "https://localhost:8080/",
     "height": 543
    },
    "id": "577f557a",
    "outputId": "d310d265-7209-48e2-82a8-e37cd48f4a2c"
   },
   "outputs": [
    {
     "data": {
      "text/html": [
       "<div>\n",
       "<style scoped>\n",
       "    .dataframe tbody tr th:only-of-type {\n",
       "        vertical-align: middle;\n",
       "    }\n",
       "\n",
       "    .dataframe tbody tr th {\n",
       "        vertical-align: top;\n",
       "    }\n",
       "\n",
       "    .dataframe thead th {\n",
       "        text-align: right;\n",
       "    }\n",
       "</style>\n",
       "<table border=\"1\" class=\"dataframe\">\n",
       "  <thead>\n",
       "    <tr style=\"text-align: right;\">\n",
       "      <th></th>\n",
       "      <th>Metadatas_2</th>\n",
       "      <th>Documents_2</th>\n",
       "      <th>Distances_2</th>\n",
       "      <th>IDs</th>\n",
       "      <th>Reranked_scores</th>\n",
       "    </tr>\n",
       "  </thead>\n",
       "  <tbody>\n",
       "    <tr>\n",
       "      <th>0</th>\n",
       "      <td>{'Page_No.': 'Page 5'}</td>\n",
       "      <td>The EUROCALL Review, Volume 25, No. 2, September 2017 [[\"\\uf0b7 Do you organize regular formal or informal mobile English language learning\"], [\"sessions?\"], [\"\\uf0b7 What do you learn most frequently by means of your mobile device(s)? Why\"], [\"this?\"], [\"\\uf0b7 Do you feel that thanks to the use of your mobile device(s) you devote more\"], [\"time for learning the English language?\"], [\"\\uf0b7 As far as learning English through your mobile device(s) is concerned, do you\"], [\"consider yourself as an experienced user of such device(s)?\"]] consider yourself as an experienced user of such device(s)? [[\"The gathered data were subjected to qualitative and quantitative analysis. The analysis\"], [\"started with partial transcription of the important parts of the data (D\\u00f6rnyei, 2007) on a\"],...</td>\n",
       "      <td>1.433200</td>\n",
       "      <td>15</td>\n",
       "      <td>-7.062504</td>\n",
       "    </tr>\n",
       "    <tr>\n",
       "      <th>1</th>\n",
       "      <td>{'Page_No.': 'Page 5'}</td>\n",
       "      <td>compared, modified and either merged or\"], [\"abandoned. It should also be noted that the obtained data were analyzed quantitatively.\"], [\"This type of analysis involved counting the number of the interviewees\\u2019 responses and\"], [\"calculating percentages.\"], [\"4. Findings\"], [\"A thorough analysis of the data yielded the following thematic categories: usage of\"], [\"mobile devices, reasons for using mobile devices, resources and tools, mobile\"], [\"encounters, language practiced and study performance.\"], [\"4.1. Usage of mobile devices\"], [\"Table 1 shows the study participants\\u2019 mobile devices (MobDs) usage descriptions. The\"], [\"table demonstrates that smartphones were the most often used mobile devices by the\"], [\"students. In addition, the numerical information in the table indic...</td>\n",
       "      <td>1.477400</td>\n",
       "      <td>16</td>\n",
       "      <td>-10.025257</td>\n",
       "    </tr>\n",
       "    <tr>\n",
       "      <th>2</th>\n",
       "      <td>{'Page_No.': 'Page 6'}</td>\n",
       "      <td>The EUROCALL Review, Volume 25, No. 2, September 2017 [[\"\", \"S8\", \"female\", \"smartphone\", \"2 years\", \"fairly experienced\"], [\"\", \"S9\", \"male\", \"smartphone\", \"4 years\", \"not very experienced\"], [\"3rd year\", \"S10\", \"female\", \"smartphone\", \"5 years\", \"fairly experienced\"], [null, \"S11\", \"female\", \"tablet and cell phone\", \"2 years\", \"fairly experienced\"], [null, \"S12\", \"female\", \"smartphone\", \"2 years\", \"not very experienced\"], [\"B.A.\", \"S13\", \"female\", \"smartphone\", \"3 years\", \"not very experienced\"], [null, \"S14\", \"male\", \"smartphone and tablet\", \"3 years\", \"experienced\"], [null, \"S15\", \"female\", \"smartphone and tablet\", \"5 years\", \"fairly experienced\"], [\"\", \"S16\", \"female\", \"smartphone\", \"3 years\", \"not very experienced\"], [null, \"S17\", \"female\", \"smartphone and tablet\", \"6 years\", \"fa...</td>\n",
       "      <td>1.495414</td>\n",
       "      <td>18</td>\n",
       "      <td>-9.446735</td>\n",
       "    </tr>\n",
       "  </tbody>\n",
       "</table>\n",
       "</div>"
      ],
      "text/plain": [
       "              Metadatas_2  \\\n",
       "0  {'Page_No.': 'Page 5'}   \n",
       "1  {'Page_No.': 'Page 5'}   \n",
       "2  {'Page_No.': 'Page 6'}   \n",
       "\n",
       "                                                                                                                                                                                                                                                                                                                                                                                                                                                                                                                                                                                                                                                                                                                                                                                                                       Documents_2  \\\n",
       "0  The EUROCALL Review, Volume 25, No. 2, September 2017 [[\"\\uf0b7 Do you organize regular formal or informal mobile English language learning\"], [\"sessions?\"], [\"\\uf0b7 What do you learn most frequently by means of your mobile device(s)? Why\"], [\"this?\"], [\"\\uf0b7 Do you feel that thanks to the use of your mobile device(s) you devote more\"], [\"time for learning the English language?\"], [\"\\uf0b7 As far as learning English through your mobile device(s) is concerned, do you\"], [\"consider yourself as an experienced user of such device(s)?\"]] consider yourself as an experienced user of such device(s)? [[\"The gathered data were subjected to qualitative and quantitative analysis. The analysis\"], [\"started with partial transcription of the important parts of the data (D\\u00f6rnyei, 2007) on a\"],...   \n",
       "1  compared, modified and either merged or\"], [\"abandoned. It should also be noted that the obtained data were analyzed quantitatively.\"], [\"This type of analysis involved counting the number of the interviewees\\u2019 responses and\"], [\"calculating percentages.\"], [\"4. Findings\"], [\"A thorough analysis of the data yielded the following thematic categories: usage of\"], [\"mobile devices, reasons for using mobile devices, resources and tools, mobile\"], [\"encounters, language practiced and study performance.\"], [\"4.1. Usage of mobile devices\"], [\"Table 1 shows the study participants\\u2019 mobile devices (MobDs) usage descriptions. The\"], [\"table demonstrates that smartphones were the most often used mobile devices by the\"], [\"students. In addition, the numerical information in the table indic...   \n",
       "2  The EUROCALL Review, Volume 25, No. 2, September 2017 [[\"\", \"S8\", \"female\", \"smartphone\", \"2 years\", \"fairly experienced\"], [\"\", \"S9\", \"male\", \"smartphone\", \"4 years\", \"not very experienced\"], [\"3rd year\", \"S10\", \"female\", \"smartphone\", \"5 years\", \"fairly experienced\"], [null, \"S11\", \"female\", \"tablet and cell phone\", \"2 years\", \"fairly experienced\"], [null, \"S12\", \"female\", \"smartphone\", \"2 years\", \"not very experienced\"], [\"B.A.\", \"S13\", \"female\", \"smartphone\", \"3 years\", \"not very experienced\"], [null, \"S14\", \"male\", \"smartphone and tablet\", \"3 years\", \"experienced\"], [null, \"S15\", \"female\", \"smartphone and tablet\", \"5 years\", \"fairly experienced\"], [\"\", \"S16\", \"female\", \"smartphone\", \"3 years\", \"not very experienced\"], [null, \"S17\", \"female\", \"smartphone and tablet\", \"6 years\", \"fa...   \n",
       "\n",
       "   Distances_2 IDs  Reranked_scores  \n",
       "0     1.433200  15        -7.062504  \n",
       "1     1.477400  16       -10.025257  \n",
       "2     1.495414  18        -9.446735  "
      ]
     },
     "execution_count": 62,
     "metadata": {},
     "output_type": "execute_result"
    }
   ],
   "source": [
    "# Return the top 3 results from semantic search\n",
    "\n",
    "top_3_semantic_2 = results_df_2.sort_values(by='Distances_2')\n",
    "top_3_semantic_2[:3]"
   ]
  },
  {
   "cell_type": "code",
   "execution_count": 63,
   "id": "2dd4b2b3",
   "metadata": {
    "colab": {
     "base_uri": "https://localhost:8080/",
     "height": 560
    },
    "id": "2dd4b2b3",
    "outputId": "4a36750c-f9ca-4ab4-c9bc-8d92a18509ff"
   },
   "outputs": [
    {
     "data": {
      "text/html": [
       "<div>\n",
       "<style scoped>\n",
       "    .dataframe tbody tr th:only-of-type {\n",
       "        vertical-align: middle;\n",
       "    }\n",
       "\n",
       "    .dataframe tbody tr th {\n",
       "        vertical-align: top;\n",
       "    }\n",
       "\n",
       "    .dataframe thead th {\n",
       "        text-align: right;\n",
       "    }\n",
       "</style>\n",
       "<table border=\"1\" class=\"dataframe\">\n",
       "  <thead>\n",
       "    <tr style=\"text-align: right;\">\n",
       "      <th></th>\n",
       "      <th>Metadatas_2</th>\n",
       "      <th>Documents_2</th>\n",
       "      <th>Distances_2</th>\n",
       "      <th>IDs</th>\n",
       "      <th>Reranked_scores</th>\n",
       "    </tr>\n",
       "  </thead>\n",
       "  <tbody>\n",
       "    <tr>\n",
       "      <th>0</th>\n",
       "      <td>{'Page_No.': 'Page 5'}</td>\n",
       "      <td>The EUROCALL Review, Volume 25, No. 2, September 2017 [[\"\\uf0b7 Do you organize regular formal or informal mobile English language learning\"], [\"sessions?\"], [\"\\uf0b7 What do you learn most frequently by means of your mobile device(s)? Why\"], [\"this?\"], [\"\\uf0b7 Do you feel that thanks to the use of your mobile device(s) you devote more\"], [\"time for learning the English language?\"], [\"\\uf0b7 As far as learning English through your mobile device(s) is concerned, do you\"], [\"consider yourself as an experienced user of such device(s)?\"]] consider yourself as an experienced user of such device(s)? [[\"The gathered data were subjected to qualitative and quantitative analysis. The analysis\"], [\"started with partial transcription of the important parts of the data (D\\u00f6rnyei, 2007) on a\"],...</td>\n",
       "      <td>1.433200</td>\n",
       "      <td>15</td>\n",
       "      <td>-7.062504</td>\n",
       "    </tr>\n",
       "    <tr>\n",
       "      <th>8</th>\n",
       "      <td>{'Page_No.': 'Page 10'}</td>\n",
       "      <td>The EUROCALL Review, Volume 25, No. 2, September 2017 [[\"data collection instrument, namely the semi-structured interview which was conducted\"], [\"only once. Perhaps a different set of questions, their wording or a series of such\"], [\"interviews carried out over a particular period of time (say one academic year) may\"], [\"have yielded more detailed and insightful results. Despite these limitations, this study\"], [\"provided some insights into why and how advanced English language learners engage\"], [\"with their mobile devices to develop learning experiences. It should be stressed,\"], [\"however, that teacher involvement in creating conditions conducive to the use of mobile\"], [\"devices for language study may result in greater learner engagement with mobile\"], [\"technology (i.e. mobile de...</td>\n",
       "      <td>1.556413</td>\n",
       "      <td>33</td>\n",
       "      <td>-7.986579</td>\n",
       "    </tr>\n",
       "    <tr>\n",
       "      <th>4</th>\n",
       "      <td>{'Page_No.': 'Page 6'}</td>\n",
       "      <td>[\"Illustrative examples of such opinions are provided below (3):\"]] Illustrative examples of such opinions are provided below (3): [[\"S10: It\\u2019s very comfortable. I can reach for my dictionary any time I want and I\"], [\"don\\u2019t have to carry thick books (...) The main aspect is convenience.\"], [\"S5: It\\u2019s because I can find needed information ... it\\u2019s convenient because I\"], [\"always carry my smartphone and I have access to the internet all the time (...)\"], [\"At home I also use my smartphone and I don\\u2019t mind it has a small screen.\"], [\"S14: My tablet lets me organize things and keep my documents in one place.\"], [\"This is because studying English means having countless study materials (...) I\"], [\"can store them there (...) this also gives me easier access to them...</td>\n",
       "      <td>1.525234</td>\n",
       "      <td>19</td>\n",
       "      <td>-9.307055</td>\n",
       "    </tr>\n",
       "  </tbody>\n",
       "</table>\n",
       "</div>"
      ],
      "text/plain": [
       "               Metadatas_2  \\\n",
       "0   {'Page_No.': 'Page 5'}   \n",
       "8  {'Page_No.': 'Page 10'}   \n",
       "4   {'Page_No.': 'Page 6'}   \n",
       "\n",
       "                                                                                                                                                                                                                                                                                                                                                                                                                                                                                                                                                                                                                                                                                                                                                                                                                       Documents_2  \\\n",
       "0  The EUROCALL Review, Volume 25, No. 2, September 2017 [[\"\\uf0b7 Do you organize regular formal or informal mobile English language learning\"], [\"sessions?\"], [\"\\uf0b7 What do you learn most frequently by means of your mobile device(s)? Why\"], [\"this?\"], [\"\\uf0b7 Do you feel that thanks to the use of your mobile device(s) you devote more\"], [\"time for learning the English language?\"], [\"\\uf0b7 As far as learning English through your mobile device(s) is concerned, do you\"], [\"consider yourself as an experienced user of such device(s)?\"]] consider yourself as an experienced user of such device(s)? [[\"The gathered data were subjected to qualitative and quantitative analysis. The analysis\"], [\"started with partial transcription of the important parts of the data (D\\u00f6rnyei, 2007) on a\"],...   \n",
       "8  The EUROCALL Review, Volume 25, No. 2, September 2017 [[\"data collection instrument, namely the semi-structured interview which was conducted\"], [\"only once. Perhaps a different set of questions, their wording or a series of such\"], [\"interviews carried out over a particular period of time (say one academic year) may\"], [\"have yielded more detailed and insightful results. Despite these limitations, this study\"], [\"provided some insights into why and how advanced English language learners engage\"], [\"with their mobile devices to develop learning experiences. It should be stressed,\"], [\"however, that teacher involvement in creating conditions conducive to the use of mobile\"], [\"devices for language study may result in greater learner engagement with mobile\"], [\"technology (i.e. mobile de...   \n",
       "4  [\"Illustrative examples of such opinions are provided below (3):\"]] Illustrative examples of such opinions are provided below (3): [[\"S10: It\\u2019s very comfortable. I can reach for my dictionary any time I want and I\"], [\"don\\u2019t have to carry thick books (...) The main aspect is convenience.\"], [\"S5: It\\u2019s because I can find needed information ... it\\u2019s convenient because I\"], [\"always carry my smartphone and I have access to the internet all the time (...)\"], [\"At home I also use my smartphone and I don\\u2019t mind it has a small screen.\"], [\"S14: My tablet lets me organize things and keep my documents in one place.\"], [\"This is because studying English means having countless study materials (...) I\"], [\"can store them there (...) this also gives me easier access to them...   \n",
       "\n",
       "   Distances_2 IDs  Reranked_scores  \n",
       "0     1.433200  15        -7.062504  \n",
       "8     1.556413  33        -7.986579  \n",
       "4     1.525234  19        -9.307055  "
      ]
     },
     "execution_count": 63,
     "metadata": {},
     "output_type": "execute_result"
    }
   ],
   "source": [
    "# Return the top 3 results after reranking\n",
    "\n",
    "top_3_rerank_2 = results_df_2.sort_values(by='Reranked_scores', ascending=False)\n",
    "top_3_rerank_2[:3]"
   ]
  },
  {
   "cell_type": "code",
   "execution_count": 64,
   "id": "c8c16126",
   "metadata": {
    "id": "c8c16126"
   },
   "outputs": [],
   "source": [
    "top_3_RAG_2 = top_3_rerank_2[[\"Documents_2\", \"Metadatas_2\"]][:3]"
   ]
  },
  {
   "cell_type": "code",
   "execution_count": 65,
   "id": "e8f4d4e5",
   "metadata": {
    "colab": {
     "base_uri": "https://localhost:8080/",
     "height": 35
    },
    "id": "e8f4d4e5",
    "outputId": "493d0052-1f21-404d-b922-ded1edf8c66c"
   },
   "outputs": [
    {
     "data": {
      "text/plain": [
       "'What does Literature Review section of the document contain?'"
      ]
     },
     "execution_count": 65,
     "metadata": {},
     "output_type": "execute_result"
    }
   ],
   "source": [
    "query_2"
   ]
  },
  {
   "cell_type": "code",
   "execution_count": 66,
   "id": "cffac321",
   "metadata": {
    "colab": {
     "base_uri": "https://localhost:8080/",
     "height": 404
    },
    "id": "cffac321",
    "outputId": "8b98d11f-9216-410b-932b-14373034ce20"
   },
   "outputs": [
    {
     "data": {
      "text/html": [
       "<div>\n",
       "<style scoped>\n",
       "    .dataframe tbody tr th:only-of-type {\n",
       "        vertical-align: middle;\n",
       "    }\n",
       "\n",
       "    .dataframe tbody tr th {\n",
       "        vertical-align: top;\n",
       "    }\n",
       "\n",
       "    .dataframe thead th {\n",
       "        text-align: right;\n",
       "    }\n",
       "</style>\n",
       "<table border=\"1\" class=\"dataframe\">\n",
       "  <thead>\n",
       "    <tr style=\"text-align: right;\">\n",
       "      <th></th>\n",
       "      <th>Documents_2</th>\n",
       "      <th>Metadatas_2</th>\n",
       "    </tr>\n",
       "  </thead>\n",
       "  <tbody>\n",
       "    <tr>\n",
       "      <th>0</th>\n",
       "      <td>The EUROCALL Review, Volume 25, No. 2, September 2017 [[\"\\uf0b7 Do you organize regular formal or informal mobile English language learning\"], [\"sessions?\"], [\"\\uf0b7 What do you learn most frequently by means of your mobile device(s)? Why\"], [\"this?\"], [\"\\uf0b7 Do you feel that thanks to the use of your mobile device(s) you devote more\"], [\"time for learning the English language?\"], [\"\\uf0b7 As far as learning English through your mobile device(s) is concerned, do you\"], [\"consider yourself as an experienced user of such device(s)?\"]] consider yourself as an experienced user of such device(s)? [[\"The gathered data were subjected to qualitative and quantitative analysis. The analysis\"], [\"started with partial transcription of the important parts of the data (D\\u00f6rnyei, 2007) on a\"],...</td>\n",
       "      <td>{'Page_No.': 'Page 5'}</td>\n",
       "    </tr>\n",
       "    <tr>\n",
       "      <th>8</th>\n",
       "      <td>The EUROCALL Review, Volume 25, No. 2, September 2017 [[\"data collection instrument, namely the semi-structured interview which was conducted\"], [\"only once. Perhaps a different set of questions, their wording or a series of such\"], [\"interviews carried out over a particular period of time (say one academic year) may\"], [\"have yielded more detailed and insightful results. Despite these limitations, this study\"], [\"provided some insights into why and how advanced English language learners engage\"], [\"with their mobile devices to develop learning experiences. It should be stressed,\"], [\"however, that teacher involvement in creating conditions conducive to the use of mobile\"], [\"devices for language study may result in greater learner engagement with mobile\"], [\"technology (i.e. mobile de...</td>\n",
       "      <td>{'Page_No.': 'Page 10'}</td>\n",
       "    </tr>\n",
       "    <tr>\n",
       "      <th>4</th>\n",
       "      <td>[\"Illustrative examples of such opinions are provided below (3):\"]] Illustrative examples of such opinions are provided below (3): [[\"S10: It\\u2019s very comfortable. I can reach for my dictionary any time I want and I\"], [\"don\\u2019t have to carry thick books (...) The main aspect is convenience.\"], [\"S5: It\\u2019s because I can find needed information ... it\\u2019s convenient because I\"], [\"always carry my smartphone and I have access to the internet all the time (...)\"], [\"At home I also use my smartphone and I don\\u2019t mind it has a small screen.\"], [\"S14: My tablet lets me organize things and keep my documents in one place.\"], [\"This is because studying English means having countless study materials (...) I\"], [\"can store them there (...) this also gives me easier access to them...</td>\n",
       "      <td>{'Page_No.': 'Page 6'}</td>\n",
       "    </tr>\n",
       "  </tbody>\n",
       "</table>\n",
       "</div>"
      ],
      "text/plain": [
       "                                                                                                                                                                                                                                                                                                                                                                                                                                                                                                                                                                                                                                                                                                                                                                                                                       Documents_2  \\\n",
       "0  The EUROCALL Review, Volume 25, No. 2, September 2017 [[\"\\uf0b7 Do you organize regular formal or informal mobile English language learning\"], [\"sessions?\"], [\"\\uf0b7 What do you learn most frequently by means of your mobile device(s)? Why\"], [\"this?\"], [\"\\uf0b7 Do you feel that thanks to the use of your mobile device(s) you devote more\"], [\"time for learning the English language?\"], [\"\\uf0b7 As far as learning English through your mobile device(s) is concerned, do you\"], [\"consider yourself as an experienced user of such device(s)?\"]] consider yourself as an experienced user of such device(s)? [[\"The gathered data were subjected to qualitative and quantitative analysis. The analysis\"], [\"started with partial transcription of the important parts of the data (D\\u00f6rnyei, 2007) on a\"],...   \n",
       "8  The EUROCALL Review, Volume 25, No. 2, September 2017 [[\"data collection instrument, namely the semi-structured interview which was conducted\"], [\"only once. Perhaps a different set of questions, their wording or a series of such\"], [\"interviews carried out over a particular period of time (say one academic year) may\"], [\"have yielded more detailed and insightful results. Despite these limitations, this study\"], [\"provided some insights into why and how advanced English language learners engage\"], [\"with their mobile devices to develop learning experiences. It should be stressed,\"], [\"however, that teacher involvement in creating conditions conducive to the use of mobile\"], [\"devices for language study may result in greater learner engagement with mobile\"], [\"technology (i.e. mobile de...   \n",
       "4  [\"Illustrative examples of such opinions are provided below (3):\"]] Illustrative examples of such opinions are provided below (3): [[\"S10: It\\u2019s very comfortable. I can reach for my dictionary any time I want and I\"], [\"don\\u2019t have to carry thick books (...) The main aspect is convenience.\"], [\"S5: It\\u2019s because I can find needed information ... it\\u2019s convenient because I\"], [\"always carry my smartphone and I have access to the internet all the time (...)\"], [\"At home I also use my smartphone and I don\\u2019t mind it has a small screen.\"], [\"S14: My tablet lets me organize things and keep my documents in one place.\"], [\"This is because studying English means having countless study materials (...) I\"], [\"can store them there (...) this also gives me easier access to them...   \n",
       "\n",
       "               Metadatas_2  \n",
       "0   {'Page_No.': 'Page 5'}  \n",
       "8  {'Page_No.': 'Page 10'}  \n",
       "4   {'Page_No.': 'Page 6'}  "
      ]
     },
     "execution_count": 66,
     "metadata": {},
     "output_type": "execute_result"
    }
   ],
   "source": [
    "top_3_RAG_2"
   ]
  },
  {
   "cell_type": "markdown",
   "id": "a509825c",
   "metadata": {
    "id": "a509825c"
   },
   "source": [
    "##### Query 3"
   ]
  },
  {
   "cell_type": "code",
   "execution_count": 67,
   "id": "46b4c75e",
   "metadata": {
    "id": "46b4c75e"
   },
   "outputs": [],
   "source": [
    "# Input (query, response) pairs for each of the top responses received from the semantic search to the cross encoder\n",
    "# Generate the cross_encoder scores for these pairs\n",
    "\n",
    "cross_inputs_3 = [[query_3, response] for response in results_df_3['Documents_3']]\n",
    "cross_rerank_scores_3 = cross_encoder.predict(cross_inputs_3)"
   ]
  },
  {
   "cell_type": "code",
   "execution_count": 68,
   "id": "52da91a1",
   "metadata": {
    "colab": {
     "base_uri": "https://localhost:8080/"
    },
    "id": "52da91a1",
    "outputId": "edebc764-0f57-46f1-d435-3953eb38fd80"
   },
   "outputs": [
    {
     "data": {
      "text/plain": [
       "array([-10.051212, -11.329065, -10.870022, -10.207796, -10.456713,\n",
       "       -10.905957, -11.150194, -11.128535, -11.413888, -11.122671],\n",
       "      dtype=float32)"
      ]
     },
     "execution_count": 68,
     "metadata": {},
     "output_type": "execute_result"
    }
   ],
   "source": [
    "cross_rerank_scores_3"
   ]
  },
  {
   "cell_type": "code",
   "execution_count": 69,
   "id": "b8e095c1",
   "metadata": {
    "id": "b8e095c1"
   },
   "outputs": [],
   "source": [
    "# Store the rerank_scores in results_df\n",
    "\n",
    "results_df_3['Reranked_scores'] = cross_rerank_scores_3"
   ]
  },
  {
   "cell_type": "code",
   "execution_count": 70,
   "id": "69e2fa9e",
   "metadata": {
    "colab": {
     "base_uri": "https://localhost:8080/",
     "height": 543
    },
    "id": "69e2fa9e",
    "outputId": "b0a76381-3ad5-4199-85bb-a6407244e4c1"
   },
   "outputs": [
    {
     "data": {
      "text/html": [
       "<div>\n",
       "<style scoped>\n",
       "    .dataframe tbody tr th:only-of-type {\n",
       "        vertical-align: middle;\n",
       "    }\n",
       "\n",
       "    .dataframe tbody tr th {\n",
       "        vertical-align: top;\n",
       "    }\n",
       "\n",
       "    .dataframe thead th {\n",
       "        text-align: right;\n",
       "    }\n",
       "</style>\n",
       "<table border=\"1\" class=\"dataframe\">\n",
       "  <thead>\n",
       "    <tr style=\"text-align: right;\">\n",
       "      <th></th>\n",
       "      <th>Metadatas_3</th>\n",
       "      <th>Documents_3</th>\n",
       "      <th>Distances_3</th>\n",
       "      <th>IDs</th>\n",
       "      <th>Reranked_scores</th>\n",
       "    </tr>\n",
       "  </thead>\n",
       "  <tbody>\n",
       "    <tr>\n",
       "      <th>0</th>\n",
       "      <td>{'Page_No.': 'Page 5'}</td>\n",
       "      <td>The EUROCALL Review, Volume 25, No. 2, September 2017 [[\"\\uf0b7 Do you organize regular formal or informal mobile English language learning\"], [\"sessions?\"], [\"\\uf0b7 What do you learn most frequently by means of your mobile device(s)? Why\"], [\"this?\"], [\"\\uf0b7 Do you feel that thanks to the use of your mobile device(s) you devote more\"], [\"time for learning the English language?\"], [\"\\uf0b7 As far as learning English through your mobile device(s) is concerned, do you\"], [\"consider yourself as an experienced user of such device(s)?\"]] consider yourself as an experienced user of such device(s)? [[\"The gathered data were subjected to qualitative and quantitative analysis. The analysis\"], [\"started with partial transcription of the important parts of the data (D\\u00f6rnyei, 2007) on a\"],...</td>\n",
       "      <td>1.462510</td>\n",
       "      <td>15</td>\n",
       "      <td>-10.051212</td>\n",
       "    </tr>\n",
       "    <tr>\n",
       "      <th>1</th>\n",
       "      <td>{'Page_No.': 'Page 6'}</td>\n",
       "      <td>a variety of mobile apps, such as Google\"], [\"Translate, Duolingo and Fiszkoteka. The students usually accessed these tools in order\"], [\"to check, revise and learn the target language vocabulary. Two students also reported\"], [\"using Voscreen and WhatsApp, i.e. mobile apps for watching video and communicating\"], [\"with people, respectively. It should also be noted that the interviewees pointed out\"], [\"various online resources they used with the purpose of practicing reading and listening\"], [\"skills (e.g. TED, online newspapers, YouTube), vocabulary (e.g. 6 Minute\"]] skills (e.g. TED, online newspapers, YouTube), vocabulary (e.g. 6 Minute 23</td>\n",
       "      <td>1.474083</td>\n",
       "      <td>20</td>\n",
       "      <td>-11.329065</td>\n",
       "    </tr>\n",
       "    <tr>\n",
       "      <th>2</th>\n",
       "      <td>{'Page_No.': 'Page 4'}</td>\n",
       "      <td>on the problems raised\"], [\"during it (D\\u00f6rnyei, 2007). As D\\u00f6rnyei (2007) explains, in this type of the interview \\u201cthe\"], [\"interviewer provides guidelines and direction (hence the \\u2018-structured\\u2019 part in the name),\"], [\"but is also keen to follow up interesting developments and to let the interviewee\"], [\"elaborate on certain issues (hence the \\u2018semi-\\u2019 part)\\u201d (p. 136).\"], [\"During the interview, the present researcher attempted to encourage the subjects to\"], [\"describe their learning experiences concerning the use of mobile devices for English\"], [\"study. This was a form of introspection where the students were prompted to examine\"], [\"their behaviors and provide a first person narrative of such experiences. All the study\"], [\"participants were inf...</td>\n",
       "      <td>1.474174</td>\n",
       "      <td>13</td>\n",
       "      <td>-10.870022</td>\n",
       "    </tr>\n",
       "  </tbody>\n",
       "</table>\n",
       "</div>"
      ],
      "text/plain": [
       "              Metadatas_3  \\\n",
       "0  {'Page_No.': 'Page 5'}   \n",
       "1  {'Page_No.': 'Page 6'}   \n",
       "2  {'Page_No.': 'Page 4'}   \n",
       "\n",
       "                                                                                                                                                                                                                                                                                                                                                                                                                                                                                                                                                                                                                                                                                                                                                                                                                       Documents_3  \\\n",
       "0  The EUROCALL Review, Volume 25, No. 2, September 2017 [[\"\\uf0b7 Do you organize regular formal or informal mobile English language learning\"], [\"sessions?\"], [\"\\uf0b7 What do you learn most frequently by means of your mobile device(s)? Why\"], [\"this?\"], [\"\\uf0b7 Do you feel that thanks to the use of your mobile device(s) you devote more\"], [\"time for learning the English language?\"], [\"\\uf0b7 As far as learning English through your mobile device(s) is concerned, do you\"], [\"consider yourself as an experienced user of such device(s)?\"]] consider yourself as an experienced user of such device(s)? [[\"The gathered data were subjected to qualitative and quantitative analysis. The analysis\"], [\"started with partial transcription of the important parts of the data (D\\u00f6rnyei, 2007) on a\"],...   \n",
       "1                                                                                                                                                      a variety of mobile apps, such as Google\"], [\"Translate, Duolingo and Fiszkoteka. The students usually accessed these tools in order\"], [\"to check, revise and learn the target language vocabulary. Two students also reported\"], [\"using Voscreen and WhatsApp, i.e. mobile apps for watching video and communicating\"], [\"with people, respectively. It should also be noted that the interviewees pointed out\"], [\"various online resources they used with the purpose of practicing reading and listening\"], [\"skills (e.g. TED, online newspapers, YouTube), vocabulary (e.g. 6 Minute\"]] skills (e.g. TED, online newspapers, YouTube), vocabulary (e.g. 6 Minute 23   \n",
       "2  on the problems raised\"], [\"during it (D\\u00f6rnyei, 2007). As D\\u00f6rnyei (2007) explains, in this type of the interview \\u201cthe\"], [\"interviewer provides guidelines and direction (hence the \\u2018-structured\\u2019 part in the name),\"], [\"but is also keen to follow up interesting developments and to let the interviewee\"], [\"elaborate on certain issues (hence the \\u2018semi-\\u2019 part)\\u201d (p. 136).\"], [\"During the interview, the present researcher attempted to encourage the subjects to\"], [\"describe their learning experiences concerning the use of mobile devices for English\"], [\"study. This was a form of introspection where the students were prompted to examine\"], [\"their behaviors and provide a first person narrative of such experiences. All the study\"], [\"participants were inf...   \n",
       "\n",
       "   Distances_3 IDs  Reranked_scores  \n",
       "0     1.462510  15       -10.051212  \n",
       "1     1.474083  20       -11.329065  \n",
       "2     1.474174  13       -10.870022  "
      ]
     },
     "execution_count": 70,
     "metadata": {},
     "output_type": "execute_result"
    }
   ],
   "source": [
    "# Return the top 3 results from semantic search\n",
    "\n",
    "top_3_semantic_3 = results_df_3.sort_values(by='Distances_3')\n",
    "top_3_semantic_3[:3]"
   ]
  },
  {
   "cell_type": "code",
   "execution_count": 71,
   "id": "fb6452d4",
   "metadata": {
    "colab": {
     "base_uri": "https://localhost:8080/",
     "height": 560
    },
    "id": "fb6452d4",
    "outputId": "9e288550-504a-4ce9-9443-00f129db56da"
   },
   "outputs": [
    {
     "data": {
      "text/html": [
       "<div>\n",
       "<style scoped>\n",
       "    .dataframe tbody tr th:only-of-type {\n",
       "        vertical-align: middle;\n",
       "    }\n",
       "\n",
       "    .dataframe tbody tr th {\n",
       "        vertical-align: top;\n",
       "    }\n",
       "\n",
       "    .dataframe thead th {\n",
       "        text-align: right;\n",
       "    }\n",
       "</style>\n",
       "<table border=\"1\" class=\"dataframe\">\n",
       "  <thead>\n",
       "    <tr style=\"text-align: right;\">\n",
       "      <th></th>\n",
       "      <th>Metadatas_3</th>\n",
       "      <th>Documents_3</th>\n",
       "      <th>Distances_3</th>\n",
       "      <th>IDs</th>\n",
       "      <th>Reranked_scores</th>\n",
       "    </tr>\n",
       "  </thead>\n",
       "  <tbody>\n",
       "    <tr>\n",
       "      <th>0</th>\n",
       "      <td>{'Page_No.': 'Page 5'}</td>\n",
       "      <td>The EUROCALL Review, Volume 25, No. 2, September 2017 [[\"\\uf0b7 Do you organize regular formal or informal mobile English language learning\"], [\"sessions?\"], [\"\\uf0b7 What do you learn most frequently by means of your mobile device(s)? Why\"], [\"this?\"], [\"\\uf0b7 Do you feel that thanks to the use of your mobile device(s) you devote more\"], [\"time for learning the English language?\"], [\"\\uf0b7 As far as learning English through your mobile device(s) is concerned, do you\"], [\"consider yourself as an experienced user of such device(s)?\"]] consider yourself as an experienced user of such device(s)? [[\"The gathered data were subjected to qualitative and quantitative analysis. The analysis\"], [\"started with partial transcription of the important parts of the data (D\\u00f6rnyei, 2007) on a\"],...</td>\n",
       "      <td>1.46251</td>\n",
       "      <td>15</td>\n",
       "      <td>-10.051212</td>\n",
       "    </tr>\n",
       "    <tr>\n",
       "      <th>3</th>\n",
       "      <td>{'Page_No.': 'Page 2'}</td>\n",
       "      <td>different forms according to the\"], [\"person, the setting, and multiple contextual and micro-contextual factors\\u201d and it is \\u201ca\"], [\"multi-faceted concept that consists of several layers\\u201d (Reinders, 2011, p. 48) whose\"], [\"roots are based in political, societal and educational developments. In addition to this,\"], [\"work on autonomy emphasizes social dimensions of learner autonomy in view of the\"], [\"fact that \\u201cautonomous learners always do things for themselves, but they may or may\"], [\"not do things on their own\\u201d (Little, 2009, p. 223) and that by means of social\"], [\"interactions language learners \\u201cdevelop a capacity to analyze, reflect upon and\"], [\"synthesize information to create new perspectives\\u201d (Lee, 2011, p. 88). It should also be\"], [\"noted t...</td>\n",
       "      <td>1.48093</td>\n",
       "      <td>4</td>\n",
       "      <td>-10.207796</td>\n",
       "    </tr>\n",
       "    <tr>\n",
       "      <th>4</th>\n",
       "      <td>{'Page_No.': 'Page 5'}</td>\n",
       "      <td>compared, modified and either merged or\"], [\"abandoned. It should also be noted that the obtained data were analyzed quantitatively.\"], [\"This type of analysis involved counting the number of the interviewees\\u2019 responses and\"], [\"calculating percentages.\"], [\"4. Findings\"], [\"A thorough analysis of the data yielded the following thematic categories: usage of\"], [\"mobile devices, reasons for using mobile devices, resources and tools, mobile\"], [\"encounters, language practiced and study performance.\"], [\"4.1. Usage of mobile devices\"], [\"Table 1 shows the study participants\\u2019 mobile devices (MobDs) usage descriptions. The\"], [\"table demonstrates that smartphones were the most often used mobile devices by the\"], [\"students. In addition, the numerical information in the table indic...</td>\n",
       "      <td>1.49422</td>\n",
       "      <td>16</td>\n",
       "      <td>-10.456713</td>\n",
       "    </tr>\n",
       "  </tbody>\n",
       "</table>\n",
       "</div>"
      ],
      "text/plain": [
       "              Metadatas_3  \\\n",
       "0  {'Page_No.': 'Page 5'}   \n",
       "3  {'Page_No.': 'Page 2'}   \n",
       "4  {'Page_No.': 'Page 5'}   \n",
       "\n",
       "                                                                                                                                                                                                                                                                                                                                                                                                                                                                                                                                                                                                                                                                                                                                                                                                                       Documents_3  \\\n",
       "0  The EUROCALL Review, Volume 25, No. 2, September 2017 [[\"\\uf0b7 Do you organize regular formal or informal mobile English language learning\"], [\"sessions?\"], [\"\\uf0b7 What do you learn most frequently by means of your mobile device(s)? Why\"], [\"this?\"], [\"\\uf0b7 Do you feel that thanks to the use of your mobile device(s) you devote more\"], [\"time for learning the English language?\"], [\"\\uf0b7 As far as learning English through your mobile device(s) is concerned, do you\"], [\"consider yourself as an experienced user of such device(s)?\"]] consider yourself as an experienced user of such device(s)? [[\"The gathered data were subjected to qualitative and quantitative analysis. The analysis\"], [\"started with partial transcription of the important parts of the data (D\\u00f6rnyei, 2007) on a\"],...   \n",
       "3  different forms according to the\"], [\"person, the setting, and multiple contextual and micro-contextual factors\\u201d and it is \\u201ca\"], [\"multi-faceted concept that consists of several layers\\u201d (Reinders, 2011, p. 48) whose\"], [\"roots are based in political, societal and educational developments. In addition to this,\"], [\"work on autonomy emphasizes social dimensions of learner autonomy in view of the\"], [\"fact that \\u201cautonomous learners always do things for themselves, but they may or may\"], [\"not do things on their own\\u201d (Little, 2009, p. 223) and that by means of social\"], [\"interactions language learners \\u201cdevelop a capacity to analyze, reflect upon and\"], [\"synthesize information to create new perspectives\\u201d (Lee, 2011, p. 88). It should also be\"], [\"noted t...   \n",
       "4  compared, modified and either merged or\"], [\"abandoned. It should also be noted that the obtained data were analyzed quantitatively.\"], [\"This type of analysis involved counting the number of the interviewees\\u2019 responses and\"], [\"calculating percentages.\"], [\"4. Findings\"], [\"A thorough analysis of the data yielded the following thematic categories: usage of\"], [\"mobile devices, reasons for using mobile devices, resources and tools, mobile\"], [\"encounters, language practiced and study performance.\"], [\"4.1. Usage of mobile devices\"], [\"Table 1 shows the study participants\\u2019 mobile devices (MobDs) usage descriptions. The\"], [\"table demonstrates that smartphones were the most often used mobile devices by the\"], [\"students. In addition, the numerical information in the table indic...   \n",
       "\n",
       "   Distances_3 IDs  Reranked_scores  \n",
       "0      1.46251  15       -10.051212  \n",
       "3      1.48093   4       -10.207796  \n",
       "4      1.49422  16       -10.456713  "
      ]
     },
     "execution_count": 71,
     "metadata": {},
     "output_type": "execute_result"
    }
   ],
   "source": [
    "# Return the top 3 results after reranking\n",
    "\n",
    "top_3_rerank_3 = results_df_3.sort_values(by='Reranked_scores', ascending=False)\n",
    "top_3_rerank_3[:3]"
   ]
  },
  {
   "cell_type": "code",
   "execution_count": 72,
   "id": "b8ffe773",
   "metadata": {
    "id": "b8ffe773"
   },
   "outputs": [],
   "source": [
    "top_3_RAG_3 = top_3_rerank_3[[\"Documents_3\", \"Metadatas_3\"]][:3]"
   ]
  },
  {
   "cell_type": "code",
   "execution_count": 73,
   "id": "3985de01",
   "metadata": {
    "colab": {
     "base_uri": "https://localhost:8080/",
     "height": 35
    },
    "id": "3985de01",
    "outputId": "d6ea0e9d-b363-428d-fca5-cbd7a2f3dc82"
   },
   "outputs": [
    {
     "data": {
      "text/plain": [
       "'What are the methods covered in the method section of the document?'"
      ]
     },
     "execution_count": 73,
     "metadata": {},
     "output_type": "execute_result"
    }
   ],
   "source": [
    "query_3"
   ]
  },
  {
   "cell_type": "code",
   "execution_count": 74,
   "id": "745e6100",
   "metadata": {
    "colab": {
     "base_uri": "https://localhost:8080/",
     "height": 404
    },
    "id": "745e6100",
    "outputId": "cf8b936f-1d7a-4802-d57d-3a08d7552cbd"
   },
   "outputs": [
    {
     "data": {
      "text/html": [
       "<div>\n",
       "<style scoped>\n",
       "    .dataframe tbody tr th:only-of-type {\n",
       "        vertical-align: middle;\n",
       "    }\n",
       "\n",
       "    .dataframe tbody tr th {\n",
       "        vertical-align: top;\n",
       "    }\n",
       "\n",
       "    .dataframe thead th {\n",
       "        text-align: right;\n",
       "    }\n",
       "</style>\n",
       "<table border=\"1\" class=\"dataframe\">\n",
       "  <thead>\n",
       "    <tr style=\"text-align: right;\">\n",
       "      <th></th>\n",
       "      <th>Documents_3</th>\n",
       "      <th>Metadatas_3</th>\n",
       "    </tr>\n",
       "  </thead>\n",
       "  <tbody>\n",
       "    <tr>\n",
       "      <th>0</th>\n",
       "      <td>The EUROCALL Review, Volume 25, No. 2, September 2017 [[\"\\uf0b7 Do you organize regular formal or informal mobile English language learning\"], [\"sessions?\"], [\"\\uf0b7 What do you learn most frequently by means of your mobile device(s)? Why\"], [\"this?\"], [\"\\uf0b7 Do you feel that thanks to the use of your mobile device(s) you devote more\"], [\"time for learning the English language?\"], [\"\\uf0b7 As far as learning English through your mobile device(s) is concerned, do you\"], [\"consider yourself as an experienced user of such device(s)?\"]] consider yourself as an experienced user of such device(s)? [[\"The gathered data were subjected to qualitative and quantitative analysis. The analysis\"], [\"started with partial transcription of the important parts of the data (D\\u00f6rnyei, 2007) on a\"],...</td>\n",
       "      <td>{'Page_No.': 'Page 5'}</td>\n",
       "    </tr>\n",
       "    <tr>\n",
       "      <th>3</th>\n",
       "      <td>different forms according to the\"], [\"person, the setting, and multiple contextual and micro-contextual factors\\u201d and it is \\u201ca\"], [\"multi-faceted concept that consists of several layers\\u201d (Reinders, 2011, p. 48) whose\"], [\"roots are based in political, societal and educational developments. In addition to this,\"], [\"work on autonomy emphasizes social dimensions of learner autonomy in view of the\"], [\"fact that \\u201cautonomous learners always do things for themselves, but they may or may\"], [\"not do things on their own\\u201d (Little, 2009, p. 223) and that by means of social\"], [\"interactions language learners \\u201cdevelop a capacity to analyze, reflect upon and\"], [\"synthesize information to create new perspectives\\u201d (Lee, 2011, p. 88). It should also be\"], [\"noted t...</td>\n",
       "      <td>{'Page_No.': 'Page 2'}</td>\n",
       "    </tr>\n",
       "    <tr>\n",
       "      <th>4</th>\n",
       "      <td>compared, modified and either merged or\"], [\"abandoned. It should also be noted that the obtained data were analyzed quantitatively.\"], [\"This type of analysis involved counting the number of the interviewees\\u2019 responses and\"], [\"calculating percentages.\"], [\"4. Findings\"], [\"A thorough analysis of the data yielded the following thematic categories: usage of\"], [\"mobile devices, reasons for using mobile devices, resources and tools, mobile\"], [\"encounters, language practiced and study performance.\"], [\"4.1. Usage of mobile devices\"], [\"Table 1 shows the study participants\\u2019 mobile devices (MobDs) usage descriptions. The\"], [\"table demonstrates that smartphones were the most often used mobile devices by the\"], [\"students. In addition, the numerical information in the table indic...</td>\n",
       "      <td>{'Page_No.': 'Page 5'}</td>\n",
       "    </tr>\n",
       "  </tbody>\n",
       "</table>\n",
       "</div>"
      ],
      "text/plain": [
       "                                                                                                                                                                                                                                                                                                                                                                                                                                                                                                                                                                                                                                                                                                                                                                                                                       Documents_3  \\\n",
       "0  The EUROCALL Review, Volume 25, No. 2, September 2017 [[\"\\uf0b7 Do you organize regular formal or informal mobile English language learning\"], [\"sessions?\"], [\"\\uf0b7 What do you learn most frequently by means of your mobile device(s)? Why\"], [\"this?\"], [\"\\uf0b7 Do you feel that thanks to the use of your mobile device(s) you devote more\"], [\"time for learning the English language?\"], [\"\\uf0b7 As far as learning English through your mobile device(s) is concerned, do you\"], [\"consider yourself as an experienced user of such device(s)?\"]] consider yourself as an experienced user of such device(s)? [[\"The gathered data were subjected to qualitative and quantitative analysis. The analysis\"], [\"started with partial transcription of the important parts of the data (D\\u00f6rnyei, 2007) on a\"],...   \n",
       "3  different forms according to the\"], [\"person, the setting, and multiple contextual and micro-contextual factors\\u201d and it is \\u201ca\"], [\"multi-faceted concept that consists of several layers\\u201d (Reinders, 2011, p. 48) whose\"], [\"roots are based in political, societal and educational developments. In addition to this,\"], [\"work on autonomy emphasizes social dimensions of learner autonomy in view of the\"], [\"fact that \\u201cautonomous learners always do things for themselves, but they may or may\"], [\"not do things on their own\\u201d (Little, 2009, p. 223) and that by means of social\"], [\"interactions language learners \\u201cdevelop a capacity to analyze, reflect upon and\"], [\"synthesize information to create new perspectives\\u201d (Lee, 2011, p. 88). It should also be\"], [\"noted t...   \n",
       "4  compared, modified and either merged or\"], [\"abandoned. It should also be noted that the obtained data were analyzed quantitatively.\"], [\"This type of analysis involved counting the number of the interviewees\\u2019 responses and\"], [\"calculating percentages.\"], [\"4. Findings\"], [\"A thorough analysis of the data yielded the following thematic categories: usage of\"], [\"mobile devices, reasons for using mobile devices, resources and tools, mobile\"], [\"encounters, language practiced and study performance.\"], [\"4.1. Usage of mobile devices\"], [\"Table 1 shows the study participants\\u2019 mobile devices (MobDs) usage descriptions. The\"], [\"table demonstrates that smartphones were the most often used mobile devices by the\"], [\"students. In addition, the numerical information in the table indic...   \n",
       "\n",
       "              Metadatas_3  \n",
       "0  {'Page_No.': 'Page 5'}  \n",
       "3  {'Page_No.': 'Page 2'}  \n",
       "4  {'Page_No.': 'Page 5'}  "
      ]
     },
     "execution_count": 74,
     "metadata": {},
     "output_type": "execute_result"
    }
   ],
   "source": [
    "top_3_RAG_3"
   ]
  },
  {
   "cell_type": "markdown",
   "id": "455cd343",
   "metadata": {
    "id": "455cd343"
   },
   "source": [
    "## 6. Retrieval Augmented Generation\n"
   ]
  },
  {
   "cell_type": "code",
   "execution_count": null,
   "id": "7c93cf40",
   "metadata": {
    "id": "7c93cf40"
   },
   "outputs": [],
   "source": [
    "import google.generativeai as genai\n",
    "import os\n",
    "\n",
    "API_KEY = os.getenv(\"OPENAI_API_KEY\")\n",
    "\n",
    "# Set up Gemini API key\n",
    "genai.configure(api_key = API_KEY)\n",
    "\n",
    "\n",
    "def generate_response(query, top_3_RAG):\n",
    "    \"\"\"\n",
    "    Generate a response using a Gemini model for a research paper-based semantic search system.\n",
    "    \"\"\"\n",
    "\n",
    "    model = genai.GenerativeModel(\"gemini-2.0-flash-lite\")\n",
    "\n",
    "    messages = f\"\"\"\n",
    "    You are an AI assistant specialized in analyzing and summarizing research papers written by domain specialists. \n",
    "    Your goal is to provide **accurate, well-structured, and research-backed answers** based on the retrieved documents.\n",
    "\n",
    "    **User Query:** \"{query}\"\n",
    "\n",
    "    **Retrieved Research Snippets:**  \n",
    "    {top_3_RAG}\n",
    "\n",
    "    ### **Response Guidelines:**\n",
    "    1. **Use the provided document snippets** to construct a well-informed, factually correct response.  \n",
    "    2. **Maintain scientific accuracy** and avoid adding unsupported claims.  \n",
    "    3. If relevant information is present in a **tabular format**, reformat it for **better readability**.  \n",
    "    4. **Cite sources** by mentioning the research paper title and page numbers.  \n",
    "    5. If the query **is not relevant** to the retrieved documents, explicitly state:  \n",
    "       - `\"No relevant information was found in the retrieved research papers.\"`  \n",
    "\n",
    "    ### **Expected Response Format:**\n",
    "    - **Answer:** [Provide a clear, concise, and well-supported response]\n",
    "    - **Citations:** [List the relevant research paper names and page numbers]\n",
    "    \n",
    "    Ensure that the response is **structured, professional, and easy to understand**.\n",
    "    \"\"\"\n",
    "\n",
    "    # Generate response using the Hugging Face model\n",
    "    response = model.generate_content(messages)\n",
    "\n",
    "    return response.text.strip().split(\"\\n\")\n"
   ]
  },
  {
   "cell_type": "code",
   "execution_count": 80,
   "id": "0b4b63c1",
   "metadata": {
    "colab": {
     "base_uri": "https://localhost:8080/",
     "height": 35
    },
    "id": "0b4b63c1",
    "outputId": "a33fdaaf-4cf0-490c-b0da-fc9eebf50179"
   },
   "outputs": [
    {
     "data": {
      "text/plain": [
       "'What is covered in the Abstract section of the document?'"
      ]
     },
     "execution_count": 80,
     "metadata": {},
     "output_type": "execute_result"
    }
   ],
   "source": [
    "query_1"
   ]
  },
  {
   "cell_type": "code",
   "execution_count": 81,
   "id": "cc1472cb",
   "metadata": {
    "colab": {
     "base_uri": "https://localhost:8080/",
     "height": 162
    },
    "id": "cc1472cb",
    "outputId": "25b9ad8e-060d-49d4-af39-7f7f84a3ac5b"
   },
   "outputs": [
    {
     "name": "stdout",
     "output_type": "stream",
     "text": [
      "Query 1:\n",
      " What is covered in the Abstract section of the document?\n",
      "________________________________________________________________________________________________________________________\n",
      "['- **Answer:** The provided document snippets do not contain information about what is covered in the Abstract section.', '- **Citations:** None']\n"
     ]
    }
   ],
   "source": [
    "# Generate the response - For Query 1\n",
    "\n",
    "response = generate_response(query_1, top_3_RAG_1)\n",
    "# Print the query and response in a well-formatted manner\n",
    "print(\"Query 1:\\n\", query_1)\n",
    "print(\"_\" * 120)  # Separator line\n",
    "print(response)"
   ]
  },
  {
   "cell_type": "markdown",
   "id": "7634add1",
   "metadata": {
    "id": "7634add1"
   },
   "source": [
    "##### Query 2"
   ]
  },
  {
   "cell_type": "code",
   "execution_count": 82,
   "id": "ccf4a5bc",
   "metadata": {
    "colab": {
     "base_uri": "https://localhost:8080/",
     "height": 35
    },
    "id": "ccf4a5bc",
    "outputId": "36f02d8c-71a1-4d84-afad-d37e5e288c24"
   },
   "outputs": [
    {
     "data": {
      "text/plain": [
       "'What does Literature Review section of the document contain?'"
      ]
     },
     "execution_count": 82,
     "metadata": {},
     "output_type": "execute_result"
    }
   ],
   "source": [
    "query_2"
   ]
  },
  {
   "cell_type": "code",
   "execution_count": 83,
   "id": "984c95a4",
   "metadata": {
    "colab": {
     "base_uri": "https://localhost:8080/",
     "height": 198
    },
    "id": "984c95a4",
    "outputId": "9ae160b3-67a7-4f90-d5f1-8745573265e4"
   },
   "outputs": [
    {
     "name": "stdout",
     "output_type": "stream",
     "text": [
      "Query 1:\n",
      " What does Literature Review section of the document contain?\n",
      "________________________________________________________________________________________________________________________\n",
      "['No relevant information was found in the retrieved research papers.']\n"
     ]
    }
   ],
   "source": [
    "# Generate the response - For Query 2\n",
    "\n",
    "response = generate_response(query_2, top_3_RAG_2)\n",
    "# Print the query and response in a well-formatted manner\n",
    "print(\"Query 1:\\n\", query_2)\n",
    "print(\"_\" * 120)  # Separator line\n",
    "print(response)"
   ]
  },
  {
   "cell_type": "markdown",
   "id": "315256ea",
   "metadata": {
    "id": "315256ea"
   },
   "source": [
    "#### Query 3"
   ]
  },
  {
   "cell_type": "code",
   "execution_count": 84,
   "id": "a2bebf3f",
   "metadata": {
    "colab": {
     "base_uri": "https://localhost:8080/",
     "height": 35
    },
    "id": "a2bebf3f",
    "outputId": "a53f0cbb-90f4-40c2-df84-af763c4000bf"
   },
   "outputs": [
    {
     "data": {
      "text/plain": [
       "'What are the methods covered in the method section of the document?'"
      ]
     },
     "execution_count": 84,
     "metadata": {},
     "output_type": "execute_result"
    }
   ],
   "source": [
    "query_3"
   ]
  },
  {
   "cell_type": "code",
   "execution_count": 85,
   "id": "8d7543c1",
   "metadata": {
    "colab": {
     "base_uri": "https://localhost:8080/",
     "height": 251
    },
    "id": "8d7543c1",
    "outputId": "6dc1068b-c5fb-4617-960a-ea86e2b06726"
   },
   "outputs": [
    {
     "name": "stdout",
     "output_type": "stream",
     "text": [
      "Query 1:\n",
      " What are the methods covered in the method section of the document?\n",
      "________________________________________________________________________________________________________________________\n",
      "[\"- **Answer:** The method section of the research paper includes both qualitative and quantitative analysis of the gathered data. The qualitative analysis involved partial transcription of the data, while the quantitative analysis involved counting the number of interviewees' responses and calculating percentages (Page 5).\", '- **Citations:** The EUROCALL Review, Volume 25, No. 2, September 2017 (Page 5)']\n"
     ]
    }
   ],
   "source": [
    "# Generate the response - For Query 3\n",
    "\n",
    "response = generate_response(query_3, top_3_RAG_3)\n",
    "# Print the query and response in a well-formatted manner\n",
    "print(\"Query 1:\\n\", query_3)\n",
    "print(\"_\" * 120)  # Separator line\n",
    "print(response)"
   ]
  }
 ],
 "metadata": {
  "colab": {
   "provenance": []
  },
  "kernelspec": {
   "display_name": "Python 3 (ipykernel)",
   "language": "python",
   "name": "python3"
  },
  "language_info": {
   "codemirror_mode": {
    "name": "ipython",
    "version": 3
   },
   "file_extension": ".py",
   "mimetype": "text/x-python",
   "name": "python",
   "nbconvert_exporter": "python",
   "pygments_lexer": "ipython3",
   "version": "3.11.7"
  },
  "widgets": {
   "application/vnd.jupyter.widget-state+json": {
    "05a191e9930c4bc4926ab842367b3797": {
     "model_module": "@jupyter-widgets/base",
     "model_module_version": "1.2.0",
     "model_name": "LayoutModel",
     "state": {
      "_model_module": "@jupyter-widgets/base",
      "_model_module_version": "1.2.0",
      "_model_name": "LayoutModel",
      "_view_count": null,
      "_view_module": "@jupyter-widgets/base",
      "_view_module_version": "1.2.0",
      "_view_name": "LayoutView",
      "align_content": null,
      "align_items": null,
      "align_self": null,
      "border": null,
      "bottom": null,
      "display": null,
      "flex": null,
      "flex_flow": null,
      "grid_area": null,
      "grid_auto_columns": null,
      "grid_auto_flow": null,
      "grid_auto_rows": null,
      "grid_column": null,
      "grid_gap": null,
      "grid_row": null,
      "grid_template_areas": null,
      "grid_template_columns": null,
      "grid_template_rows": null,
      "height": null,
      "justify_content": null,
      "justify_items": null,
      "left": null,
      "margin": null,
      "max_height": null,
      "max_width": null,
      "min_height": null,
      "min_width": null,
      "object_fit": null,
      "object_position": null,
      "order": null,
      "overflow": null,
      "overflow_x": null,
      "overflow_y": null,
      "padding": null,
      "right": null,
      "top": null,
      "visibility": null,
      "width": null
     }
    },
    "08198d8c901b4efbbfc4aa447a9bef6d": {
     "model_module": "@jupyter-widgets/controls",
     "model_module_version": "1.5.0",
     "model_name": "HTMLModel",
     "state": {
      "_dom_classes": [],
      "_model_module": "@jupyter-widgets/controls",
      "_model_module_version": "1.5.0",
      "_model_name": "HTMLModel",
      "_view_count": null,
      "_view_module": "@jupyter-widgets/controls",
      "_view_module_version": "1.5.0",
      "_view_name": "HTMLView",
      "description": "",
      "description_tooltip": null,
      "layout": "IPY_MODEL_0c43777f37da45599a807c55b2ede85d",
      "placeholder": "​",
      "style": "IPY_MODEL_ee37379f837145babfa4ece7ea6c7c0c",
      "value": "model.safetensors: 100%"
     }
    },
    "08c04588852f400787ad6e072d723458": {
     "model_module": "@jupyter-widgets/controls",
     "model_module_version": "1.5.0",
     "model_name": "ProgressStyleModel",
     "state": {
      "_model_module": "@jupyter-widgets/controls",
      "_model_module_version": "1.5.0",
      "_model_name": "ProgressStyleModel",
      "_view_count": null,
      "_view_module": "@jupyter-widgets/base",
      "_view_module_version": "1.2.0",
      "_view_name": "StyleView",
      "bar_color": null,
      "description_width": ""
     }
    },
    "0c4002e9958f4cf5bccc0bb0dd01506a": {
     "model_module": "@jupyter-widgets/controls",
     "model_module_version": "1.5.0",
     "model_name": "DescriptionStyleModel",
     "state": {
      "_model_module": "@jupyter-widgets/controls",
      "_model_module_version": "1.5.0",
      "_model_name": "DescriptionStyleModel",
      "_view_count": null,
      "_view_module": "@jupyter-widgets/base",
      "_view_module_version": "1.2.0",
      "_view_name": "StyleView",
      "description_width": ""
     }
    },
    "0c43777f37da45599a807c55b2ede85d": {
     "model_module": "@jupyter-widgets/base",
     "model_module_version": "1.2.0",
     "model_name": "LayoutModel",
     "state": {
      "_model_module": "@jupyter-widgets/base",
      "_model_module_version": "1.2.0",
      "_model_name": "LayoutModel",
      "_view_count": null,
      "_view_module": "@jupyter-widgets/base",
      "_view_module_version": "1.2.0",
      "_view_name": "LayoutView",
      "align_content": null,
      "align_items": null,
      "align_self": null,
      "border": null,
      "bottom": null,
      "display": null,
      "flex": null,
      "flex_flow": null,
      "grid_area": null,
      "grid_auto_columns": null,
      "grid_auto_flow": null,
      "grid_auto_rows": null,
      "grid_column": null,
      "grid_gap": null,
      "grid_row": null,
      "grid_template_areas": null,
      "grid_template_columns": null,
      "grid_template_rows": null,
      "height": null,
      "justify_content": null,
      "justify_items": null,
      "left": null,
      "margin": null,
      "max_height": null,
      "max_width": null,
      "min_height": null,
      "min_width": null,
      "object_fit": null,
      "object_position": null,
      "order": null,
      "overflow": null,
      "overflow_x": null,
      "overflow_y": null,
      "padding": null,
      "right": null,
      "top": null,
      "visibility": null,
      "width": null
     }
    },
    "108383764845441ea566a0303f182e8c": {
     "model_module": "@jupyter-widgets/controls",
     "model_module_version": "1.5.0",
     "model_name": "DescriptionStyleModel",
     "state": {
      "_model_module": "@jupyter-widgets/controls",
      "_model_module_version": "1.5.0",
      "_model_name": "DescriptionStyleModel",
      "_view_count": null,
      "_view_module": "@jupyter-widgets/base",
      "_view_module_version": "1.2.0",
      "_view_name": "StyleView",
      "description_width": ""
     }
    },
    "122b9e07b08747d4b0c70f72f8d99a6b": {
     "model_module": "@jupyter-widgets/controls",
     "model_module_version": "1.5.0",
     "model_name": "HBoxModel",
     "state": {
      "_dom_classes": [],
      "_model_module": "@jupyter-widgets/controls",
      "_model_module_version": "1.5.0",
      "_model_name": "HBoxModel",
      "_view_count": null,
      "_view_module": "@jupyter-widgets/controls",
      "_view_module_version": "1.5.0",
      "_view_name": "HBoxView",
      "box_style": "",
      "children": [
       "IPY_MODEL_c2d11c0b81214bff9c2ddc7fdad56994",
       "IPY_MODEL_88dfe2ab7f3743a9b17673af792479ac",
       "IPY_MODEL_c2e13c23f5454052a6d6d0bb421fbe9c"
      ],
      "layout": "IPY_MODEL_d8ea178907d34cf5b562cd1e4001b663"
     }
    },
    "1d11d5cde82b495bb8c75a188d0ec33a": {
     "model_module": "@jupyter-widgets/base",
     "model_module_version": "1.2.0",
     "model_name": "LayoutModel",
     "state": {
      "_model_module": "@jupyter-widgets/base",
      "_model_module_version": "1.2.0",
      "_model_name": "LayoutModel",
      "_view_count": null,
      "_view_module": "@jupyter-widgets/base",
      "_view_module_version": "1.2.0",
      "_view_name": "LayoutView",
      "align_content": null,
      "align_items": null,
      "align_self": null,
      "border": null,
      "bottom": null,
      "display": null,
      "flex": null,
      "flex_flow": null,
      "grid_area": null,
      "grid_auto_columns": null,
      "grid_auto_flow": null,
      "grid_auto_rows": null,
      "grid_column": null,
      "grid_gap": null,
      "grid_row": null,
      "grid_template_areas": null,
      "grid_template_columns": null,
      "grid_template_rows": null,
      "height": null,
      "justify_content": null,
      "justify_items": null,
      "left": null,
      "margin": null,
      "max_height": null,
      "max_width": null,
      "min_height": null,
      "min_width": null,
      "object_fit": null,
      "object_position": null,
      "order": null,
      "overflow": null,
      "overflow_x": null,
      "overflow_y": null,
      "padding": null,
      "right": null,
      "top": null,
      "visibility": null,
      "width": null
     }
    },
    "21babc5d87d044dfb52aff26b41bb854": {
     "model_module": "@jupyter-widgets/controls",
     "model_module_version": "1.5.0",
     "model_name": "DescriptionStyleModel",
     "state": {
      "_model_module": "@jupyter-widgets/controls",
      "_model_module_version": "1.5.0",
      "_model_name": "DescriptionStyleModel",
      "_view_count": null,
      "_view_module": "@jupyter-widgets/base",
      "_view_module_version": "1.2.0",
      "_view_name": "StyleView",
      "description_width": ""
     }
    },
    "28a2b350f36f4048bd5b27617f5db553": {
     "model_module": "@jupyter-widgets/base",
     "model_module_version": "1.2.0",
     "model_name": "LayoutModel",
     "state": {
      "_model_module": "@jupyter-widgets/base",
      "_model_module_version": "1.2.0",
      "_model_name": "LayoutModel",
      "_view_count": null,
      "_view_module": "@jupyter-widgets/base",
      "_view_module_version": "1.2.0",
      "_view_name": "LayoutView",
      "align_content": null,
      "align_items": null,
      "align_self": null,
      "border": null,
      "bottom": null,
      "display": null,
      "flex": null,
      "flex_flow": null,
      "grid_area": null,
      "grid_auto_columns": null,
      "grid_auto_flow": null,
      "grid_auto_rows": null,
      "grid_column": null,
      "grid_gap": null,
      "grid_row": null,
      "grid_template_areas": null,
      "grid_template_columns": null,
      "grid_template_rows": null,
      "height": null,
      "justify_content": null,
      "justify_items": null,
      "left": null,
      "margin": null,
      "max_height": null,
      "max_width": null,
      "min_height": null,
      "min_width": null,
      "object_fit": null,
      "object_position": null,
      "order": null,
      "overflow": null,
      "overflow_x": null,
      "overflow_y": null,
      "padding": null,
      "right": null,
      "top": null,
      "visibility": null,
      "width": null
     }
    },
    "28fc31c956e0402582ca71688bd06213": {
     "model_module": "@jupyter-widgets/controls",
     "model_module_version": "1.5.0",
     "model_name": "DescriptionStyleModel",
     "state": {
      "_model_module": "@jupyter-widgets/controls",
      "_model_module_version": "1.5.0",
      "_model_name": "DescriptionStyleModel",
      "_view_count": null,
      "_view_module": "@jupyter-widgets/base",
      "_view_module_version": "1.2.0",
      "_view_name": "StyleView",
      "description_width": ""
     }
    },
    "3225aee2e63f48eca7d7630942c24d47": {
     "model_module": "@jupyter-widgets/controls",
     "model_module_version": "1.5.0",
     "model_name": "HBoxModel",
     "state": {
      "_dom_classes": [],
      "_model_module": "@jupyter-widgets/controls",
      "_model_module_version": "1.5.0",
      "_model_name": "HBoxModel",
      "_view_count": null,
      "_view_module": "@jupyter-widgets/controls",
      "_view_module_version": "1.5.0",
      "_view_name": "HBoxView",
      "box_style": "",
      "children": [
       "IPY_MODEL_75bc4e88b92642f7a5dee66ff0cab4e1",
       "IPY_MODEL_8b7d389a86644ddcb448a9ab2cad7e41",
       "IPY_MODEL_cd2e79fd0ec449d99027a7c9f1ba9165"
      ],
      "layout": "IPY_MODEL_7780cc7a600642aa82cf4d802393fc67"
     }
    },
    "341541c3aa5f4927a9a1b7fff85968fe": {
     "model_module": "@jupyter-widgets/controls",
     "model_module_version": "1.5.0",
     "model_name": "ProgressStyleModel",
     "state": {
      "_model_module": "@jupyter-widgets/controls",
      "_model_module_version": "1.5.0",
      "_model_name": "ProgressStyleModel",
      "_view_count": null,
      "_view_module": "@jupyter-widgets/base",
      "_view_module_version": "1.2.0",
      "_view_name": "StyleView",
      "bar_color": null,
      "description_width": ""
     }
    },
    "3bc2b89a2abb463ea0c4466f55726c6d": {
     "model_module": "@jupyter-widgets/base",
     "model_module_version": "1.2.0",
     "model_name": "LayoutModel",
     "state": {
      "_model_module": "@jupyter-widgets/base",
      "_model_module_version": "1.2.0",
      "_model_name": "LayoutModel",
      "_view_count": null,
      "_view_module": "@jupyter-widgets/base",
      "_view_module_version": "1.2.0",
      "_view_name": "LayoutView",
      "align_content": null,
      "align_items": null,
      "align_self": null,
      "border": null,
      "bottom": null,
      "display": null,
      "flex": null,
      "flex_flow": null,
      "grid_area": null,
      "grid_auto_columns": null,
      "grid_auto_flow": null,
      "grid_auto_rows": null,
      "grid_column": null,
      "grid_gap": null,
      "grid_row": null,
      "grid_template_areas": null,
      "grid_template_columns": null,
      "grid_template_rows": null,
      "height": null,
      "justify_content": null,
      "justify_items": null,
      "left": null,
      "margin": null,
      "max_height": null,
      "max_width": null,
      "min_height": null,
      "min_width": null,
      "object_fit": null,
      "object_position": null,
      "order": null,
      "overflow": null,
      "overflow_x": null,
      "overflow_y": null,
      "padding": null,
      "right": null,
      "top": null,
      "visibility": null,
      "width": null
     }
    },
    "3d8b529e6e724463b8de7c7b478ed19e": {
     "model_module": "@jupyter-widgets/base",
     "model_module_version": "1.2.0",
     "model_name": "LayoutModel",
     "state": {
      "_model_module": "@jupyter-widgets/base",
      "_model_module_version": "1.2.0",
      "_model_name": "LayoutModel",
      "_view_count": null,
      "_view_module": "@jupyter-widgets/base",
      "_view_module_version": "1.2.0",
      "_view_name": "LayoutView",
      "align_content": null,
      "align_items": null,
      "align_self": null,
      "border": null,
      "bottom": null,
      "display": null,
      "flex": null,
      "flex_flow": null,
      "grid_area": null,
      "grid_auto_columns": null,
      "grid_auto_flow": null,
      "grid_auto_rows": null,
      "grid_column": null,
      "grid_gap": null,
      "grid_row": null,
      "grid_template_areas": null,
      "grid_template_columns": null,
      "grid_template_rows": null,
      "height": null,
      "justify_content": null,
      "justify_items": null,
      "left": null,
      "margin": null,
      "max_height": null,
      "max_width": null,
      "min_height": null,
      "min_width": null,
      "object_fit": null,
      "object_position": null,
      "order": null,
      "overflow": null,
      "overflow_x": null,
      "overflow_y": null,
      "padding": null,
      "right": null,
      "top": null,
      "visibility": null,
      "width": null
     }
    },
    "411acd4e57b241c3afc79ae5b09b1030": {
     "model_module": "@jupyter-widgets/controls",
     "model_module_version": "1.5.0",
     "model_name": "DescriptionStyleModel",
     "state": {
      "_model_module": "@jupyter-widgets/controls",
      "_model_module_version": "1.5.0",
      "_model_name": "DescriptionStyleModel",
      "_view_count": null,
      "_view_module": "@jupyter-widgets/base",
      "_view_module_version": "1.2.0",
      "_view_name": "StyleView",
      "description_width": ""
     }
    },
    "4bd8df33d9b34f3fba8295e8a8cebd21": {
     "model_module": "@jupyter-widgets/controls",
     "model_module_version": "1.5.0",
     "model_name": "FloatProgressModel",
     "state": {
      "_dom_classes": [],
      "_model_module": "@jupyter-widgets/controls",
      "_model_module_version": "1.5.0",
      "_model_name": "FloatProgressModel",
      "_view_count": null,
      "_view_module": "@jupyter-widgets/controls",
      "_view_module_version": "1.5.0",
      "_view_name": "ProgressView",
      "bar_style": "success",
      "description": "",
      "description_tooltip": null,
      "layout": "IPY_MODEL_3bc2b89a2abb463ea0c4466f55726c6d",
      "max": 112,
      "min": 0,
      "orientation": "horizontal",
      "style": "IPY_MODEL_e5e02b87473d4c52b001152c1d91e438",
      "value": 112
     }
    },
    "567bc001627644cfa1ffe299f43d38bd": {
     "model_module": "@jupyter-widgets/base",
     "model_module_version": "1.2.0",
     "model_name": "LayoutModel",
     "state": {
      "_model_module": "@jupyter-widgets/base",
      "_model_module_version": "1.2.0",
      "_model_name": "LayoutModel",
      "_view_count": null,
      "_view_module": "@jupyter-widgets/base",
      "_view_module_version": "1.2.0",
      "_view_name": "LayoutView",
      "align_content": null,
      "align_items": null,
      "align_self": null,
      "border": null,
      "bottom": null,
      "display": null,
      "flex": null,
      "flex_flow": null,
      "grid_area": null,
      "grid_auto_columns": null,
      "grid_auto_flow": null,
      "grid_auto_rows": null,
      "grid_column": null,
      "grid_gap": null,
      "grid_row": null,
      "grid_template_areas": null,
      "grid_template_columns": null,
      "grid_template_rows": null,
      "height": null,
      "justify_content": null,
      "justify_items": null,
      "left": null,
      "margin": null,
      "max_height": null,
      "max_width": null,
      "min_height": null,
      "min_width": null,
      "object_fit": null,
      "object_position": null,
      "order": null,
      "overflow": null,
      "overflow_x": null,
      "overflow_y": null,
      "padding": null,
      "right": null,
      "top": null,
      "visibility": null,
      "width": null
     }
    },
    "5f024481a1e24e629d43928fa8983c73": {
     "model_module": "@jupyter-widgets/base",
     "model_module_version": "1.2.0",
     "model_name": "LayoutModel",
     "state": {
      "_model_module": "@jupyter-widgets/base",
      "_model_module_version": "1.2.0",
      "_model_name": "LayoutModel",
      "_view_count": null,
      "_view_module": "@jupyter-widgets/base",
      "_view_module_version": "1.2.0",
      "_view_name": "LayoutView",
      "align_content": null,
      "align_items": null,
      "align_self": null,
      "border": null,
      "bottom": null,
      "display": null,
      "flex": null,
      "flex_flow": null,
      "grid_area": null,
      "grid_auto_columns": null,
      "grid_auto_flow": null,
      "grid_auto_rows": null,
      "grid_column": null,
      "grid_gap": null,
      "grid_row": null,
      "grid_template_areas": null,
      "grid_template_columns": null,
      "grid_template_rows": null,
      "height": null,
      "justify_content": null,
      "justify_items": null,
      "left": null,
      "margin": null,
      "max_height": null,
      "max_width": null,
      "min_height": null,
      "min_width": null,
      "object_fit": null,
      "object_position": null,
      "order": null,
      "overflow": null,
      "overflow_x": null,
      "overflow_y": null,
      "padding": null,
      "right": null,
      "top": null,
      "visibility": null,
      "width": null
     }
    },
    "6a0dd5e498ae4236bb4fe58bb8571de3": {
     "model_module": "@jupyter-widgets/controls",
     "model_module_version": "1.5.0",
     "model_name": "DescriptionStyleModel",
     "state": {
      "_model_module": "@jupyter-widgets/controls",
      "_model_module_version": "1.5.0",
      "_model_name": "DescriptionStyleModel",
      "_view_count": null,
      "_view_module": "@jupyter-widgets/base",
      "_view_module_version": "1.2.0",
      "_view_name": "StyleView",
      "description_width": ""
     }
    },
    "6f597b5a01314e128876aec5f429f274": {
     "model_module": "@jupyter-widgets/controls",
     "model_module_version": "1.5.0",
     "model_name": "HBoxModel",
     "state": {
      "_dom_classes": [],
      "_model_module": "@jupyter-widgets/controls",
      "_model_module_version": "1.5.0",
      "_model_name": "HBoxModel",
      "_view_count": null,
      "_view_module": "@jupyter-widgets/controls",
      "_view_module_version": "1.5.0",
      "_view_name": "HBoxView",
      "box_style": "",
      "children": [
       "IPY_MODEL_08198d8c901b4efbbfc4aa447a9bef6d",
       "IPY_MODEL_7bf9beeb450f47aca3f5064d94cbab9d",
       "IPY_MODEL_c958ff2d81944cc28a907a67bf195e05"
      ],
      "layout": "IPY_MODEL_1d11d5cde82b495bb8c75a188d0ec33a"
     }
    },
    "75bc4e88b92642f7a5dee66ff0cab4e1": {
     "model_module": "@jupyter-widgets/controls",
     "model_module_version": "1.5.0",
     "model_name": "HTMLModel",
     "state": {
      "_dom_classes": [],
      "_model_module": "@jupyter-widgets/controls",
      "_model_module_version": "1.5.0",
      "_model_name": "HTMLModel",
      "_view_count": null,
      "_view_module": "@jupyter-widgets/controls",
      "_view_module_version": "1.5.0",
      "_view_name": "HTMLView",
      "description": "",
      "description_tooltip": null,
      "layout": "IPY_MODEL_a1632696e11b4f6098f6a1d9098f64ec",
      "placeholder": "​",
      "style": "IPY_MODEL_21babc5d87d044dfb52aff26b41bb854",
      "value": "tokenizer_config.json: 100%"
     }
    },
    "7780cc7a600642aa82cf4d802393fc67": {
     "model_module": "@jupyter-widgets/base",
     "model_module_version": "1.2.0",
     "model_name": "LayoutModel",
     "state": {
      "_model_module": "@jupyter-widgets/base",
      "_model_module_version": "1.2.0",
      "_model_name": "LayoutModel",
      "_view_count": null,
      "_view_module": "@jupyter-widgets/base",
      "_view_module_version": "1.2.0",
      "_view_name": "LayoutView",
      "align_content": null,
      "align_items": null,
      "align_self": null,
      "border": null,
      "bottom": null,
      "display": null,
      "flex": null,
      "flex_flow": null,
      "grid_area": null,
      "grid_auto_columns": null,
      "grid_auto_flow": null,
      "grid_auto_rows": null,
      "grid_column": null,
      "grid_gap": null,
      "grid_row": null,
      "grid_template_areas": null,
      "grid_template_columns": null,
      "grid_template_rows": null,
      "height": null,
      "justify_content": null,
      "justify_items": null,
      "left": null,
      "margin": null,
      "max_height": null,
      "max_width": null,
      "min_height": null,
      "min_width": null,
      "object_fit": null,
      "object_position": null,
      "order": null,
      "overflow": null,
      "overflow_x": null,
      "overflow_y": null,
      "padding": null,
      "right": null,
      "top": null,
      "visibility": null,
      "width": null
     }
    },
    "7bf9beeb450f47aca3f5064d94cbab9d": {
     "model_module": "@jupyter-widgets/controls",
     "model_module_version": "1.5.0",
     "model_name": "FloatProgressModel",
     "state": {
      "_dom_classes": [],
      "_model_module": "@jupyter-widgets/controls",
      "_model_module_version": "1.5.0",
      "_model_name": "FloatProgressModel",
      "_view_count": null,
      "_view_module": "@jupyter-widgets/controls",
      "_view_module_version": "1.5.0",
      "_view_name": "ProgressView",
      "bar_style": "success",
      "description": "",
      "description_tooltip": null,
      "layout": "IPY_MODEL_05a191e9930c4bc4926ab842367b3797",
      "max": 90870598,
      "min": 0,
      "orientation": "horizontal",
      "style": "IPY_MODEL_b53692c1cfab4dbc88205a0b2ea5dbb6",
      "value": 90870598
     }
    },
    "7e7ddd8a59ef49b3845c9ffa2251db05": {
     "model_module": "@jupyter-widgets/controls",
     "model_module_version": "1.5.0",
     "model_name": "HTMLModel",
     "state": {
      "_dom_classes": [],
      "_model_module": "@jupyter-widgets/controls",
      "_model_module_version": "1.5.0",
      "_model_name": "HTMLModel",
      "_view_count": null,
      "_view_module": "@jupyter-widgets/controls",
      "_view_module_version": "1.5.0",
      "_view_name": "HTMLView",
      "description": "",
      "description_tooltip": null,
      "layout": "IPY_MODEL_567bc001627644cfa1ffe299f43d38bd",
      "placeholder": "​",
      "style": "IPY_MODEL_108383764845441ea566a0303f182e8c",
      "value": " 794/794 [00:00&lt;00:00, 52.8kB/s]"
     }
    },
    "87e4d3b50a644a0987b07814200963bb": {
     "model_module": "@jupyter-widgets/base",
     "model_module_version": "1.2.0",
     "model_name": "LayoutModel",
     "state": {
      "_model_module": "@jupyter-widgets/base",
      "_model_module_version": "1.2.0",
      "_model_name": "LayoutModel",
      "_view_count": null,
      "_view_module": "@jupyter-widgets/base",
      "_view_module_version": "1.2.0",
      "_view_name": "LayoutView",
      "align_content": null,
      "align_items": null,
      "align_self": null,
      "border": null,
      "bottom": null,
      "display": null,
      "flex": null,
      "flex_flow": null,
      "grid_area": null,
      "grid_auto_columns": null,
      "grid_auto_flow": null,
      "grid_auto_rows": null,
      "grid_column": null,
      "grid_gap": null,
      "grid_row": null,
      "grid_template_areas": null,
      "grid_template_columns": null,
      "grid_template_rows": null,
      "height": null,
      "justify_content": null,
      "justify_items": null,
      "left": null,
      "margin": null,
      "max_height": null,
      "max_width": null,
      "min_height": null,
      "min_width": null,
      "object_fit": null,
      "object_position": null,
      "order": null,
      "overflow": null,
      "overflow_x": null,
      "overflow_y": null,
      "padding": null,
      "right": null,
      "top": null,
      "visibility": null,
      "width": null
     }
    },
    "8818bafd601244d59634b565dbe0572f": {
     "model_module": "@jupyter-widgets/controls",
     "model_module_version": "1.5.0",
     "model_name": "HBoxModel",
     "state": {
      "_dom_classes": [],
      "_model_module": "@jupyter-widgets/controls",
      "_model_module_version": "1.5.0",
      "_model_name": "HBoxModel",
      "_view_count": null,
      "_view_module": "@jupyter-widgets/controls",
      "_view_module_version": "1.5.0",
      "_view_name": "HBoxView",
      "box_style": "",
      "children": [
       "IPY_MODEL_dc11fbdb1f18447ca037d5e654b77be7",
       "IPY_MODEL_f2333260aa634109b5aa98e925e79b36",
       "IPY_MODEL_7e7ddd8a59ef49b3845c9ffa2251db05"
      ],
      "layout": "IPY_MODEL_ada450e66f474d2eb952587d4249b1d0"
     }
    },
    "88dfe2ab7f3743a9b17673af792479ac": {
     "model_module": "@jupyter-widgets/controls",
     "model_module_version": "1.5.0",
     "model_name": "FloatProgressModel",
     "state": {
      "_dom_classes": [],
      "_model_module": "@jupyter-widgets/controls",
      "_model_module_version": "1.5.0",
      "_model_name": "FloatProgressModel",
      "_view_count": null,
      "_view_module": "@jupyter-widgets/controls",
      "_view_module_version": "1.5.0",
      "_view_name": "ProgressView",
      "bar_style": "success",
      "description": "",
      "description_tooltip": null,
      "layout": "IPY_MODEL_3d8b529e6e724463b8de7c7b478ed19e",
      "max": 231508,
      "min": 0,
      "orientation": "horizontal",
      "style": "IPY_MODEL_341541c3aa5f4927a9a1b7fff85968fe",
      "value": 231508
     }
    },
    "8ae857ff4e9e4d29b2dd9f6737e06f7b": {
     "model_module": "@jupyter-widgets/controls",
     "model_module_version": "1.5.0",
     "model_name": "HTMLModel",
     "state": {
      "_dom_classes": [],
      "_model_module": "@jupyter-widgets/controls",
      "_model_module_version": "1.5.0",
      "_model_name": "HTMLModel",
      "_view_count": null,
      "_view_module": "@jupyter-widgets/controls",
      "_view_module_version": "1.5.0",
      "_view_name": "HTMLView",
      "description": "",
      "description_tooltip": null,
      "layout": "IPY_MODEL_28a2b350f36f4048bd5b27617f5db553",
      "placeholder": "​",
      "style": "IPY_MODEL_9516273ac82845c894f9ec91e65bb8db",
      "value": " 112/112 [00:00&lt;00:00, 13.7kB/s]"
     }
    },
    "8b7d389a86644ddcb448a9ab2cad7e41": {
     "model_module": "@jupyter-widgets/controls",
     "model_module_version": "1.5.0",
     "model_name": "FloatProgressModel",
     "state": {
      "_dom_classes": [],
      "_model_module": "@jupyter-widgets/controls",
      "_model_module_version": "1.5.0",
      "_model_name": "FloatProgressModel",
      "_view_count": null,
      "_view_module": "@jupyter-widgets/controls",
      "_view_module_version": "1.5.0",
      "_view_name": "ProgressView",
      "bar_style": "success",
      "description": "",
      "description_tooltip": null,
      "layout": "IPY_MODEL_e885bb726eea4bf88c80fb8457913808",
      "max": 316,
      "min": 0,
      "orientation": "horizontal",
      "style": "IPY_MODEL_dc83f933f879469da40c97884619679a",
      "value": 316
     }
    },
    "8c895fc64e3d4c05b78a8546fbf29058": {
     "model_module": "@jupyter-widgets/base",
     "model_module_version": "1.2.0",
     "model_name": "LayoutModel",
     "state": {
      "_model_module": "@jupyter-widgets/base",
      "_model_module_version": "1.2.0",
      "_model_name": "LayoutModel",
      "_view_count": null,
      "_view_module": "@jupyter-widgets/base",
      "_view_module_version": "1.2.0",
      "_view_name": "LayoutView",
      "align_content": null,
      "align_items": null,
      "align_self": null,
      "border": null,
      "bottom": null,
      "display": null,
      "flex": null,
      "flex_flow": null,
      "grid_area": null,
      "grid_auto_columns": null,
      "grid_auto_flow": null,
      "grid_auto_rows": null,
      "grid_column": null,
      "grid_gap": null,
      "grid_row": null,
      "grid_template_areas": null,
      "grid_template_columns": null,
      "grid_template_rows": null,
      "height": null,
      "justify_content": null,
      "justify_items": null,
      "left": null,
      "margin": null,
      "max_height": null,
      "max_width": null,
      "min_height": null,
      "min_width": null,
      "object_fit": null,
      "object_position": null,
      "order": null,
      "overflow": null,
      "overflow_x": null,
      "overflow_y": null,
      "padding": null,
      "right": null,
      "top": null,
      "visibility": null,
      "width": null
     }
    },
    "92bafd7650a944128b1471abe72c028b": {
     "model_module": "@jupyter-widgets/controls",
     "model_module_version": "1.5.0",
     "model_name": "HBoxModel",
     "state": {
      "_dom_classes": [],
      "_model_module": "@jupyter-widgets/controls",
      "_model_module_version": "1.5.0",
      "_model_name": "HBoxModel",
      "_view_count": null,
      "_view_module": "@jupyter-widgets/controls",
      "_view_module_version": "1.5.0",
      "_view_name": "HBoxView",
      "box_style": "",
      "children": [
       "IPY_MODEL_bd0d455e0ec24790b1759575d6df35ae",
       "IPY_MODEL_4bd8df33d9b34f3fba8295e8a8cebd21",
       "IPY_MODEL_8ae857ff4e9e4d29b2dd9f6737e06f7b"
      ],
      "layout": "IPY_MODEL_d42c6f010aa9457385d9759c8621d27b"
     }
    },
    "9516273ac82845c894f9ec91e65bb8db": {
     "model_module": "@jupyter-widgets/controls",
     "model_module_version": "1.5.0",
     "model_name": "DescriptionStyleModel",
     "state": {
      "_model_module": "@jupyter-widgets/controls",
      "_model_module_version": "1.5.0",
      "_model_name": "DescriptionStyleModel",
      "_view_count": null,
      "_view_module": "@jupyter-widgets/base",
      "_view_module_version": "1.2.0",
      "_view_name": "StyleView",
      "description_width": ""
     }
    },
    "a1632696e11b4f6098f6a1d9098f64ec": {
     "model_module": "@jupyter-widgets/base",
     "model_module_version": "1.2.0",
     "model_name": "LayoutModel",
     "state": {
      "_model_module": "@jupyter-widgets/base",
      "_model_module_version": "1.2.0",
      "_model_name": "LayoutModel",
      "_view_count": null,
      "_view_module": "@jupyter-widgets/base",
      "_view_module_version": "1.2.0",
      "_view_name": "LayoutView",
      "align_content": null,
      "align_items": null,
      "align_self": null,
      "border": null,
      "bottom": null,
      "display": null,
      "flex": null,
      "flex_flow": null,
      "grid_area": null,
      "grid_auto_columns": null,
      "grid_auto_flow": null,
      "grid_auto_rows": null,
      "grid_column": null,
      "grid_gap": null,
      "grid_row": null,
      "grid_template_areas": null,
      "grid_template_columns": null,
      "grid_template_rows": null,
      "height": null,
      "justify_content": null,
      "justify_items": null,
      "left": null,
      "margin": null,
      "max_height": null,
      "max_width": null,
      "min_height": null,
      "min_width": null,
      "object_fit": null,
      "object_position": null,
      "order": null,
      "overflow": null,
      "overflow_x": null,
      "overflow_y": null,
      "padding": null,
      "right": null,
      "top": null,
      "visibility": null,
      "width": null
     }
    },
    "ada450e66f474d2eb952587d4249b1d0": {
     "model_module": "@jupyter-widgets/base",
     "model_module_version": "1.2.0",
     "model_name": "LayoutModel",
     "state": {
      "_model_module": "@jupyter-widgets/base",
      "_model_module_version": "1.2.0",
      "_model_name": "LayoutModel",
      "_view_count": null,
      "_view_module": "@jupyter-widgets/base",
      "_view_module_version": "1.2.0",
      "_view_name": "LayoutView",
      "align_content": null,
      "align_items": null,
      "align_self": null,
      "border": null,
      "bottom": null,
      "display": null,
      "flex": null,
      "flex_flow": null,
      "grid_area": null,
      "grid_auto_columns": null,
      "grid_auto_flow": null,
      "grid_auto_rows": null,
      "grid_column": null,
      "grid_gap": null,
      "grid_row": null,
      "grid_template_areas": null,
      "grid_template_columns": null,
      "grid_template_rows": null,
      "height": null,
      "justify_content": null,
      "justify_items": null,
      "left": null,
      "margin": null,
      "max_height": null,
      "max_width": null,
      "min_height": null,
      "min_width": null,
      "object_fit": null,
      "object_position": null,
      "order": null,
      "overflow": null,
      "overflow_x": null,
      "overflow_y": null,
      "padding": null,
      "right": null,
      "top": null,
      "visibility": null,
      "width": null
     }
    },
    "b53692c1cfab4dbc88205a0b2ea5dbb6": {
     "model_module": "@jupyter-widgets/controls",
     "model_module_version": "1.5.0",
     "model_name": "ProgressStyleModel",
     "state": {
      "_model_module": "@jupyter-widgets/controls",
      "_model_module_version": "1.5.0",
      "_model_name": "ProgressStyleModel",
      "_view_count": null,
      "_view_module": "@jupyter-widgets/base",
      "_view_module_version": "1.2.0",
      "_view_name": "StyleView",
      "bar_color": null,
      "description_width": ""
     }
    },
    "bb21ffdd035747d6abd19a1a5c776a67": {
     "model_module": "@jupyter-widgets/base",
     "model_module_version": "1.2.0",
     "model_name": "LayoutModel",
     "state": {
      "_model_module": "@jupyter-widgets/base",
      "_model_module_version": "1.2.0",
      "_model_name": "LayoutModel",
      "_view_count": null,
      "_view_module": "@jupyter-widgets/base",
      "_view_module_version": "1.2.0",
      "_view_name": "LayoutView",
      "align_content": null,
      "align_items": null,
      "align_self": null,
      "border": null,
      "bottom": null,
      "display": null,
      "flex": null,
      "flex_flow": null,
      "grid_area": null,
      "grid_auto_columns": null,
      "grid_auto_flow": null,
      "grid_auto_rows": null,
      "grid_column": null,
      "grid_gap": null,
      "grid_row": null,
      "grid_template_areas": null,
      "grid_template_columns": null,
      "grid_template_rows": null,
      "height": null,
      "justify_content": null,
      "justify_items": null,
      "left": null,
      "margin": null,
      "max_height": null,
      "max_width": null,
      "min_height": null,
      "min_width": null,
      "object_fit": null,
      "object_position": null,
      "order": null,
      "overflow": null,
      "overflow_x": null,
      "overflow_y": null,
      "padding": null,
      "right": null,
      "top": null,
      "visibility": null,
      "width": null
     }
    },
    "bd0d455e0ec24790b1759575d6df35ae": {
     "model_module": "@jupyter-widgets/controls",
     "model_module_version": "1.5.0",
     "model_name": "HTMLModel",
     "state": {
      "_dom_classes": [],
      "_model_module": "@jupyter-widgets/controls",
      "_model_module_version": "1.5.0",
      "_model_name": "HTMLModel",
      "_view_count": null,
      "_view_module": "@jupyter-widgets/controls",
      "_view_module_version": "1.5.0",
      "_view_name": "HTMLView",
      "description": "",
      "description_tooltip": null,
      "layout": "IPY_MODEL_c2450427527c4ae79fc2e32b711c6c8a",
      "placeholder": "​",
      "style": "IPY_MODEL_6a0dd5e498ae4236bb4fe58bb8571de3",
      "value": "special_tokens_map.json: 100%"
     }
    },
    "c0ef6e5aa2064c769ba11588d7e42ea6": {
     "model_module": "@jupyter-widgets/base",
     "model_module_version": "1.2.0",
     "model_name": "LayoutModel",
     "state": {
      "_model_module": "@jupyter-widgets/base",
      "_model_module_version": "1.2.0",
      "_model_name": "LayoutModel",
      "_view_count": null,
      "_view_module": "@jupyter-widgets/base",
      "_view_module_version": "1.2.0",
      "_view_name": "LayoutView",
      "align_content": null,
      "align_items": null,
      "align_self": null,
      "border": null,
      "bottom": null,
      "display": null,
      "flex": null,
      "flex_flow": null,
      "grid_area": null,
      "grid_auto_columns": null,
      "grid_auto_flow": null,
      "grid_auto_rows": null,
      "grid_column": null,
      "grid_gap": null,
      "grid_row": null,
      "grid_template_areas": null,
      "grid_template_columns": null,
      "grid_template_rows": null,
      "height": null,
      "justify_content": null,
      "justify_items": null,
      "left": null,
      "margin": null,
      "max_height": null,
      "max_width": null,
      "min_height": null,
      "min_width": null,
      "object_fit": null,
      "object_position": null,
      "order": null,
      "overflow": null,
      "overflow_x": null,
      "overflow_y": null,
      "padding": null,
      "right": null,
      "top": null,
      "visibility": null,
      "width": null
     }
    },
    "c2450427527c4ae79fc2e32b711c6c8a": {
     "model_module": "@jupyter-widgets/base",
     "model_module_version": "1.2.0",
     "model_name": "LayoutModel",
     "state": {
      "_model_module": "@jupyter-widgets/base",
      "_model_module_version": "1.2.0",
      "_model_name": "LayoutModel",
      "_view_count": null,
      "_view_module": "@jupyter-widgets/base",
      "_view_module_version": "1.2.0",
      "_view_name": "LayoutView",
      "align_content": null,
      "align_items": null,
      "align_self": null,
      "border": null,
      "bottom": null,
      "display": null,
      "flex": null,
      "flex_flow": null,
      "grid_area": null,
      "grid_auto_columns": null,
      "grid_auto_flow": null,
      "grid_auto_rows": null,
      "grid_column": null,
      "grid_gap": null,
      "grid_row": null,
      "grid_template_areas": null,
      "grid_template_columns": null,
      "grid_template_rows": null,
      "height": null,
      "justify_content": null,
      "justify_items": null,
      "left": null,
      "margin": null,
      "max_height": null,
      "max_width": null,
      "min_height": null,
      "min_width": null,
      "object_fit": null,
      "object_position": null,
      "order": null,
      "overflow": null,
      "overflow_x": null,
      "overflow_y": null,
      "padding": null,
      "right": null,
      "top": null,
      "visibility": null,
      "width": null
     }
    },
    "c2d11c0b81214bff9c2ddc7fdad56994": {
     "model_module": "@jupyter-widgets/controls",
     "model_module_version": "1.5.0",
     "model_name": "HTMLModel",
     "state": {
      "_dom_classes": [],
      "_model_module": "@jupyter-widgets/controls",
      "_model_module_version": "1.5.0",
      "_model_name": "HTMLModel",
      "_view_count": null,
      "_view_module": "@jupyter-widgets/controls",
      "_view_module_version": "1.5.0",
      "_view_name": "HTMLView",
      "description": "",
      "description_tooltip": null,
      "layout": "IPY_MODEL_c0ef6e5aa2064c769ba11588d7e42ea6",
      "placeholder": "​",
      "style": "IPY_MODEL_411acd4e57b241c3afc79ae5b09b1030",
      "value": "vocab.txt: 100%"
     }
    },
    "c2e13c23f5454052a6d6d0bb421fbe9c": {
     "model_module": "@jupyter-widgets/controls",
     "model_module_version": "1.5.0",
     "model_name": "HTMLModel",
     "state": {
      "_dom_classes": [],
      "_model_module": "@jupyter-widgets/controls",
      "_model_module_version": "1.5.0",
      "_model_name": "HTMLModel",
      "_view_count": null,
      "_view_module": "@jupyter-widgets/controls",
      "_view_module_version": "1.5.0",
      "_view_name": "HTMLView",
      "description": "",
      "description_tooltip": null,
      "layout": "IPY_MODEL_bb21ffdd035747d6abd19a1a5c776a67",
      "placeholder": "​",
      "style": "IPY_MODEL_ca10644b996842cbb17256efc40f794c",
      "value": " 232k/232k [00:00&lt;00:00, 3.43MB/s]"
     }
    },
    "c958ff2d81944cc28a907a67bf195e05": {
     "model_module": "@jupyter-widgets/controls",
     "model_module_version": "1.5.0",
     "model_name": "HTMLModel",
     "state": {
      "_dom_classes": [],
      "_model_module": "@jupyter-widgets/controls",
      "_model_module_version": "1.5.0",
      "_model_name": "HTMLModel",
      "_view_count": null,
      "_view_module": "@jupyter-widgets/controls",
      "_view_module_version": "1.5.0",
      "_view_name": "HTMLView",
      "description": "",
      "description_tooltip": null,
      "layout": "IPY_MODEL_87e4d3b50a644a0987b07814200963bb",
      "placeholder": "​",
      "style": "IPY_MODEL_28fc31c956e0402582ca71688bd06213",
      "value": " 90.9M/90.9M [00:00&lt;00:00, 185MB/s]"
     }
    },
    "ca10644b996842cbb17256efc40f794c": {
     "model_module": "@jupyter-widgets/controls",
     "model_module_version": "1.5.0",
     "model_name": "DescriptionStyleModel",
     "state": {
      "_model_module": "@jupyter-widgets/controls",
      "_model_module_version": "1.5.0",
      "_model_name": "DescriptionStyleModel",
      "_view_count": null,
      "_view_module": "@jupyter-widgets/base",
      "_view_module_version": "1.2.0",
      "_view_name": "StyleView",
      "description_width": ""
     }
    },
    "cd2e79fd0ec449d99027a7c9f1ba9165": {
     "model_module": "@jupyter-widgets/controls",
     "model_module_version": "1.5.0",
     "model_name": "HTMLModel",
     "state": {
      "_dom_classes": [],
      "_model_module": "@jupyter-widgets/controls",
      "_model_module_version": "1.5.0",
      "_model_name": "HTMLModel",
      "_view_count": null,
      "_view_module": "@jupyter-widgets/controls",
      "_view_module_version": "1.5.0",
      "_view_name": "HTMLView",
      "description": "",
      "description_tooltip": null,
      "layout": "IPY_MODEL_d9621fd6ba1b4e2aa839cc731e911ac1",
      "placeholder": "​",
      "style": "IPY_MODEL_0c4002e9958f4cf5bccc0bb0dd01506a",
      "value": " 316/316 [00:00&lt;00:00, 18.8kB/s]"
     }
    },
    "d3da6b7f7bd04f15a6e3c70c0db0da37": {
     "model_module": "@jupyter-widgets/controls",
     "model_module_version": "1.5.0",
     "model_name": "DescriptionStyleModel",
     "state": {
      "_model_module": "@jupyter-widgets/controls",
      "_model_module_version": "1.5.0",
      "_model_name": "DescriptionStyleModel",
      "_view_count": null,
      "_view_module": "@jupyter-widgets/base",
      "_view_module_version": "1.2.0",
      "_view_name": "StyleView",
      "description_width": ""
     }
    },
    "d42c6f010aa9457385d9759c8621d27b": {
     "model_module": "@jupyter-widgets/base",
     "model_module_version": "1.2.0",
     "model_name": "LayoutModel",
     "state": {
      "_model_module": "@jupyter-widgets/base",
      "_model_module_version": "1.2.0",
      "_model_name": "LayoutModel",
      "_view_count": null,
      "_view_module": "@jupyter-widgets/base",
      "_view_module_version": "1.2.0",
      "_view_name": "LayoutView",
      "align_content": null,
      "align_items": null,
      "align_self": null,
      "border": null,
      "bottom": null,
      "display": null,
      "flex": null,
      "flex_flow": null,
      "grid_area": null,
      "grid_auto_columns": null,
      "grid_auto_flow": null,
      "grid_auto_rows": null,
      "grid_column": null,
      "grid_gap": null,
      "grid_row": null,
      "grid_template_areas": null,
      "grid_template_columns": null,
      "grid_template_rows": null,
      "height": null,
      "justify_content": null,
      "justify_items": null,
      "left": null,
      "margin": null,
      "max_height": null,
      "max_width": null,
      "min_height": null,
      "min_width": null,
      "object_fit": null,
      "object_position": null,
      "order": null,
      "overflow": null,
      "overflow_x": null,
      "overflow_y": null,
      "padding": null,
      "right": null,
      "top": null,
      "visibility": null,
      "width": null
     }
    },
    "d8ea178907d34cf5b562cd1e4001b663": {
     "model_module": "@jupyter-widgets/base",
     "model_module_version": "1.2.0",
     "model_name": "LayoutModel",
     "state": {
      "_model_module": "@jupyter-widgets/base",
      "_model_module_version": "1.2.0",
      "_model_name": "LayoutModel",
      "_view_count": null,
      "_view_module": "@jupyter-widgets/base",
      "_view_module_version": "1.2.0",
      "_view_name": "LayoutView",
      "align_content": null,
      "align_items": null,
      "align_self": null,
      "border": null,
      "bottom": null,
      "display": null,
      "flex": null,
      "flex_flow": null,
      "grid_area": null,
      "grid_auto_columns": null,
      "grid_auto_flow": null,
      "grid_auto_rows": null,
      "grid_column": null,
      "grid_gap": null,
      "grid_row": null,
      "grid_template_areas": null,
      "grid_template_columns": null,
      "grid_template_rows": null,
      "height": null,
      "justify_content": null,
      "justify_items": null,
      "left": null,
      "margin": null,
      "max_height": null,
      "max_width": null,
      "min_height": null,
      "min_width": null,
      "object_fit": null,
      "object_position": null,
      "order": null,
      "overflow": null,
      "overflow_x": null,
      "overflow_y": null,
      "padding": null,
      "right": null,
      "top": null,
      "visibility": null,
      "width": null
     }
    },
    "d9621fd6ba1b4e2aa839cc731e911ac1": {
     "model_module": "@jupyter-widgets/base",
     "model_module_version": "1.2.0",
     "model_name": "LayoutModel",
     "state": {
      "_model_module": "@jupyter-widgets/base",
      "_model_module_version": "1.2.0",
      "_model_name": "LayoutModel",
      "_view_count": null,
      "_view_module": "@jupyter-widgets/base",
      "_view_module_version": "1.2.0",
      "_view_name": "LayoutView",
      "align_content": null,
      "align_items": null,
      "align_self": null,
      "border": null,
      "bottom": null,
      "display": null,
      "flex": null,
      "flex_flow": null,
      "grid_area": null,
      "grid_auto_columns": null,
      "grid_auto_flow": null,
      "grid_auto_rows": null,
      "grid_column": null,
      "grid_gap": null,
      "grid_row": null,
      "grid_template_areas": null,
      "grid_template_columns": null,
      "grid_template_rows": null,
      "height": null,
      "justify_content": null,
      "justify_items": null,
      "left": null,
      "margin": null,
      "max_height": null,
      "max_width": null,
      "min_height": null,
      "min_width": null,
      "object_fit": null,
      "object_position": null,
      "order": null,
      "overflow": null,
      "overflow_x": null,
      "overflow_y": null,
      "padding": null,
      "right": null,
      "top": null,
      "visibility": null,
      "width": null
     }
    },
    "dc11fbdb1f18447ca037d5e654b77be7": {
     "model_module": "@jupyter-widgets/controls",
     "model_module_version": "1.5.0",
     "model_name": "HTMLModel",
     "state": {
      "_dom_classes": [],
      "_model_module": "@jupyter-widgets/controls",
      "_model_module_version": "1.5.0",
      "_model_name": "HTMLModel",
      "_view_count": null,
      "_view_module": "@jupyter-widgets/controls",
      "_view_module_version": "1.5.0",
      "_view_name": "HTMLView",
      "description": "",
      "description_tooltip": null,
      "layout": "IPY_MODEL_8c895fc64e3d4c05b78a8546fbf29058",
      "placeholder": "​",
      "style": "IPY_MODEL_d3da6b7f7bd04f15a6e3c70c0db0da37",
      "value": "config.json: 100%"
     }
    },
    "dc83f933f879469da40c97884619679a": {
     "model_module": "@jupyter-widgets/controls",
     "model_module_version": "1.5.0",
     "model_name": "ProgressStyleModel",
     "state": {
      "_model_module": "@jupyter-widgets/controls",
      "_model_module_version": "1.5.0",
      "_model_name": "ProgressStyleModel",
      "_view_count": null,
      "_view_module": "@jupyter-widgets/base",
      "_view_module_version": "1.2.0",
      "_view_name": "StyleView",
      "bar_color": null,
      "description_width": ""
     }
    },
    "e5e02b87473d4c52b001152c1d91e438": {
     "model_module": "@jupyter-widgets/controls",
     "model_module_version": "1.5.0",
     "model_name": "ProgressStyleModel",
     "state": {
      "_model_module": "@jupyter-widgets/controls",
      "_model_module_version": "1.5.0",
      "_model_name": "ProgressStyleModel",
      "_view_count": null,
      "_view_module": "@jupyter-widgets/base",
      "_view_module_version": "1.2.0",
      "_view_name": "StyleView",
      "bar_color": null,
      "description_width": ""
     }
    },
    "e885bb726eea4bf88c80fb8457913808": {
     "model_module": "@jupyter-widgets/base",
     "model_module_version": "1.2.0",
     "model_name": "LayoutModel",
     "state": {
      "_model_module": "@jupyter-widgets/base",
      "_model_module_version": "1.2.0",
      "_model_name": "LayoutModel",
      "_view_count": null,
      "_view_module": "@jupyter-widgets/base",
      "_view_module_version": "1.2.0",
      "_view_name": "LayoutView",
      "align_content": null,
      "align_items": null,
      "align_self": null,
      "border": null,
      "bottom": null,
      "display": null,
      "flex": null,
      "flex_flow": null,
      "grid_area": null,
      "grid_auto_columns": null,
      "grid_auto_flow": null,
      "grid_auto_rows": null,
      "grid_column": null,
      "grid_gap": null,
      "grid_row": null,
      "grid_template_areas": null,
      "grid_template_columns": null,
      "grid_template_rows": null,
      "height": null,
      "justify_content": null,
      "justify_items": null,
      "left": null,
      "margin": null,
      "max_height": null,
      "max_width": null,
      "min_height": null,
      "min_width": null,
      "object_fit": null,
      "object_position": null,
      "order": null,
      "overflow": null,
      "overflow_x": null,
      "overflow_y": null,
      "padding": null,
      "right": null,
      "top": null,
      "visibility": null,
      "width": null
     }
    },
    "ee37379f837145babfa4ece7ea6c7c0c": {
     "model_module": "@jupyter-widgets/controls",
     "model_module_version": "1.5.0",
     "model_name": "DescriptionStyleModel",
     "state": {
      "_model_module": "@jupyter-widgets/controls",
      "_model_module_version": "1.5.0",
      "_model_name": "DescriptionStyleModel",
      "_view_count": null,
      "_view_module": "@jupyter-widgets/base",
      "_view_module_version": "1.2.0",
      "_view_name": "StyleView",
      "description_width": ""
     }
    },
    "f2333260aa634109b5aa98e925e79b36": {
     "model_module": "@jupyter-widgets/controls",
     "model_module_version": "1.5.0",
     "model_name": "FloatProgressModel",
     "state": {
      "_dom_classes": [],
      "_model_module": "@jupyter-widgets/controls",
      "_model_module_version": "1.5.0",
      "_model_name": "FloatProgressModel",
      "_view_count": null,
      "_view_module": "@jupyter-widgets/controls",
      "_view_module_version": "1.5.0",
      "_view_name": "ProgressView",
      "bar_style": "success",
      "description": "",
      "description_tooltip": null,
      "layout": "IPY_MODEL_5f024481a1e24e629d43928fa8983c73",
      "max": 794,
      "min": 0,
      "orientation": "horizontal",
      "style": "IPY_MODEL_08c04588852f400787ad6e072d723458",
      "value": 794
     }
    }
   }
  }
 },
 "nbformat": 4,
 "nbformat_minor": 5
}
